{
 "cells": [
  {
   "cell_type": "code",
   "execution_count": 1,
   "metadata": {},
   "outputs": [],
   "source": [
    "## this notebook aims to prepare EARNINGS CALL files for transcripton. that includes\n",
    "## - pre process to correct file formats/encoding \n",
    "## - take metadata about the audio\n",
    "## - submit a job for transcribing "
   ]
  },
  {
   "cell_type": "code",
   "execution_count": null,
   "metadata": {},
   "outputs": [],
   "source": [
    "# read audio file (full) -> upload from user or LINK \n",
    "# input meta for the file \n",
    "# transcribe \n",
    "\n",
    "\n"
   ]
  },
  {
   "cell_type": "code",
   "execution_count": null,
   "metadata": {},
   "outputs": [],
   "source": [
    "# upload to s3 -> for dev purpose 'data' folder is s3 \n",
    "# pull audio -> create meta -> start processing\n"
   ]
  },
  {
   "cell_type": "markdown",
   "metadata": {},
   "source": [
    "## meta \n",
    "- filename \n",
    "- type \n",
    "- format \n",
    "- url \n",
    "- length of audio \n",
    "- org name \n",
    "- about org/convo [optional]\n",
    "- number of speakers [opt]\n",
    "- "
   ]
  },
  {
   "cell_type": "code",
   "execution_count": null,
   "metadata": {},
   "outputs": [],
   "source": [
    "# note \n",
    "# transcript will be saved in the database as 'raw'.  post verification by user it is stored as final trx.\n",
    "# embedding happens post user validation \n",
    "# embedding strategy is default - tbd \n",
    "## default - full file, chunk "
   ]
  },
  {
   "cell_type": "code",
   "execution_count": null,
   "metadata": {},
   "outputs": [],
   "source": [
    "from enum import Enum \n",
    "from enums import tsFormats\n",
    "class RecordingTypes(Enum):\n",
    "    MP3 = 'mp3'\n",
    "    WAV = 'wav'\n",
    "    M4A = 'm4a'\n",
    "\n",
    "class RecordingTypes(Enum):\n",
    "   CONCALL = 'concall'\n",
    "   INTERVIEW = 'interview'\n",
    "   \n",
    "\n",
    "class AudioFileMeta:\n",
    "    def __init__(self, \n",
    "                 file_name:str, \n",
    "                 input_file_format:RecordingTypes,\n",
    "                 recording_type:RecordingTypes,\n",
    "                 audio_length:float,\n",
    "                 ) -> None:\n",
    "        \n",
    "        pass\n",
    "\n",
    "class TranscriptMetadata:\n",
    "    def __init__(self, \n",
    "                 audio_file_name:str, \n",
    "                 transcript_format:tsFormats,\n",
    "                    \n",
    "                 ) -> None:\n",
    "        \n",
    "        pass"
   ]
  }
 ],
 "metadata": {
  "kernelspec": {
   "display_name": ".venv",
   "language": "python",
   "name": "python3"
  },
  "language_info": {
   "codemirror_mode": {
    "name": "ipython",
    "version": 3
   },
   "file_extension": ".py",
   "mimetype": "text/x-python",
   "name": "python",
   "nbconvert_exporter": "python",
   "pygments_lexer": "ipython3",
   "version": "3.9.6"
  }
 },
 "nbformat": 4,
 "nbformat_minor": 2
}
