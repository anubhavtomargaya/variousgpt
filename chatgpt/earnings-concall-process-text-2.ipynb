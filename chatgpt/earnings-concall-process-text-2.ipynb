{
 "cells": [
  {
   "cell_type": "code",
   "execution_count": null,
   "metadata": {},
   "outputs": [],
   "source": [
    "## after getting one transcription text object from whisper (concatenated chunks) \n",
    "## use this notebook to develop further processing, like:\n",
    "## - calculate tokens for text\n",
    "## - cost of embedding \n",
    "## - embed in chunks \n",
    "## - schema to save file _ embedding in mongo \n",
    "## - derive \"timebar insight\" on the call - [INTRO, MANAGEMENT NOTE, ANALYST QA, ] \n",
    "## - derive \"highlights\" to summarise key takeaways based on intro and questions asked & answered \n",
    "## - in both the cases seek user to relevant time period upon choosing highlight/timestamp\n"
   ]
  }
 ],
 "metadata": {
  "language_info": {
   "name": "python"
  }
 },
 "nbformat": 4,
 "nbformat_minor": 2
}
