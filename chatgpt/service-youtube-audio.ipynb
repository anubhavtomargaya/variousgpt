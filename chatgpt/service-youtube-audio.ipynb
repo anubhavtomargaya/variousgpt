{
 "cells": [
  {
   "cell_type": "code",
   "execution_count": null,
   "metadata": {},
   "outputs": [],
   "source": [
    "# ## pytube error\n",
    "# In cipher.py locate:\n",
    "\n",
    "#     r'a\\.[a-zA-Z]\\s*&&\\s*\\([a-z]\\s*=\\s*a\\.get\\(\"n\"\\)\\)\\s*&&.*?\\|\\|\\s*([a-z]+)',\n",
    "#     r'\\([a-z]\\s*=\\s*([a-zA-Z0-9$]+)(\\[\\d+\\])?\\([a-z]\\)',\n",
    "# And replace by:\n",
    "\n",
    "#     r'a\\.[a-zA-Z]\\s*&&\\s*\\([a-z]\\s*=\\s*a\\.get\\(\"n\"\\)\\)\\s*&&.*?\\|\\|\\s*([a-z]+)',\n",
    "#     r'\\([a-z]\\s*=\\s*([a-zA-Z0-9$]+)(\\[\\d+\\])\\([a-z]\\)',"
   ]
  },
  {
   "cell_type": "code",
   "execution_count": 1,
   "metadata": {},
   "outputs": [
    {
     "ename": "ModuleNotFoundError",
     "evalue": "No module named 'pytube'",
     "output_type": "error",
     "traceback": [
      "\u001b[0;31m---------------------------------------------------------------------------\u001b[0m",
      "\u001b[0;31mModuleNotFoundError\u001b[0m                       Traceback (most recent call last)",
      "Input \u001b[0;32mIn [1]\u001b[0m, in \u001b[0;36m<cell line: 1>\u001b[0;34m()\u001b[0m\n\u001b[0;32m----> 1\u001b[0m \u001b[38;5;28;01mfrom\u001b[39;00m \u001b[38;5;21;01mpytube\u001b[39;00m \u001b[38;5;28;01mimport\u001b[39;00m YouTube\n\u001b[1;32m      2\u001b[0m \u001b[38;5;28;01mfrom\u001b[39;00m \u001b[38;5;21;01mdirs\u001b[39;00m \u001b[38;5;28;01mimport\u001b[39;00m YOUTUBE_DIR\n",
      "\u001b[0;31mModuleNotFoundError\u001b[0m: No module named 'pytube'"
     ]
    }
   ],
   "source": [
    "from pytube import YouTube\n",
    "from dirs import YOUTUBE_DIR"
   ]
  },
  {
   "cell_type": "code",
   "execution_count": 3,
   "metadata": {},
   "outputs": [],
   "source": [
    "# youtube_url = 'https://youtu.be/qsnXSd4iRYI?si=tck7vSlH4sXMhvfp'\n",
    "youtube_url = 'https://www.youtube.com/watch?v=Qa5SjIdsLE8'\n",
    "yt = YouTube(youtube_url)\n",
    "\n",
    "# print(\"starting stream check\")\n",
    "# print(\"made yt:\",yt.__dict__)\n",
    "# audio_stream = yt.streams.filter(only_audio=True).order_by('abr').desc().first()  # gave webm big file\n",
    "# audio_stream = yt.streams.filter(only_audio=True, file_extension=\"mp3\").order_by('abr').desc().first()  # Get highest bitrate MP3 audio\n",
    "# print(f\"got audio stream. ({audio_stream.__dict__})\")\n",
    "# Download the audio and handle potential errors\n",
    "\n",
    "# filena"
   ]
  },
  {
   "cell_type": "code",
   "execution_count": 4,
   "metadata": {},
   "outputs": [
    {
     "data": {
      "text/plain": [
       "[<Stream: itag=\"18\" mime_type=\"video/mp4\" res=\"360p\" fps=\"25fps\" vcodec=\"avc1.42001E\" acodec=\"mp4a.40.2\" progressive=\"True\" type=\"video\">, <Stream: itag=\"136\" mime_type=\"video/mp4\" res=\"720p\" fps=\"25fps\" vcodec=\"avc1.64001f\" progressive=\"False\" type=\"video\">, <Stream: itag=\"247\" mime_type=\"video/webm\" res=\"720p\" fps=\"25fps\" vcodec=\"vp9\" progressive=\"False\" type=\"video\">, <Stream: itag=\"135\" mime_type=\"video/mp4\" res=\"480p\" fps=\"25fps\" vcodec=\"avc1.4d401e\" progressive=\"False\" type=\"video\">, <Stream: itag=\"244\" mime_type=\"video/webm\" res=\"480p\" fps=\"25fps\" vcodec=\"vp9\" progressive=\"False\" type=\"video\">, <Stream: itag=\"134\" mime_type=\"video/mp4\" res=\"360p\" fps=\"25fps\" vcodec=\"avc1.4d401e\" progressive=\"False\" type=\"video\">, <Stream: itag=\"243\" mime_type=\"video/webm\" res=\"360p\" fps=\"25fps\" vcodec=\"vp9\" progressive=\"False\" type=\"video\">, <Stream: itag=\"133\" mime_type=\"video/mp4\" res=\"240p\" fps=\"25fps\" vcodec=\"avc1.4d4015\" progressive=\"False\" type=\"video\">, <Stream: itag=\"242\" mime_type=\"video/webm\" res=\"240p\" fps=\"25fps\" vcodec=\"vp9\" progressive=\"False\" type=\"video\">, <Stream: itag=\"160\" mime_type=\"video/mp4\" res=\"144p\" fps=\"25fps\" vcodec=\"avc1.4d400c\" progressive=\"False\" type=\"video\">, <Stream: itag=\"278\" mime_type=\"video/webm\" res=\"144p\" fps=\"25fps\" vcodec=\"vp9\" progressive=\"False\" type=\"video\">, <Stream: itag=\"139\" mime_type=\"audio/mp4\" abr=\"48kbps\" acodec=\"mp4a.40.5\" progressive=\"False\" type=\"audio\">, <Stream: itag=\"140\" mime_type=\"audio/mp4\" abr=\"128kbps\" acodec=\"mp4a.40.2\" progressive=\"False\" type=\"audio\">, <Stream: itag=\"249\" mime_type=\"audio/webm\" abr=\"50kbps\" acodec=\"opus\" progressive=\"False\" type=\"audio\">, <Stream: itag=\"250\" mime_type=\"audio/webm\" abr=\"70kbps\" acodec=\"opus\" progressive=\"False\" type=\"audio\">, <Stream: itag=\"251\" mime_type=\"audio/webm\" abr=\"160kbps\" acodec=\"opus\" progressive=\"False\" type=\"audio\">]"
      ]
     },
     "execution_count": 4,
     "metadata": {},
     "output_type": "execute_result"
    }
   ],
   "source": [
    "yt.streams"
   ]
  },
  {
   "cell_type": "code",
   "execution_count": 5,
   "metadata": {},
   "outputs": [],
   "source": [
    "streams = yt.streams.filter(only_audio=True, ).order_by('abr').asc().first()"
   ]
  },
  {
   "cell_type": "code",
   "execution_count": 5,
   "metadata": {},
   "outputs": [
    {
     "data": {
      "text/plain": [
       "'/Users/anubhavtomar/2023_projects/chatgpt/chatgpt/data/youtube/Q4 FY24 Earnings Conference Call.mp4'"
      ]
     },
     "execution_count": 5,
     "metadata": {},
     "output_type": "execute_result"
    }
   ],
   "source": [
    "streams = yt.streams.filter(only_audio=True, ).order_by('abr').asc().first()\n",
    "streams.download(output_path=YOUTUBE_DIR,filename=streams.default_filename)"
   ]
  },
  {
   "cell_type": "code",
   "execution_count": 93,
   "metadata": {},
   "outputs": [
    {
     "data": {
      "text/plain": [
       "{'_monostate': <pytube.monostate.Monostate at 0x107749ee0>,\n",
       " 'url': 'https://rr5---sn-5jucgv5qc5oq-cagr.googlevideo.com/videoplayback?expire=1718473152&ei=YH1tZt3cFMSqjuMPweGCoAQ&ip=106.51.237.226&id=o-AEbi9rlcfa0wpAz4583B1TIyw5gGIlvw6coLHJrVb_4t&itag=139&source=youtube&requiressl=yes&xpc=EgVo2aDSNQ%3D%3D&mh=H3&mm=31%2C29&mn=sn-5jucgv5qc5oq-cagr%2Csn-h5576nsd&ms=au%2Crdu&mv=m&mvi=5&pl=22&initcwndbps=1532500&bui=AbKP-1N7MybdBeMzc_s3IigTD5CZj29DGLrgIthoxNzMUsSxw47RZ-QnfgT_opIDodUuRKtxTw6WuQNJ&vprv=1&mime=audio%2Fmp4&rqh=1&gir=yes&clen=22581470&dur=3703.118&lmt=1715798867622921&mt=1718450954&fvip=1&keepalive=yes&c=ANDROID_EMBEDDED_PLAYER&txp=5308224&sparams=expire%2Cei%2Cip%2Cid%2Citag%2Csource%2Crequiressl%2Cxpc%2Cbui%2Cvprv%2Cmime%2Crqh%2Cgir%2Cclen%2Cdur%2Clmt&sig=AJfQdSswRQIhAJoMgFhyJIkzsxqEv6iwZ39xLiUYAuo5xoFACMusjciYAiBPjPZwOGlziQGOliO2CgTMD7YL2Grr_lgRVTJvEAjVPg%3D%3D&lsparams=mh%2Cmm%2Cmn%2Cms%2Cmv%2Cmvi%2Cpl%2Cinitcwndbps&lsig=AHlkHjAwRAIgPk8mzfz_h3sMRY7MTvD6RK9VxZKjpOAnkMMzM23ABLoCIH38l8tA63M2t2PrudUFQwOHFNnsQyIrpYE98-T0-lmZ',\n",
       " 'itag': 139,\n",
       " 'mime_type': 'audio/mp4',\n",
       " 'codecs': ['mp4a.40.5'],\n",
       " 'type': 'audio',\n",
       " 'subtype': 'mp4',\n",
       " 'video_codec': None,\n",
       " 'audio_codec': 'mp4a.40.5',\n",
       " 'is_otf': False,\n",
       " 'bitrate': 53122,\n",
       " '_filesize': 22581470,\n",
       " '_filesize_kb': 22052.217,\n",
       " '_filesize_mb': 21.536,\n",
       " '_filesize_gb': 0.022,\n",
       " 'is_dash': True,\n",
       " 'abr': '48kbps',\n",
       " 'resolution': None,\n",
       " 'is_3d': False,\n",
       " 'is_hdr': False,\n",
       " 'is_live': False}"
      ]
     },
     "execution_count": 93,
     "metadata": {},
     "output_type": "execute_result"
    }
   ],
   "source": [
    "yt.streams.filter(only_audio=True, ).order_by('abr').asc().first().__dict__"
   ]
  },
  {
   "cell_type": "code",
   "execution_count": 6,
   "metadata": {},
   "outputs": [
    {
     "data": {
      "text/plain": [
       "[<Stream: itag=\"18\" mime_type=\"video/mp4\" res=\"360p\" fps=\"6fps\" vcodec=\"avc1.42001E\" acodec=\"mp4a.40.2\" progressive=\"True\" type=\"video\">, <Stream: itag=\"22\" mime_type=\"video/mp4\" res=\"720p\" fps=\"6fps\" vcodec=\"avc1.64001F\" acodec=\"mp4a.40.2\" progressive=\"True\" type=\"video\">]"
      ]
     },
     "execution_count": 6,
     "metadata": {},
     "output_type": "execute_result"
    }
   ],
   "source": [
    "yt.streams.filter(progressive=True)"
   ]
  },
  {
   "cell_type": "code",
   "execution_count": 19,
   "metadata": {},
   "outputs": [
    {
     "data": {
      "text/plain": [
       "[139, 140, 249, 250, 251]"
      ]
     },
     "execution_count": 19,
     "metadata": {},
     "output_type": "execute_result"
    }
   ],
   "source": [
    "[{x.itag : x.abr} for x in yt.streams.filter(only_audio=True)]"
   ]
  },
  {
   "cell_type": "code",
   "execution_count": 18,
   "metadata": {},
   "outputs": [
    {
     "data": {
      "text/plain": [
       "<Stream: itag=\"140\" mime_type=\"audio/mp4\" abr=\"128kbps\" acodec=\"mp4a.40.2\" progressive=\"False\" type=\"audio\">"
      ]
     },
     "execution_count": 18,
     "metadata": {},
     "output_type": "execute_result"
    }
   ],
   "source": [
    "yt.streams.get_audio_only(subtype='mp4')"
   ]
  },
  {
   "cell_type": "code",
   "execution_count": 23,
   "metadata": {},
   "outputs": [
    {
     "data": {
      "text/plain": [
       "<Stream: itag=\"139\" mime_type=\"audio/mp4\" abr=\"48kbps\" acodec=\"mp4a.40.5\" progressive=\"False\" type=\"audio\">"
      ]
     },
     "execution_count": 23,
     "metadata": {},
     "output_type": "execute_result"
    }
   ],
   "source": [
    "stream = yt.streams.get_by_itag(139)\n",
    "stream"
   ]
  },
  {
   "cell_type": "code",
   "execution_count": 28,
   "metadata": {},
   "outputs": [
    {
     "data": {
      "text/plain": [
       "61.72"
      ]
     },
     "execution_count": 28,
     "metadata": {},
     "output_type": "execute_result"
    }
   ],
   "source": [
    "length = round(yt.length / 60, 2)\n"
   ]
  },
  {
   "cell_type": "code",
   "execution_count": 96,
   "metadata": {},
   "outputs": [
    {
     "data": {
      "text/plain": [
       "'Neuland_Laboratories_Ltd_Q4_FY2023-24_Earnings_Conference_Call.mp4'"
      ]
     },
     "execution_count": 96,
     "metadata": {},
     "output_type": "execute_result"
    }
   ],
   "source": [
    "stream.default_filename.replace(' ','_')"
   ]
  },
  {
   "cell_type": "code",
   "execution_count": null,
   "metadata": {},
   "outputs": [],
   "source": []
  },
  {
   "cell_type": "code",
   "execution_count": null,
   "metadata": {},
   "outputs": [],
   "source": []
  },
  {
   "cell_type": "code",
   "execution_count": null,
   "metadata": {},
   "outputs": [],
   "source": []
  },
  {
   "cell_type": "code",
   "execution_count": 60,
   "metadata": {},
   "outputs": [],
   "source": [
    "class YoutubeMetadata:\n",
    "    def __init__(self, \n",
    "                 title,\n",
    "                 file_path,\n",
    "                 thumbnail_url,\n",
    "                 description,\n",
    "                 length_minutes) -> None:\n",
    "        \n",
    "        self.title = title\n",
    "        self.file_path = file_path\n",
    "        self.thumbnail_url = thumbnail_url\n",
    "        self.description = description\n",
    "        self.length_minutes = length_minutes"
   ]
  },
  {
   "cell_type": "code",
   "execution_count": 61,
   "metadata": {},
   "outputs": [],
   "source": [
    "meta = YoutubeMetadata(title=yt.title,\n",
    "                file_path='',\n",
    "                thumbnail_url=yt.thumbnail_url,\n",
    "                description=yt.description,\n",
    "                length_minutes= round(yt.length / 60, 2) )"
   ]
  },
  {
   "cell_type": "code",
   "execution_count": 67,
   "metadata": {},
   "outputs": [],
   "source": [
    "import json\n",
    "\n",
    "\n",
    "with open( 'ff.json', 'a') as fw:\n",
    "    json.dump(meta.__dict__,fw)"
   ]
  },
  {
   "cell_type": "code",
   "execution_count": 84,
   "metadata": {},
   "outputs": [],
   "source": [
    "meta.title='dadasdasda'\n",
    "with open('ff.json', 'a+') as f:\n",
    "    try:\n",
    "        existing_data = json.load(f)\n",
    "    except json.JSONDecodeError:\n",
    "        existing_data = []\n",
    "    existing_data.append(meta.__dict__)\n",
    "    json.dump(existing_data, f, indent=4) "
   ]
  },
  {
   "cell_type": "code",
   "execution_count": 90,
   "metadata": {},
   "outputs": [],
   "source": [
    "meta.title='dasdasd'"
   ]
  },
  {
   "cell_type": "code",
   "execution_count": 91,
   "metadata": {},
   "outputs": [],
   "source": [
    "with open('ff.json', 'r+') as f:\n",
    "    existing_data = json.load(f)\n",
    "existing_data.append(meta.__dict__)\n",
    "\n",
    "with open('ff.json', 'w+') as f:\n",
    "    json.dump(existing_data,f,indent=4)\n"
   ]
  },
  {
   "cell_type": "code",
   "execution_count": null,
   "metadata": {},
   "outputs": [],
   "source": []
  },
  {
   "cell_type": "code",
   "execution_count": null,
   "metadata": {},
   "outputs": [],
   "source": []
  },
  {
   "cell_type": "code",
   "execution_count": 44,
   "metadata": {},
   "outputs": [
    {
     "data": {
      "text/plain": [
       "{'url': 'https://www.youtube.com/api/timedtext?v=qsnXSd4iRYI&ei=YH1tZt3cFMSqjuMPweGCoAQ&caps=asr&opi=112496729&xoaf=5&hl=en&ip=0.0.0.0&ipbits=0&expire=1718476752&sparams=ip,ipbits,expire,v,ei,caps,opi,xoaf&signature=C5B8801BD2658FB2213603AB66AA7B77C2358291.8A8C46F5A12180211B032D80041545CE1FF25C&key=yt8&kind=asr&lang=en&fmt=srv3',\n",
       " 'name': 'English (auto-generated)',\n",
       " 'code': 'a.en'}"
      ]
     },
     "execution_count": 44,
     "metadata": {},
     "output_type": "execute_result"
    }
   ],
   "source": [
    "yt.captions.lang_code_index['a.en'].__dict__"
   ]
  },
  {
   "cell_type": "code",
   "execution_count": 24,
   "metadata": {},
   "outputs": [
    {
     "data": {
      "text/plain": [
       "'/Users/anubhavtomar/2023_projects/chatgpt/chatgpt/ad.mp3/Neuland Laboratories Ltd Q4 FY2023-24 Earnings Conference Call.mp4'"
      ]
     },
     "execution_count": 24,
     "metadata": {},
     "output_type": "execute_result"
    }
   ],
   "source": [
    "stream.download('ad.mp3')"
   ]
  },
  {
   "cell_type": "code",
   "execution_count": 46,
   "metadata": {},
   "outputs": [
    {
     "data": {
      "text/plain": [
       "'/Users/anubhavtomar/2023_projects/chatgpt/chatgpt/data/youtube/neuland_mp4'"
      ]
     },
     "execution_count": 46,
     "metadata": {},
     "output_type": "execute_result"
    }
   ],
   "source": [
    "stream2 = yt.streams.get_audio_only(subtype='mp4')\n",
    "stream2.download(output_path=YOUTUBE_DIR,filename='neuland_mp4')\n",
    "## 3 minutes!!"
   ]
  }
 ],
 "metadata": {
  "kernelspec": {
   "display_name": ".venv",
   "language": "python",
   "name": "python3"
  },
  "language_info": {
   "codemirror_mode": {
    "name": "ipython",
    "version": 3
   },
   "file_extension": ".py",
   "mimetype": "text/x-python",
   "name": "python",
   "nbconvert_exporter": "python",
   "pygments_lexer": "ipython3",
   "version": "3.8.10"
  }
 },
 "nbformat": 4,
 "nbformat_minor": 2
}
