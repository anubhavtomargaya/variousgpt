{
 "cells": [
  {
   "cell_type": "code",
   "execution_count": 1,
   "metadata": {},
   "outputs": [],
   "source": [
    "## use the summary json file ot  answer questions based on the data \n",
    "## do embedding"
   ]
  },
  {
   "cell_type": "code",
   "execution_count": 2,
   "metadata": {},
   "outputs": [
    {
     "name": "stderr",
     "output_type": "stream",
     "text": [
      "/Users/anubhavtomar/2023_projects/chatgpt/.venv/lib/python3.9/site-packages/urllib3/__init__.py:35: NotOpenSSLWarning: urllib3 v2 only supports OpenSSL 1.1.1+, currently the 'ssl' module is compiled with 'LibreSSL 2.8.3'. See: https://github.com/urllib3/urllib3/issues/3020\n",
      "  warnings.warn(\n"
     ]
    }
   ],
   "source": [
    "from utils import get_openai_key\n",
    "\n",
    "\n",
    "key = get_openai_key()"
   ]
  },
  {
   "cell_type": "code",
   "execution_count": null,
   "metadata": {},
   "outputs": [],
   "source": []
  },
  {
   "cell_type": "code",
   "execution_count": 1,
   "metadata": {},
   "outputs": [],
   "source": [
    "## open file \n",
    "from pathlib import Path\n",
    "from dirs import *\n",
    "import json\n",
    "\n",
    "file_name = 'morepen_summary_32.json'\n",
    "def load_summary(file_name)->dict:\n",
    "    file_path = Path(SUMMARY_DIR,file_name)\n",
    "    with open(file_path, 'r') as fr:\n",
    "        return json.load(fr)\n",
    "    \n",
    "def load_summary_embedded(file_name)->dict:\n",
    "    file_path = Path(EMBEDDING_DIR,file_name)\n",
    "    with open(file_path, 'r') as fr:\n",
    "        return json.load(fr)\n",
    "    \n",
    "def save_summary(doc, file_name):\n",
    "     file_path =  Path(SUMMARY_DIR,file_name)\n",
    "     with open(file_path, 'w') as fw:\n",
    "        return json.dump(doc,fw)\n"
   ]
  },
  {
   "cell_type": "code",
   "execution_count": null,
   "metadata": {},
   "outputs": [],
   "source": [
    "\n",
    "doc = load_summary(file_name)\n",
    "type(doc)"
   ]
  },
  {
   "cell_type": "code",
   "execution_count": null,
   "metadata": {},
   "outputs": [],
   "source": []
  },
  {
   "cell_type": "code",
   "execution_count": 5,
   "metadata": {},
   "outputs": [
    {
     "name": "stderr",
     "output_type": "stream",
     "text": [
      "/Users/anubhavtomar/2023_projects/chatgpt/.venv/lib/python3.9/site-packages/urllib3/__init__.py:35: NotOpenSSLWarning: urllib3 v2 only supports OpenSSL 1.1.1+, currently the 'ssl' module is compiled with 'LibreSSL 2.8.3'. See: https://github.com/urllib3/urllib3/issues/3020\n",
      "  warnings.warn(\n"
     ]
    }
   ],
   "source": [
    "from utils import get_openai_client\n",
    "from utils_openai import get_embedding\n"
   ]
  },
  {
   "cell_type": "code",
   "execution_count": 11,
   "metadata": {},
   "outputs": [],
   "source": [
    "# for k,v in doc.items():\n",
    "#     doc[k]['embedding'] = get_embedding(client,doc[k]['chunk_text']) "
   ]
  },
  {
   "cell_type": "code",
   "execution_count": 6,
   "metadata": {},
   "outputs": [],
   "source": [
    "## save the embedded doc\n",
    "# save_summary(doc,f'embedded_{file_name}')"
   ]
  },
  {
   "cell_type": "code",
   "execution_count": 10,
   "metadata": {},
   "outputs": [],
   "source": [
    "doc = load_summary_embedded(file_name)\n",
    "client = get_openai_client()"
   ]
  },
  {
   "cell_type": "code",
   "execution_count": 11,
   "metadata": {},
   "outputs": [],
   "source": [
    "\n",
    "question = \"What was the overall performance of the company in the last quarter?\"\n",
    "question_embedding = get_embedding(client,question)\n"
   ]
  },
  {
   "cell_type": "code",
   "execution_count": 12,
   "metadata": {},
   "outputs": [],
   "source": [
    "\n",
    "import numpy as np\n",
    "\n",
    "\n",
    "def cosine_similarity(a, b):\n",
    "    a = np.array(a)\n",
    "    b = np.array(b)\n",
    "    return np.dot(a, b) / (np.linalg.norm(a) * np.linalg.norm(b))\n",
    "\n",
    "# Function to find top N most relevant chunks based on the question\n",
    "def find_top_chunks(doc, question_embedding, top_n=3):\n",
    "    similarities = []\n",
    "    for key, value in doc.items():\n",
    "        chunk_embedding = value['embedding']\n",
    "        similarity = cosine_similarity(question_embedding, chunk_embedding)\n",
    "        similarities.append((key, similarity))\n",
    "    \n",
    "    # Sort chunks by similarity in descending order\n",
    "    similarities.sort(key=lambda x: x[1], reverse=True)\n",
    "    \n",
    "    # Get the top N chunks\n",
    "    top_chunks = [doc[key] for key, _ in similarities[:top_n]]\n",
    "    return top_chunks\n"
   ]
  },
  {
   "cell_type": "code",
   "execution_count": 13,
   "metadata": {},
   "outputs": [],
   "source": [
    "top_chunks = find_top_chunks(doc, question_embedding)"
   ]
  },
  {
   "cell_type": "code",
   "execution_count": 14,
   "metadata": {},
   "outputs": [
    {
     "data": {
      "text/plain": [
       "3"
      ]
     },
     "execution_count": 14,
     "metadata": {},
     "output_type": "execute_result"
    }
   ],
   "source": [
    "len(top_chunks)"
   ]
  },
  {
   "cell_type": "code",
   "execution_count": 15,
   "metadata": {},
   "outputs": [],
   "source": [
    "summaries = [c['summary'] for c in top_chunks]\n",
    "texts = [c['chunk_text'] for c in top_chunks]"
   ]
  },
  {
   "cell_type": "code",
   "execution_count": 16,
   "metadata": {},
   "outputs": [
    {
     "data": {
      "text/plain": [
       "[\"r is usually slow in this business. Formulations have grown 2%. Seventy-one percent of the business comes from the medicine side, and 29% of the business comes from the OTC side. On the distribution side, we have more than 5,000 distributors, 5,100 distributors. We are present in 3 lakh outlets, 3.28 lakh outlets taken together. And all over the country, we are present. 580 people are there in all the states for the selling. The GenMix are distributed separately to a separate company. It was a single distributor. But otherwise, we have got service centers. We have got distributors all over the country. I'm not getting into detail of plans. Financial numbers have already been circulated. So as I shared that gross revenue during the quarter – I'm talking about the quarter now. During the quarter, the gross revenues have gone up 16.5%. EBITDA has gone up 182%, from 18 crores to 52 crores EBITDA. EBITDA level has gone from 5% to 12.31%. So it's more than double as a percentage because the revenue has jumped, and of course, gross margins have increased. Profit before tax also has almost three times, from 3% to 9.88%, from 11 crores to 42 crores. There's a 279% increase in value. And on percentage terms, it's almost three times. Profit after tax – that was profit before tax. Now profit after tax, as was last year, was very low, 2.25%. Profit after tax is 6.73%. This is almost 259%. So those are the quarterly numbers. On an annual basis, I shared earlier, 20% revenue growth, 101% EBITDA growth. And, of course, EBITDA is 10.13%. After now, time has come in double digits. Profit before tax, 143% increase. PAT is 150%. PAT is still low, 5.67%. We are actually – as the revenue goes up, the PAT will increase. So still we are in that 100-crore bracket. 97 crores is the PAT. So on the financial ratios also, we see significant improvement. That's the ultimate parameter. Our KPI is retracted with the ratios. Earnings per share has gone by 144%. So based on the March quarter results and annual results, the earnings per share is 1 rupee and 88 paisa. So for a 2-rupee share. And return on equity is 11%, as against 5% last year. So return on equity is also doubled. Return on the capital employed, which includes the working capital also, is almost doubled from 7.31% to 15%. Asset turnover ratio we have been maintaining in spite of the new addition of machinery. It's almost nine times. And that equity ratio is negligible because we are a debt-free company. It is 0.03, which is \",\n",
       " \"at we have been able to do. In both medical devices, we have two leading products, BP monitor and glucose monitor. One is a glucose monitoring machine. And wherein you buy the meter, and then you buy the strip battery. One is a blood pressure monitor. We are the market leaders in both the products. And we are manufacturing it in-house. In-house means we are manufacturing it out of a factory. And we are manufacturing it for basic bare PCBs. And there's a full assembly line for that. I'll come to that later. And within API, we are category leaders in six APIs, six small products. So I don't want to confuse you with the name. But just to mention, these are Loratadine, Desloratadine, Montego Card. And there are three more products where we are third and fourth. So there are six products where we are market leaders. So all APIs are exported. Around 68% of our business in the API is from export. Hard currency, dollar export to advanced countries, regulated markets. And of course, the company has been consistently growing, both in top line and bottom line. With the help of the internal cash approval, the company has been able to clear all its old debts with all the banks. And in whatever structure we are, we are a debt-free company. It's negligible debt. When you say negligible debt, it means a simple car loan or other things. Rather, we have fixed deposits in the bank, which are sometimes used for an overdraft facility. So we are a debt-free company. So as we talk, we are celebrating the 40th year of our journey. And we proudly say that we have entered into this 40th year with more energy, more agility, and more performance-oriented approach. We are making more and more decisions in the company on how do we improve our performance and how do we better our prospects. That was a broad theme. Coming specifically to the operational performance, during this year, the revenue has grown by 20%. From 1,424 crores, we have grown to 1,704 crores. So almost 20%, 19.97%. 20% growth in the annual revenue. On a quarterly basis also, the revenue has grown 16.5% for the Q4. So consistently for the nine months also, there was an increase. And here as a whole, it's 20% increase. And just to update you that last year, the year was not so good. But because post-COVID, there was a lot of inventory in the markets, and the markets were a bit slower. Now there's a good comeback, and the fresh buying has started. And particularly in medical devices, because it is primarily based in Indi\",\n",
       " \"se. And here as a whole, it's 20% increase. And just to update you that last year, the year was not so good. But because post-COVID, there was a lot of inventory in the markets, and the markets were a bit slower. Now there's a good comeback, and the fresh buying has started. And particularly in medical devices, because it is primarily based in India, so we have better access and better controls. So the comeback and the rollback is much faster. So medical devices have grown by 35%. API business has grown by 14%. Some countries are still shying away. And of course, on the positive side, last couple of years, import prices, particularly from China, were disturbed. And rather, they were higher than expected. But now the import prices have also softened, and our margins have increased in the last three, four quarters. We're happy to announce. And of course, you can see in the base of it that the company's overall productivity and margins have gone up. A picture of the company, which is the earnings before interest depreciation, and of course, the taxation. So it has doubled, more than 101% increase from 85 crore in EBITDA last year. We have 173 crore, almost 173 crore in EBITDA, 172.6. And profit after tax also is 150% up. It's two and a half times, from 38 crores to almost 97 crores. So 39 crores to 97 crores, annual path has gone up. It's almost 150% increase. And as I shared that we are a debt-free company, so whatever is annual EBITDA, all we're seeing is the cash generation. So with 83 crore of these cash generation, this year we have 164 crores, 168 crores of cash generation, which is almost 100% up. So we are seeing that whatever the temporary blip was there in the last year, so we have covered quarter after quarter. It has taken a little longer than usual, but we are very comfortable with the margins profile now. So if we go specifically to the segment-wide, as I shared that our main lead segment, the fastest-growing segment is medical devices. So within medical devices, our DC monitor and gluco monitor are the two products. Gluco monitor, as per the industry report, we have 19%. Of course, the competition may be almost similar or less, but in our actual strict supplies or regular quarter-to-quarter sales, we are leading. And similarly, in case of BP monitor, we have 18% market share, as done by the industry report. All these products are manufactured in-house, and we started production back in 2015. And of course, earlier, these were imported. And gluc\"]"
      ]
     },
     "execution_count": 16,
     "metadata": {},
     "output_type": "execute_result"
    }
   ],
   "source": [
    "texts"
   ]
  },
  {
   "cell_type": "code",
   "execution_count": 17,
   "metadata": {},
   "outputs": [],
   "source": [
    "def create_prompt(top_chunks, question):\n",
    "    prompt = \"You are an expert analyst. Answer the following question based on the provided sections of a document.\\n\\n\"\n",
    "    \n",
    "    for chunk in top_chunks:\n",
    "        section = chunk['section']\n",
    "        # summary = chunk['summary']\n",
    "        texts = chunk['chunk_text']\n",
    "        prompt += f\"{section}: {texts}\\n\\n\"\n",
    "    \n",
    "    prompt += f\"Question: {question}\\n\"\n",
    "    return prompt"
   ]
  },
  {
   "cell_type": "code",
   "execution_count": 18,
   "metadata": {},
   "outputs": [],
   "source": [
    "prompt = create_prompt(top_chunks,question)"
   ]
  },
  {
   "cell_type": "code",
   "execution_count": 19,
   "metadata": {},
   "outputs": [],
   "source": [
    "from constants import DEFAULT_TEMPERATURE, DEFAULT_TOP_P\n",
    "\n",
    "\n",
    "system_content =  \"You are a helpful assistant.\"\n",
    "client = get_openai_client() \n",
    "def get_answer_from_gpt(client,\n",
    "                        prompt,\n",
    "                    system_content = system_content,\n",
    "                    model = \"gpt-3.5-turbo\",\n",
    "                    max_tokens = 150):\n",
    "    \n",
    "\n",
    "\n",
    "    response = client.chat.completions.create(\n",
    "                                                model=model,\n",
    "                                                messages=[\n",
    "                                                    {\"role\": \"system\", \"content\":system_content},\n",
    "                                                    {\"role\": \"user\",\"content\":prompt}],\n",
    "                                                temperature=DEFAULT_TEMPERATURE,\n",
    "                                                max_tokens=max_tokens,\n",
    "                                                top_p=DEFAULT_TOP_P\n",
    "                                            )\n",
    "    answer = response.choices[0].message.content\n",
    "    return  answer"
   ]
  },
  {
   "cell_type": "code",
   "execution_count": 20,
   "metadata": {},
   "outputs": [
    {
     "data": {
      "text/plain": [
       "'In the last quarter, the company showed significant growth in its financial performance. The gross revenue increased by 16.5%, EBITDA rose by 182%, and profit before tax almost tripled. Earnings per share increased by 144% to Rs. 1.88 for a Rs. 2 share. Return on equity doubled to 11%, and return on capital employed nearly doubled to 15%. The company also reported a 279% increase in profit before tax and a 259% increase in profit after tax. Overall, the company demonstrated strong financial performance in the last quarter.'"
      ]
     },
     "execution_count": 20,
     "metadata": {},
     "output_type": "execute_result"
    }
   ],
   "source": [
    "get_answer_from_gpt(client=client,prompt=prompt,)"
   ]
  },
  {
   "cell_type": "code",
   "execution_count": 47,
   "metadata": {},
   "outputs": [],
   "source": [
    "from constants import DEFAULT_MODEL\n",
    "\n",
    "\n",
    "def classify_question(client,question):\n",
    "    classification_prompt = f\"I will provide you with a prompt given by a user to an AI agent trained on a document. Use your intelligence to understand the intent of the user and classify the question as either : SPECIFIC or SUMMARY. return either of the two words in response. Heres the question as given by user: \\n\\nQuestion: {question}\\n\"\n",
    "\n",
    "    \n",
    "    response = client.chat.completions.create(\n",
    "                                                model=DEFAULT_MODEL,\n",
    "                                                messages=[\n",
    "                                                    {\"role\": \"system\", \"content\":system_content},\n",
    "                                                    {\"role\": \"user\",\"content\":classification_prompt}],\n",
    "                                                temperature=DEFAULT_TEMPERATURE,\n",
    "                                                max_tokens=300,\n",
    "                                                top_p=DEFAULT_TOP_P\n",
    "                                            )\n",
    "    classification = response.choices[0].message.content.strip().lower()\n",
    "    return classification\n"
   ]
  },
  {
   "cell_type": "code",
   "execution_count": 42,
   "metadata": {},
   "outputs": [],
   "source": [
    "def create_summary_prompt(doc):\n",
    "    print(\"creating summary prompt\")\n",
    "    prompt = \"You are an expert analyst. Summarize the entire document based on the provided sections.\\n\\n\"\n",
    "    count = 0\n",
    "    for key, chunk in doc.items():\n",
    "        if count ==20:\n",
    "            break\n",
    "        else:\n",
    "            section = chunk['section']\n",
    "            summary = chunk['summary']\n",
    "            prompt += f\"{section}: {summary}\\n\\n\"\n",
    "            count +=1\n",
    "    return prompt"
   ]
  },
  {
   "cell_type": "code",
   "execution_count": 36,
   "metadata": {},
   "outputs": [
    {
     "data": {
      "text/plain": [
       "3215"
      ]
     },
     "execution_count": 36,
     "metadata": {},
     "output_type": "execute_result"
    }
   ],
   "source": [
    "count_tokens(create_summary_prompt(doc))"
   ]
  },
  {
   "cell_type": "code",
   "execution_count": 48,
   "metadata": {},
   "outputs": [],
   "source": [
    "from utils_openai import count_tokens\n",
    "\n",
    "\n",
    "def answer_question(doc, question):\n",
    "    client = get_openai_client()\n",
    "    classification = classify_question(client, question)\n",
    "    print(classification)\n",
    "    if classification == \"summary\":\n",
    "        \n",
    "        prompt = create_summary_prompt(doc)\n",
    "        print(count_tokens(prompt))\n",
    "    else:pass \n",
    "        # question_embedding = get_embedding(client,question)\n",
    "        # top_chunks = find_top_chunks(doc, question_embedding,top_n=3)\n",
    "        # summaries = [c['summary'] for c in top_chunks]\n",
    "        # texts = [c['chunk_text'] for c in top_chunks]\n",
    "        # print(summaries)\n",
    "        # print(texts)\n",
    "        # prompt = create_prompt(top_chunks, question)\n",
    "        # print(count_tokens(prompt))\n",
    "    answer = get_answer_from_gpt(client,prompt)\n",
    "    return answer"
   ]
  },
  {
   "cell_type": "code",
   "execution_count": 26,
   "metadata": {},
   "outputs": [],
   "source": [
    "question = \"what are the key promises given by the management for the coming quarters? what metrics should be increasing to show growth?\"\n",
    "question = \"summarise the whole concall in details including various sections of the call and outlining the important financials etc. around 1000 words \""
   ]
  },
  {
   "cell_type": "code",
   "execution_count": 49,
   "metadata": {},
   "outputs": [
    {
     "data": {
      "text/plain": [
       "'summarise the whole concall in details including various sections of the call and outlining the important financials etc. around 1000 words '"
      ]
     },
     "execution_count": 49,
     "metadata": {},
     "output_type": "execute_result"
    }
   ],
   "source": [
    "question"
   ]
  },
  {
   "cell_type": "code",
   "execution_count": null,
   "metadata": {},
   "outputs": [],
   "source": []
  },
  {
   "cell_type": "code",
   "execution_count": 50,
   "metadata": {},
   "outputs": [
    {
     "name": "stdout",
     "output_type": "stream",
     "text": [
      "summary\n",
      "creating summary prompt\n",
      "3215\n"
     ]
    },
    {
     "data": {
      "text/plain": [
       "\"Based on the provided sections, the document summarizes Morepen Laboratories Limited's performance in Q4 FY24 earnings conference call. The company operates in two main segments - medical devices and APIs, with a focus on home medical devices and leading products in glucose monitors and blood pressure monitors. The management highlights significant revenue growth, becoming debt-free, and achieving strong financial performance. They emphasize the company's expansion plans into international markets, capacity increase, and focus on technology advancements. The management discusses market leadership in APIs and long-term customer relationships, with a focus on maintaining high-quality standards. The document also covers the company's financial performance, operational details, and future revenue growth projections. Analyst Q&A sessions address concerns about margins, distribution channels, competition, and growth potential\""
      ]
     },
     "execution_count": 50,
     "metadata": {},
     "output_type": "execute_result"
    }
   ],
   "source": [
    "answer = answer_question(doc, question)\n",
    "answer"
   ]
  }
 ],
 "metadata": {
  "kernelspec": {
   "display_name": ".venv",
   "language": "python",
   "name": "python3"
  },
  "language_info": {
   "codemirror_mode": {
    "name": "ipython",
    "version": 3
   },
   "file_extension": ".py",
   "mimetype": "text/x-python",
   "name": "python",
   "nbconvert_exporter": "python",
   "pygments_lexer": "ipython3",
   "version": "3.9.6"
  }
 },
 "nbformat": 4,
 "nbformat_minor": 2
}
