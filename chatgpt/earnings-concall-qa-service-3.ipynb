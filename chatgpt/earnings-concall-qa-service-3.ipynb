{
 "cells": [
  {
   "cell_type": "code",
   "execution_count": 23,
   "metadata": {},
   "outputs": [],
   "source": [
    "## use the summary json file ot  answer questions based on the data \n",
    "## do embedding"
   ]
  },
  {
   "cell_type": "code",
   "execution_count": 24,
   "metadata": {},
   "outputs": [],
   "source": [
    "from utils import get_openai_key\n",
    "\n",
    "\n",
    "key = get_openai_key()"
   ]
  },
  {
   "cell_type": "code",
   "execution_count": null,
   "metadata": {},
   "outputs": [],
   "source": []
  },
  {
   "cell_type": "code",
   "execution_count": 25,
   "metadata": {},
   "outputs": [],
   "source": [
    "## open file \n",
    "from pathlib import Path\n",
    "from dirs import *\n",
    "import json\n",
    "\n",
    "file_name = 'morepen_summary_32.json'\n",
    "def load_summary(file_name)->dict:\n",
    "    file_path = Path(SUMMARY_DIR,file_name)\n",
    "    with open(file_path, 'r') as fr:\n",
    "        return json.load(fr)\n",
    "    \n",
    "def load_summary_embedded(file_name)->dict:\n",
    "    file_path = Path(EMBEDDING_DIR,file_name)\n",
    "    with open(file_path, 'r') as fr:\n",
    "        return json.load(fr)\n",
    "    \n",
    "def save_summary(doc, file_name):\n",
    "     file_path =  Path(SUMMARY_DIR,file_name)\n",
    "     with open(file_path, 'w') as fw:\n",
    "        return json.dump(doc,fw)\n"
   ]
  },
  {
   "cell_type": "code",
   "execution_count": 26,
   "metadata": {},
   "outputs": [
    {
     "data": {
      "text/plain": [
       "dict"
      ]
     },
     "execution_count": 26,
     "metadata": {},
     "output_type": "execute_result"
    }
   ],
   "source": [
    "\n",
    "doc = load_summary(file_name)\n",
    "type(doc)"
   ]
  },
  {
   "cell_type": "code",
   "execution_count": null,
   "metadata": {},
   "outputs": [],
   "source": []
  },
  {
   "cell_type": "code",
   "execution_count": 27,
   "metadata": {},
   "outputs": [],
   "source": [
    "from utils import get_openai_client\n",
    "from utils_openai import get_embedding\n"
   ]
  },
  {
   "cell_type": "code",
   "execution_count": 28,
   "metadata": {},
   "outputs": [],
   "source": [
    "# for k,v in doc.items():\n",
    "#     doc[k]['embedding'] = get_embedding(client,doc[k]['chunk_text']) \n",
    "\n",
    "## save the embedded doc\n",
    "# save_summary(doc,f'embedded_{file_name}')\n"
   ]
  },
  {
   "cell_type": "code",
   "execution_count": 29,
   "metadata": {},
   "outputs": [],
   "source": [
    "## save the embedded doc\n",
    "# save_summary(doc,f'embedded_{file_name}')"
   ]
  },
  {
   "cell_type": "code",
   "execution_count": 30,
   "metadata": {},
   "outputs": [],
   "source": [
    "doc = load_summary_embedded(file_name)\n",
    "client = get_openai_client()"
   ]
  },
  {
   "cell_type": "code",
   "execution_count": 31,
   "metadata": {},
   "outputs": [],
   "source": [
    "\n",
    "question = \"What was the overall performance of the company in the last quarter?\"\n",
    "question_embedding = get_embedding(client,question)\n"
   ]
  },
  {
   "cell_type": "code",
   "execution_count": 32,
   "metadata": {},
   "outputs": [],
   "source": [
    "\n",
    "import numpy as np\n",
    "\n",
    "\n",
    "def cosine_similarity(a, b):\n",
    "    a = np.array(a)\n",
    "    b = np.array(b)\n",
    "    return np.dot(a, b) / (np.linalg.norm(a) * np.linalg.norm(b))\n",
    "\n",
    "# Function to find top N most relevant chunks based on the question\n",
    "def find_top_chunks(doc, question_embedding, top_n=3):\n",
    "    similarities = []\n",
    "    for key, value in doc.items():\n",
    "        chunk_embedding = value['embedding']\n",
    "        similarity = cosine_similarity(question_embedding, chunk_embedding)\n",
    "        similarities.append((key, similarity))\n",
    "    \n",
    "    # Sort chunks by similarity in descending order\n",
    "    similarities.sort(key=lambda x: x[1], reverse=True)\n",
    "    \n",
    "    # Get the top N chunks\n",
    "    top_chunks = [doc[key] for key, _ in similarities[:top_n]]\n",
    "    return top_chunks\n"
   ]
  },
  {
   "cell_type": "code",
   "execution_count": 33,
   "metadata": {},
   "outputs": [],
   "source": [
    "top_chunks = find_top_chunks(doc, question_embedding)"
   ]
  },
  {
   "cell_type": "code",
   "execution_count": 34,
   "metadata": {},
   "outputs": [
    {
     "data": {
      "text/plain": [
       "3"
      ]
     },
     "execution_count": 34,
     "metadata": {},
     "output_type": "execute_result"
    }
   ],
   "source": [
    "len(top_chunks)"
   ]
  },
  {
   "cell_type": "code",
   "execution_count": 35,
   "metadata": {},
   "outputs": [],
   "source": [
    "summaries = [c['summary'] for c in top_chunks]\n",
    "texts = [c['chunk_text'] for c in top_chunks]"
   ]
  },
  {
   "cell_type": "code",
   "execution_count": 36,
   "metadata": {},
   "outputs": [
    {
     "data": {
      "text/plain": [
       "[\"r is usually slow in this business. Formulations have grown 2%. Seventy-one percent of the business comes from the medicine side, and 29% of the business comes from the OTC side. On the distribution side, we have more than 5,000 distributors, 5,100 distributors. We are present in 3 lakh outlets, 3.28 lakh outlets taken together. And all over the country, we are present. 580 people are there in all the states for the selling. The GenMix are distributed separately to a separate company. It was a single distributor. But otherwise, we have got service centers. We have got distributors all over the country. I'm not getting into detail of plans. Financial numbers have already been circulated. So as I shared that gross revenue during the quarter – I'm talking about the quarter now. During the quarter, the gross revenues have gone up 16.5%. EBITDA has gone up 182%, from 18 crores to 52 crores EBITDA. EBITDA level has gone from 5% to 12.31%. So it's more than double as a percentage because the revenue has jumped, and of course, gross margins have increased. Profit before tax also has almost three times, from 3% to 9.88%, from 11 crores to 42 crores. There's a 279% increase in value. And on percentage terms, it's almost three times. Profit after tax – that was profit before tax. Now profit after tax, as was last year, was very low, 2.25%. Profit after tax is 6.73%. This is almost 259%. So those are the quarterly numbers. On an annual basis, I shared earlier, 20% revenue growth, 101% EBITDA growth. And, of course, EBITDA is 10.13%. After now, time has come in double digits. Profit before tax, 143% increase. PAT is 150%. PAT is still low, 5.67%. We are actually – as the revenue goes up, the PAT will increase. So still we are in that 100-crore bracket. 97 crores is the PAT. So on the financial ratios also, we see significant improvement. That's the ultimate parameter. Our KPI is retracted with the ratios. Earnings per share has gone by 144%. So based on the March quarter results and annual results, the earnings per share is 1 rupee and 88 paisa. So for a 2-rupee share. And return on equity is 11%, as against 5% last year. So return on equity is also doubled. Return on the capital employed, which includes the working capital also, is almost doubled from 7.31% to 15%. Asset turnover ratio we have been maintaining in spite of the new addition of machinery. It's almost nine times. And that equity ratio is negligible because we are a debt-free company. It is 0.03, which is \",\n",
       " \"at we have been able to do. In both medical devices, we have two leading products, BP monitor and glucose monitor. One is a glucose monitoring machine. And wherein you buy the meter, and then you buy the strip battery. One is a blood pressure monitor. We are the market leaders in both the products. And we are manufacturing it in-house. In-house means we are manufacturing it out of a factory. And we are manufacturing it for basic bare PCBs. And there's a full assembly line for that. I'll come to that later. And within API, we are category leaders in six APIs, six small products. So I don't want to confuse you with the name. But just to mention, these are Loratadine, Desloratadine, Montego Card. And there are three more products where we are third and fourth. So there are six products where we are market leaders. So all APIs are exported. Around 68% of our business in the API is from export. Hard currency, dollar export to advanced countries, regulated markets. And of course, the company has been consistently growing, both in top line and bottom line. With the help of the internal cash approval, the company has been able to clear all its old debts with all the banks. And in whatever structure we are, we are a debt-free company. It's negligible debt. When you say negligible debt, it means a simple car loan or other things. Rather, we have fixed deposits in the bank, which are sometimes used for an overdraft facility. So we are a debt-free company. So as we talk, we are celebrating the 40th year of our journey. And we proudly say that we have entered into this 40th year with more energy, more agility, and more performance-oriented approach. We are making more and more decisions in the company on how do we improve our performance and how do we better our prospects. That was a broad theme. Coming specifically to the operational performance, during this year, the revenue has grown by 20%. From 1,424 crores, we have grown to 1,704 crores. So almost 20%, 19.97%. 20% growth in the annual revenue. On a quarterly basis also, the revenue has grown 16.5% for the Q4. So consistently for the nine months also, there was an increase. And here as a whole, it's 20% increase. And just to update you that last year, the year was not so good. But because post-COVID, there was a lot of inventory in the markets, and the markets were a bit slower. Now there's a good comeback, and the fresh buying has started. And particularly in medical devices, because it is primarily based in Indi\",\n",
       " \"se. And here as a whole, it's 20% increase. And just to update you that last year, the year was not so good. But because post-COVID, there was a lot of inventory in the markets, and the markets were a bit slower. Now there's a good comeback, and the fresh buying has started. And particularly in medical devices, because it is primarily based in India, so we have better access and better controls. So the comeback and the rollback is much faster. So medical devices have grown by 35%. API business has grown by 14%. Some countries are still shying away. And of course, on the positive side, last couple of years, import prices, particularly from China, were disturbed. And rather, they were higher than expected. But now the import prices have also softened, and our margins have increased in the last three, four quarters. We're happy to announce. And of course, you can see in the base of it that the company's overall productivity and margins have gone up. A picture of the company, which is the earnings before interest depreciation, and of course, the taxation. So it has doubled, more than 101% increase from 85 crore in EBITDA last year. We have 173 crore, almost 173 crore in EBITDA, 172.6. And profit after tax also is 150% up. It's two and a half times, from 38 crores to almost 97 crores. So 39 crores to 97 crores, annual path has gone up. It's almost 150% increase. And as I shared that we are a debt-free company, so whatever is annual EBITDA, all we're seeing is the cash generation. So with 83 crore of these cash generation, this year we have 164 crores, 168 crores of cash generation, which is almost 100% up. So we are seeing that whatever the temporary blip was there in the last year, so we have covered quarter after quarter. It has taken a little longer than usual, but we are very comfortable with the margins profile now. So if we go specifically to the segment-wide, as I shared that our main lead segment, the fastest-growing segment is medical devices. So within medical devices, our DC monitor and gluco monitor are the two products. Gluco monitor, as per the industry report, we have 19%. Of course, the competition may be almost similar or less, but in our actual strict supplies or regular quarter-to-quarter sales, we are leading. And similarly, in case of BP monitor, we have 18% market share, as done by the industry report. All these products are manufactured in-house, and we started production back in 2015. And of course, earlier, these were imported. And gluc\"]"
      ]
     },
     "execution_count": 36,
     "metadata": {},
     "output_type": "execute_result"
    }
   ],
   "source": [
    "texts"
   ]
  },
  {
   "cell_type": "code",
   "execution_count": 37,
   "metadata": {},
   "outputs": [],
   "source": [
    "def create_prompt(top_chunks, question):\n",
    "    prompt = \"You are an expert analyst. Answer the following question based on the provided sections of a document.\\n\\n\"\n",
    "    \n",
    "    for chunk in top_chunks:\n",
    "        section = chunk['section']\n",
    "        # summary = chunk['summary']\n",
    "        texts = chunk['chunk_text']\n",
    "        prompt += f\"{section}: {texts}\\n\\n\"\n",
    "    \n",
    "    prompt += f\"Question: {question}\\n\"\n",
    "    return prompt"
   ]
  },
  {
   "cell_type": "code",
   "execution_count": 38,
   "metadata": {},
   "outputs": [],
   "source": [
    "prompt = create_prompt(top_chunks,question)"
   ]
  },
  {
   "cell_type": "code",
   "execution_count": 39,
   "metadata": {},
   "outputs": [],
   "source": [
    "from constants import DEFAULT_TEMPERATURE, DEFAULT_TOP_P\n",
    "\n",
    "\n",
    "system_content =  \"You are a helpful assistant.\"\n",
    "client = get_openai_client() \n",
    "def get_answer_from_gpt(client,\n",
    "                        prompt,\n",
    "                    system_content = system_content,\n",
    "                    model = \"gpt-3.5-turbo\",\n",
    "                    max_tokens = 150):\n",
    "    \n",
    "\n",
    "\n",
    "    response = client.chat.completions.create(\n",
    "                                                model=model,\n",
    "                                                messages=[\n",
    "                                                    {\"role\": \"system\", \"content\":system_content},\n",
    "                                                    {\"role\": \"user\",\"content\":prompt}],\n",
    "                                                temperature=DEFAULT_TEMPERATURE,\n",
    "                                                max_tokens=max_tokens,\n",
    "                                                top_p=DEFAULT_TOP_P\n",
    "                                            )\n",
    "    answer = response.choices[0].message.content\n",
    "    return  answer"
   ]
  },
  {
   "cell_type": "code",
   "execution_count": 40,
   "metadata": {},
   "outputs": [
    {
     "data": {
      "text/plain": [
       "'Based on the information provided, the overall performance of the company in the last quarter was strong. The gross revenues increased by 16.5%, EBITDA increased by 182%, EBITDA level increased from 5% to 12.31%, and profit before tax almost tripled from 3% to 9.88%. Profit after tax also showed significant growth, increasing by almost 259% from 2.25% to 6.73%. Additionally, earnings per share increased by 144%, return on equity doubled from 5% to 11%, and return on capital employed almost doubled from 7.31% to 15%. The company also achieved a 279% increase in value and saw improvements in various'"
      ]
     },
     "execution_count": 40,
     "metadata": {},
     "output_type": "execute_result"
    }
   ],
   "source": [
    "get_answer_from_gpt(client=client,prompt=prompt,)"
   ]
  },
  {
   "cell_type": "code",
   "execution_count": 41,
   "metadata": {},
   "outputs": [],
   "source": [
    "from constants import DEFAULT_MODEL\n",
    "\n",
    "\n",
    "def classify_question(client,question):\n",
    "    classification_prompt = f\"I will provide you with a prompt given by a user to an AI agent trained on a document. Use your intelligence to understand the intent of the user and classify the question as either : SPECIFIC or SUMMARY. return either of the two words in response. Heres the question as given by user: \\n\\nQuestion: {question}\\n\"\n",
    "\n",
    "    \n",
    "    response = client.chat.completions.create(\n",
    "                                                model=DEFAULT_MODEL,\n",
    "                                                messages=[\n",
    "                                                    {\"role\": \"system\", \"content\":system_content},\n",
    "                                                    {\"role\": \"user\",\"content\":classification_prompt}],\n",
    "                                                temperature=DEFAULT_TEMPERATURE,\n",
    "                                                max_tokens=300,\n",
    "                                                top_p=DEFAULT_TOP_P\n",
    "                                            )\n",
    "    classification = response.choices[0].message.content.strip().lower()\n",
    "    return classification\n"
   ]
  },
  {
   "cell_type": "code",
   "execution_count": 42,
   "metadata": {},
   "outputs": [],
   "source": [
    "def create_summary_prompt(doc):\n",
    "    print(\"creating summary prompt\")\n",
    "    prompt = \"You are an expert analyst. Summarize the entire document based on the provided sections.\\n\\n\"\n",
    "    count = 0\n",
    "    for key, chunk in doc.items():\n",
    "        if count ==20:\n",
    "            break\n",
    "        else:\n",
    "            section = chunk['section']\n",
    "            summary = chunk['summary']\n",
    "            prompt += f\"{section}: {summary}\\n\\n\"\n",
    "            count +=1\n",
    "    return prompt"
   ]
  },
  {
   "cell_type": "code",
   "execution_count": 43,
   "metadata": {},
   "outputs": [],
   "source": [
    "# count_tokens(create_summary_prompt(doc))"
   ]
  },
  {
   "cell_type": "code",
   "execution_count": 44,
   "metadata": {},
   "outputs": [],
   "source": [
    "from utils_openai import count_tokens\n",
    "\n",
    "\n",
    "def answer_question(doc, question):\n",
    "    client = get_openai_client()\n",
    "    classification = classify_question(client, question)\n",
    "    print(classification)\n",
    "    if classification == \"summary\":\n",
    "        \n",
    "        prompt = create_summary_prompt(doc)\n",
    "        print(count_tokens(prompt))\n",
    "    else:\n",
    "        question_embedding = get_embedding(client,question)\n",
    "        top_chunks = find_top_chunks(doc, question_embedding,top_n=3)\n",
    "        summaries = [c['summary'] for c in top_chunks]\n",
    "        texts = [c['chunk_text'] for c in top_chunks]\n",
    "        print(summaries)\n",
    "        print(texts)\n",
    "        prompt = create_prompt(top_chunks, question)\n",
    "        print(count_tokens(prompt))\n",
    "    answer = get_answer_from_gpt(client,prompt)\n",
    "    return answer"
   ]
  },
  {
   "cell_type": "code",
   "execution_count": 45,
   "metadata": {},
   "outputs": [],
   "source": [
    "question = \"what are the key promises given by the management for the coming quarters? what metrics should be increasing to show growth?\"\n",
    "# question = \"summarise the whole concall in details including various sections of the call and outlining the important financials etc. around 1000 words \""
   ]
  },
  {
   "cell_type": "code",
   "execution_count": 46,
   "metadata": {},
   "outputs": [],
   "source": [
    "# question = \"what is document about ?\"\n",
    "question = \"what is this API you mentioned?\"\n",
    "question = \"based on the quarterly data what do you think should I invest in this company for mid to near term\""
   ]
  },
  {
   "cell_type": "code",
   "execution_count": null,
   "metadata": {},
   "outputs": [],
   "source": [
    "messages = [ { \"role\":\"system\" ,\"content\":\"you are something\"},\n",
    " { \"role\":\"user\" ,\"content\":\"I will give you with some questions that a user will ask on the document of conference calls. Answer them accordingly.\"},\n",
    " \n",
    " ]\n",
    "messages.append({ \"role\":\"user\" ,\"content\":question} )\n",
    "answer = answer_question(doc, question)\n",
    "messages.append({\"role\":\"system\",\"content\":answer})\n",
    "            "
   ]
  },
  {
   "cell_type": "code",
   "execution_count": 47,
   "metadata": {},
   "outputs": [
    {
     "name": "stdout",
     "output_type": "stream",
     "text": [
      "specific\n",
      "[\"In this chunk of the earnings conference call, the management provides an overview of the company's performance and operations. They mention that formulations have grown by 2% and discuss the distribution side, highlighting that they have over 5,100 distributors and are present in 3.28 lakh outlets across the country. The company has 580 sales representatives in all states. The management shares the financial performance of the quarter, stating that gross revenues increased by 16.5%, EBITDA increased by 182%, and profit before tax almost tripled. Profit after tax also saw a significant increase of 259%. On an annual basis, the company achieved a 20% revenue growth, 101% EBITDA growth, and significant improvements in various financial ratios such as return on equity and return on capital employed. The earnings per share increased by 144% to 1 rupee and 88 paisa, and the return on equity doubled to 11%. The company also maintained a high asset turnover ratio and a negligible equity ratio due to being a debt-free company.\", \"The speaker highlights the company's leading products in medical devices, including a glucose monitor and a blood pressure monitor. They emphasize being market leaders in both products, manufacturing them in-house. Additionally, the company is a category leader in six APIs, with 68% of API business coming from exports to advanced countries. The speaker mentions the company's consistent growth in both top line and bottom line, clearing all old debts and becoming a debt-free company. Celebrating the 40th year, the company aims to enhance performance and decision-making. They report a 20% growth in annual revenue and a 16.5% growth in quarterly revenue, attributing the previous year's challenges to post-COVID market conditions.\", \"In this section, the speaker discusses the financial performance of the company, highlighting the significant increase in return on equity and return on capital employed. The company's asset turnover ratio remains strong despite new machinery additions, and the equity ratio is minimal due to being a debt-free company. The speaker also briefly mentions the company's expansion plans in medical devices, capacity increase, backward integration, API capacities, working capital supplementation, and continued focus on research and development. The speaker concludes by opening the floor for the question and answer session. The CFO is expected to provide more detailed numbers during the Q&A session.\"]\n",
      "[\"r is usually slow in this business. Formulations have grown 2%. Seventy-one percent of the business comes from the medicine side, and 29% of the business comes from the OTC side. On the distribution side, we have more than 5,000 distributors, 5,100 distributors. We are present in 3 lakh outlets, 3.28 lakh outlets taken together. And all over the country, we are present. 580 people are there in all the states for the selling. The GenMix are distributed separately to a separate company. It was a single distributor. But otherwise, we have got service centers. We have got distributors all over the country. I'm not getting into detail of plans. Financial numbers have already been circulated. So as I shared that gross revenue during the quarter – I'm talking about the quarter now. During the quarter, the gross revenues have gone up 16.5%. EBITDA has gone up 182%, from 18 crores to 52 crores EBITDA. EBITDA level has gone from 5% to 12.31%. So it's more than double as a percentage because the revenue has jumped, and of course, gross margins have increased. Profit before tax also has almost three times, from 3% to 9.88%, from 11 crores to 42 crores. There's a 279% increase in value. And on percentage terms, it's almost three times. Profit after tax – that was profit before tax. Now profit after tax, as was last year, was very low, 2.25%. Profit after tax is 6.73%. This is almost 259%. So those are the quarterly numbers. On an annual basis, I shared earlier, 20% revenue growth, 101% EBITDA growth. And, of course, EBITDA is 10.13%. After now, time has come in double digits. Profit before tax, 143% increase. PAT is 150%. PAT is still low, 5.67%. We are actually – as the revenue goes up, the PAT will increase. So still we are in that 100-crore bracket. 97 crores is the PAT. So on the financial ratios also, we see significant improvement. That's the ultimate parameter. Our KPI is retracted with the ratios. Earnings per share has gone by 144%. So based on the March quarter results and annual results, the earnings per share is 1 rupee and 88 paisa. So for a 2-rupee share. And return on equity is 11%, as against 5% last year. So return on equity is also doubled. Return on the capital employed, which includes the working capital also, is almost doubled from 7.31% to 15%. Asset turnover ratio we have been maintaining in spite of the new addition of machinery. It's almost nine times. And that equity ratio is negligible because we are a debt-free company. It is 0.03, which is \", \"at we have been able to do. In both medical devices, we have two leading products, BP monitor and glucose monitor. One is a glucose monitoring machine. And wherein you buy the meter, and then you buy the strip battery. One is a blood pressure monitor. We are the market leaders in both the products. And we are manufacturing it in-house. In-house means we are manufacturing it out of a factory. And we are manufacturing it for basic bare PCBs. And there's a full assembly line for that. I'll come to that later. And within API, we are category leaders in six APIs, six small products. So I don't want to confuse you with the name. But just to mention, these are Loratadine, Desloratadine, Montego Card. And there are three more products where we are third and fourth. So there are six products where we are market leaders. So all APIs are exported. Around 68% of our business in the API is from export. Hard currency, dollar export to advanced countries, regulated markets. And of course, the company has been consistently growing, both in top line and bottom line. With the help of the internal cash approval, the company has been able to clear all its old debts with all the banks. And in whatever structure we are, we are a debt-free company. It's negligible debt. When you say negligible debt, it means a simple car loan or other things. Rather, we have fixed deposits in the bank, which are sometimes used for an overdraft facility. So we are a debt-free company. So as we talk, we are celebrating the 40th year of our journey. And we proudly say that we have entered into this 40th year with more energy, more agility, and more performance-oriented approach. We are making more and more decisions in the company on how do we improve our performance and how do we better our prospects. That was a broad theme. Coming specifically to the operational performance, during this year, the revenue has grown by 20%. From 1,424 crores, we have grown to 1,704 crores. So almost 20%, 19.97%. 20% growth in the annual revenue. On a quarterly basis also, the revenue has grown 16.5% for the Q4. So consistently for the nine months also, there was an increase. And here as a whole, it's 20% increase. And just to update you that last year, the year was not so good. But because post-COVID, there was a lot of inventory in the markets, and the markets were a bit slower. Now there's a good comeback, and the fresh buying has started. And particularly in medical devices, because it is primarily based in Indi\", \"return on equity is also doubled. Return on the capital employed, which includes the working capital also, is almost doubled from 7.31% to 15%. Asset turnover ratio we have been maintaining in spite of the new addition of machinery. It's almost nine times. And that equity ratio is negligible because we are a debt-free company. It is 0.03, which is very, very good. That's all about the listing. And, of course, since the time is short, so we'll go to the question and answers. Thank you. But on the expansion side, we are expanding on the medical devices, increasing more capacity, backward integration. We are expanding capacities in the APIs. Of course, we are supplementing the working capital. And, of course, research and development still remains the focus. That's all from my side to begin with in short and sweet. And I will go back to the anchor, and we can see the question and answers, if there are any. Thank you. We will now begin the question and answer session. Anyone who wishes to ask a question may press star and 1 on your touchtone telephone. If you wish to remove yourself from the question queue, you may press star and 2. Participants are requested to use handsets while asking a question. Ladies and gentlemen, we will wait for a moment while the question queue assembles. The first question comes from the line of Nisarg Vakaria with NV Alpha Fund Management, LLP. Please go ahead. Yes, sir. Thank you for your very comprehensive commentary to begin with. It was quite helpful. I have a couple of questions. I'll first start with your medical devices segment. Sir, can you please explain the economics of this business? How much do you have in cross-block for 400 crore of top line? And how much working capital? And what is the sort of EBITDA margin that you make in this segment? Of course, the exact numbers, Ajay can give, our CFO is here. So, Ajay, you can keep it broadly. This business is very efficient. It does not have much fixed asset requirement. And the asset turnover is more than 10X. Ajay can give the exact numbers. On the working capital side also, the working capital cycle, of course, has become a little higher now because of our imports, because of the self-manufacturing. But otherwise, it's typically a cash-negative working capital because we got imports from China, Korea earlier. And now, and of course, we sell in advance in the market. So, we do not give any credit in the market. So, that's why we have been able to create and demand a prestig\"]\n",
      "1816\n"
     ]
    },
    {
     "data": {
      "text/plain": [
       "'Based on the quarterly data provided in the document, it seems like the company has shown significant growth and improvement in various financial metrics such as revenue, EBITDA, profit before tax, profit after tax, return on equity, return on capital employed, and asset turnover ratio.\\n\\nThe company has reported a 16.5% increase in gross revenues during the quarter, with EBITDA increasing by 182% and profit before tax almost tripling. Additionally, the profit after tax has increased by 259% on a quarterly basis.\\n\\nOn an annual basis, the company has achieved a 20% revenue growth, 101% EBITDA growth, and significant improvements in other financial ratios such as return on equity and return on capital employed.\\n\\nConsidering'"
      ]
     },
     "execution_count": 47,
     "metadata": {},
     "output_type": "execute_result"
    }
   ],
   "source": [
    "\n",
    "answer = answer_question(doc, question)\n",
    "answer"
   ]
  }
 ],
 "metadata": {
  "kernelspec": {
   "display_name": ".venv",
   "language": "python",
   "name": "python3"
  },
  "language_info": {
   "codemirror_mode": {
    "name": "ipython",
    "version": 3
   },
   "file_extension": ".py",
   "mimetype": "text/x-python",
   "name": "python",
   "nbconvert_exporter": "python",
   "pygments_lexer": "ipython3",
   "version": "3.9.6"
  }
 },
 "nbformat": 4,
 "nbformat_minor": 2
}
