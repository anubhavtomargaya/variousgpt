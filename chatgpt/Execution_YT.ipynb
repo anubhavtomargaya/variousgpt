{
 "cells": [
  {
   "cell_type": "code",
   "execution_count": null,
   "metadata": {},
   "outputs": [],
   "source": [
    "## step 1 -- YOUTUBE LINK\n",
    "from audio_load_youtube import download_youtube_audio\n",
    "from pathlib import Path\n",
    "\n",
    "url = 'https://www.youtube.com/watch?v=XZJ3fdV2Tkc' # replace with the \n",
    "# correct youtube link and run the notebook.\n"
   ]
  },
  {
   "cell_type": "code",
   "execution_count": null,
   "metadata": {},
   "outputs": [],
   "source": [
    "result = download_youtube_audio(url=url) # saves to YOUTUBE_DIR returns a meta\n",
    "print(result.__dict__)\n",
    "audio_file = Path(result.file_path).name\n",
    "result.file_path"
   ]
  },
  {
   "cell_type": "code",
   "execution_count": null,
   "metadata": {},
   "outputs": [],
   "source": [
    "from pathlib import Path\n",
    "from concall_audio_to_text import create_text_from_audio\n",
    "\n",
    "# file = 'Delhivery_Ltd_Q4_FY2023-24_Earnings_Conference_Call.mp4'\n",
    "file = Path(result.file_path).name\n",
    "base_prmpt = \"CONFERENCE CALL OF A COMPANY QUARTERLY EARNINGS\" + file\n",
    "## ---- USES WHISPER CREDIT ------ ###  \n",
    "\n",
    "# note: update the size reduction in logs from converting to ogg\n",
    "output_file = create_text_from_audio(file_name=file,\n",
    "                                     base_prompt=base_prmpt,\n",
    "                                     youtube=True ) # YT TRUE TO make sure correct dir is used\n",
    "    \n",
    "output_file"
   ]
  },
  {
   "cell_type": "code",
   "execution_count": null,
   "metadata": {},
   "outputs": [],
   "source": [
    "# create corpus from text for retrieval \n",
    "from concall_text_to_kowledge import create_text_meta_doc\n",
    "\n",
    "\n",
    "# file = 'Delhivery_Ltd_Q4_FY2023-24_Earnings_Conference_Call.mp4'\n",
    "file = Path(result.file_path).name\n",
    "base_prmpt = \"CONFERENCE CALL OF A COMPANY QUARTERLY EARNINGS\" + file\n",
    "summary_prmpt_concall = f\"FILE: {file} ||  You are a helpful assistant to summarise a quarterly EARNINGS CONFERENCE CALL. The transcript of the call will be provided in chunks as context and you have to extract information carefully and concisely in summaries.  \"\n",
    "sections_concall =  ['INTRO', 'MANAGEMENT NOTE', 'ANALYST QA', 'CONCLUSION']\n",
    "\n",
    "chunk_size= 4000\n",
    "\n",
    "summary_file = create_text_meta_doc(ts_filename=file,\n",
    "                                    chunk_size=chunk_size,\n",
    "                                    summariser_prompt=summary_prmpt_concall,\n",
    "                                    sections=sections_concall)\n",
    "summary_file"
   ]
  },
  {
   "cell_type": "code",
   "execution_count": null,
   "metadata": {},
   "outputs": [],
   "source": [
    "## step 4 \n",
    "from concall_text_to_kowledge import create_embeddings_from_chunk_doc\n",
    "\n",
    "\n",
    "embedding_doc_file = create_embeddings_from_chunk_doc(filename=file)\n",
    "embedding_doc_file"
   ]
  },
  {
   "cell_type": "markdown",
   "metadata": {},
   "source": [
    "## Corpus generated, now ask questions "
   ]
  },
  {
   "cell_type": "code",
   "execution_count": null,
   "metadata": {},
   "outputs": [],
   "source": [
    "# step 5 - final step\n",
    " \n",
    "from concall_question_over_knowledge import answer_question, get_context_corpus\n",
    "\n",
    "organisation = 'Delhivery'\n",
    "filename =  'Delhivery_Ltd_Q4_FY2023-24_Earnings_Conference_Call.json'\n",
    "question_prompt = f\" You will be provided with transcript chunks of a conference call. \\\n",
    "                    Followed by a question from an investor who is either invested in the  company or is looking to invest for mid to long term. Answer such that \\\n",
    "                    you are expert stocks analyst. All currency are in INDIAN RUPEES (INR). \\\n",
    "                    Answer without any starting phrases like '..here are the' etc. Only reply with the required information in concise but detailed manner \\\n",
    "                     \\n  ORGANISATION : {organisation} \\n FILENAME : {filename}\"\n",
    "\n",
    "def test_answer_from_gpt_delhivery( question_prompt=question_prompt):\n",
    "    doc = get_context_corpus(file_name=filename,)\n",
    "    \n",
    "    # question = \"what is this call about?\"\n",
    "    # question = \"What was the overall performance of the company in the last quarter?\"\n",
    "    question = \"was there a huge drop in profits, revenue or margins this quarter? Should I be worried about anything  \"\n",
    "    question = \"what are some signs I could be on the lookout for to see if performance of company is improving in the coming months in accordance with the management's goals and commitments mentioned in this call?\"\n",
    "    question = \"what are the financial numbers I can expect in next quarter based on this?\"\n",
    "    question = \"Key concerns raised by the analysts in QA?\"\n",
    "    # question = \"What will be their approximate revenue in coming two quarters comparing with YoY and this Quarter.\"\n",
    "    # question = \"what measures the management is taking to keep the revenue and margins up in coming quarters?\"\n",
    "    # question = \"how does the management keep their employees motivated or follow work life balance? I want to understand the work culture in Morepen Lab.\"\n",
    "    # question = \"what are the main products and revenue sources of this company?\"\n",
    "\n",
    "    # question = \"what were the key areas of performance growth in this quarter according to the management?\"\n",
    "    # question = \"Summarise the analyst QnA of the call in around 600 words?\"\n",
    "    # # question = \"when is next tom cruise movie coming?\"\n",
    "    # question = \"what are the revenues and profit numbers of their competitors this quarter? If not available then just give me the competitor companies.\"\n",
    "    # question = \"what does this company do? \"\n",
    "    # question = \"summarise the management's take on the company's performance along with analysts's concerns and key take aways.\"\n",
    "    \n",
    "    return  answer_question(doc,question,\n",
    "                            file_name=filename,\n",
    "                            question_prompt=question_prompt,\n",
    "                            _top_n=3)\n",
    "test_answer_from_gpt_delhivery()"
   ]
  }
 ],
 "metadata": {
  "language_info": {
   "name": "python"
  }
 },
 "nbformat": 4,
 "nbformat_minor": 2
}
