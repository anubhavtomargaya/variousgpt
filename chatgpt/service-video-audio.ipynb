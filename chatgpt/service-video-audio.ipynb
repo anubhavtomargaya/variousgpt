{
 "cells": [
  {
   "cell_type": "code",
   "execution_count": null,
   "metadata": {},
   "outputs": [],
   "source": [
    "## run the lambda service that reads from S3 for new videos \n",
    "## extracts the audio from video, attaches meta to it and submit job"
   ]
  }
 ],
 "metadata": {
  "language_info": {
   "name": "python"
  }
 },
 "nbformat": 4,
 "nbformat_minor": 2
}
