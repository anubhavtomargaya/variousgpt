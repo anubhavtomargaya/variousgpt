{
 "cells": [
  {
   "cell_type": "code",
   "execution_count": 1,
   "metadata": {},
   "outputs": [],
   "source": [
    "# when we say transcribe, from this point onwards the final form of transacription of a video is with \n",
    "# diarization and timestamping. Both have different formats lets discuss\n"
   ]
  },
  {
   "cell_type": "code",
   "execution_count": null,
   "metadata": {},
   "outputs": [],
   "source": []
  },
  {
   "cell_type": "code",
   "execution_count": 2,
   "metadata": {},
   "outputs": [],
   "source": [
    "about_morepen = \"Embarking on a transformative journey over four decades, Morepen has consistently strived to embody an organization marked by discernible, impactful differences. Every action we undertake is imbued with a profound commitment to enrich the lives we touch. Nestled amidst the serene surroundings of Baddi, our cutting-edge manufacturing facility boasts a scientifically integrated complex housing 10 plants, each tailored to produce specific product lines.\""
   ]
  },
  {
   "cell_type": "code",
   "execution_count": 3,
   "metadata": {},
   "outputs": [
    {
     "name": "stderr",
     "output_type": "stream",
     "text": [
      "/Users/anubhavtomar/2023_projects/chatgpt/.venv/lib/python3.9/site-packages/urllib3/__init__.py:35: NotOpenSSLWarning: urllib3 v2 only supports OpenSSL 1.1.1+, currently the 'ssl' module is compiled with 'LibreSSL 2.8.3'. See: https://github.com/urllib3/urllib3/issues/3020\n",
      "  warnings.warn(\n"
     ]
    }
   ],
   "source": [
    "## lets transcribe with prompt \n",
    "from transcribe import transcribe_and_save\n"
   ]
  },
  {
   "cell_type": "code",
   "execution_count": 4,
   "metadata": {},
   "outputs": [
    {
     "name": "stdout",
     "output_type": "stream",
     "text": [
      "starting transcription:..\n",
      "calling open api whisper started...\n",
      "calling open api end.\n",
      "total time  28 seconds\n",
      "total tokens  0\n",
      "type\n",
      "<class 'openai.types.audio.transcription.Transcription'>\n",
      "Transcription(text=\"Ladies and gentlemen, good day and welcome to Morepen Laboratories Limited Q4 FY24 conference call, hosted by Motilal Oswal Financial Services Limited. As a reminder, all participant lines will be in the listen-only mode, and there will be an opportunity for you to ask questions after the presentation concludes. Should you need assistance during the conference call, please signal an operator by pressing star then zero on your touch-tone phone. Please note that this conference is being recorded. I now hand the conference over to Mr. Tushar Manojani from Motilal Oswal Financial Services Limited. Thank you and over to you, Mr. Manojani. Thanks, Renju. Good afternoon and I welcome you all for the fourth quarter FY24 earnings call of Morepen Labs, hosted by Motilal Oswal Financial Services. From the management side, we have Mr. Sushil Suri, Chairman and Managing Director. Mr. Ajay Kumar Sharma, Chief Financial Officer. Mr. Nishant Doshi, Vice President, Corporate Finance and Investor Relations. And Mr. Vipul Kumar Srivastava, Company Secretary and Compliance Officer. Sir, over to the management for the opening remarks. Good afternoon. This is Sushil Suri, CMD of the company. Good afternoon. Yes, sir. Afternoon for this side from all then. Good afternoon, Mr. Nishant Doshi here from all. Yes, Tushar, should we start? Yes, sir, please. A formal warm welcome to all the participants who are there on the call today and of course it's a nice afternoon. I'm sure that most of you might have gone through the results by now. We have shared with the stock exchanges and with the website yesterday. I know that I'm sitting in front of the computer, so I have access on the numbers, but please forgive me if I'm talking too many numbers. But quarter as a whole, it was an outstanding performance for the quarter, but year as a whole also the company has done pretty well. Since it's an annual result, so in the annual thing, we discuss the company as a whole also, but on the quarterly basis, these are the pure simple numbers. Just to appraise the participants who are joining with these type of calls for the first time, we have primarily two type of business segments. One is medical devices and one is the bulk drugs or APIs, which are modernly called. So 80% of the revenue comes from medical devices and APIs. And API, of course, is our traditional business, our old business, which is our cash cow. And the company started from the API only. Medical devices is relatively new. When you say relatively new, it's still almost 20 years old now. But medical devices is the fastest growing business in the company. Then back in 2015, 16, 16, 17, we have 500, 600 core company. Medical devices is only 13% of the revenue. But now medical devices is 26%, more than 26% of the revenue. This is growing much faster. The company in last seven years has grown with a CAGR of 16%. CAGR is CAGR, compounded annual growth rate. Company has grown at a CAGR of 16%. But medical devices has outsmart and grown at CAGR of 28% year on year. So that's why I'm saying it's the fastest growing segment within the modern thing. And medical devices, we are talking primarily of the home medical devices. We are into point-of-care medical devices. Point-of-care is used in hospitals also sometimes. You have some patient monitors and other things which are used on the bedside of the patient. But we are specialized in the home diagnostic. And we have built a beautiful brand, Dr. Morton, around customer service and around more consumer awareness, more one-on-one interaction with the customers. We sell our goods directly to over 3,000 distributors all over the country. And of course, network of more than 125,000 retailers. So we are a consumer company and a typical diagnostics company. And we are not into testing and other that stuff. We are a device. That's why we always call it devices. The second business, of course, is Bulgarian APIs, which is an established business, giving good cash flows and growing at its own good speed. Between these two, this is 80%. Then we have a range of formulations and OTP products, which is typical in any pharma company. But medical devices, that is our unique position. Moving specifically to the so-called key positioning of the company, the key achievements, what we have been able to do. In both medical devices, we have two leading products, BP monitor and glucose monitor. One is a glucose monitoring machine. And wherein you buy the meter, and then you buy the strip battery. One is a blood pressure monitor. We are the market leaders in both the products. And we are manufacturing it in-house. In-house means we are manufacturing it out of a factory. And we are manufacturing it for basic bare PCBs. And there's a full assembly line for that. I'll come to that later. And within API, we are category leaders in six APIs, six small products. So I don't want to confuse you with the name. But just to mention, these are Loratadine, Desloratadine, Montego Card. And there are three more products where we are third and fourth. So there are six products where we are market leaders. So all APIs are exported. Around 68% of our business in the API is from export. Hard currency, dollar export to advanced countries, regulated markets. And of course, the company has been consistently growing, both in top line and bottom line. With the help of the internal cash approval, the company has been able to clear all its old debts with all the banks. And in whatever structure we are, we are a debt-free company. It's negligible debt. When you say negligible debt, it means a simple car loan or other things. Rather, we have fixed deposits in the bank, which are sometimes used for an overdraft facility. So we are a debt-free company. So as we talk, we are celebrating the 40th year of our journey. And we proudly say that we have entered into this 40th year with more energy, more agility, and more performance-oriented approach. We are making more and more decisions in the company on how do we improve our performance and how do we better our prospects. That was a broad theme. Coming specifically to the operational performance, during this year, the revenue has grown by 20%. From 1,424 crores, we have grown to 1,704 crores. So almost 20%, 19.97%. 20% growth in the annual revenue. On a quarterly basis also, the revenue has grown 16.5% for the Q4. So consistently for the nine months also, there was an increase. And here as a whole, it's 20% increase. And just to update you that last year, the year was not so good. But because post-COVID, there was a lot of inventory in the markets, and the markets were a bit slower. Now there's a good comeback, and the fresh buying has started. And particularly in medical devices, because it is primarily based in India, so we have better access and better controls. So the comeback and the rollback is much faster. So medical devices have grown by 35%. API business has grown by 14%. Some countries are still shying away. And of course, on the positive side, last couple of years, import prices, particularly from China, were disturbed. And rather, they were higher than expected. But now the import prices have also softened, and our margins have increased in the last three, four quarters. We're happy to announce. And of course, you can see in the base of it that the company's overall productivity and margins have gone up. A picture of the company, which is the earnings before interest depreciation, and of course, the taxation. So it has doubled, more than 101% increase from 85 crore in EBITDA last year. We have 173 crore, almost 173 crore in EBITDA, 172.6. And profit after tax also is 150% up. It's two and a half times, from 38 crores to almost 97 crores. So 39 crores to 97 crores, annual path has gone up. It's almost 150% increase. And as I shared that we are a debt-free company, so whatever is annual EBITDA, all we're seeing is the cash generation. So with 83 crore of these cash generation, this year we have 164 crores, 168 crores of cash generation, which is almost 100% up. So we are seeing that whatever the temporary blip was there in the last year, so we have covered quarter after quarter. It has taken a little longer than usual, but we are very comfortable with the margins profile now. So if we go specifically to the segment-wide, as I shared that our main lead segment, the fastest-growing segment is medical devices. So within medical devices, our DC monitor and gluco monitor are the two products. Gluco monitor, as per the industry report, we have 19%.\")\n"
     ]
    },
    {
     "data": {
      "text/plain": [
       "True"
      ]
     },
     "execution_count": 4,
     "metadata": {},
     "output_type": "execute_result"
    }
   ],
   "source": [
    "from pathlib import Path\n",
    "from dirs import *\n",
    "\n",
    "file_name =  'earning_call_morepen_1.ogg'\n",
    "transcribe_and_save(file_path=Path(CHOP_DIR, file_name),\n",
    "                    prompt=about_morepen,output_prefix=\"wp\")"
   ]
  },
  {
   "cell_type": "code",
   "execution_count": null,
   "metadata": {},
   "outputs": [],
   "source": [
    "## part 7 doing very bad. try with 6 in prompt"
   ]
  },
  {
   "cell_type": "code",
   "execution_count": 7,
   "metadata": {},
   "outputs": [
    {
     "name": "stdout",
     "output_type": "stream",
     "text": [
      "starting transcription:..\n",
      "calling open api whisper started...\n",
      "calling open api end.\n",
      "total time  17 seconds\n",
      "total tokens  0\n",
      "type\n",
      "<class 'openai.types.audio.transcription.Transcription'>\n",
      "Transcription(text='Nestled amidst the serene surroundings of Baddi, our cutting-edge manufacturing facility boasts a scientifically integrated complex housing 10 plants, each tailored to produce specific product lines. Nestled amidst the serene surroundings of Baddi, our cutting-edge manufacturing facility boasts a scientifically integrated complex housing 10 plants, each tailored to produce specific product lines. Nestled amidst the serene surroundings of Baddi, our cutting-edge manufacturing facility boasts a scientifically integrated complex housing 10 plants, each tailored to produce specific product lines. Nestled amidst the serene surroundings of Baddi, our cutting-edge manufacturing facility boasts a scientifically integrated complex housing 10 plants, each tailored to produce specific product lines. Nestled amidst the serene surroundings of Baddi, our cutting-edge manufacturing facility boasts a scientifically integrated complex housing 10 plants, each tailored to produce specific product lines. Nestled amidst the serene surroundings of Baddi, our cutting-edge manufacturing facility boasts a scientifically integrated complex housing 10 plants, each tailored to produce specific product lines. Nestled amidst the serene surroundings of Baddi, our cutting-edge manufacturing facility boasts a scientifically integrated complex housing 10 plants, each tailored to produce specific product lines. Nestled amidst the serene surroundings of Baddi, our cutting-edge manufacturing facility boasts a scientifically integrated complex housing 10 plants, each tailored to produce specific product lines. Nestled amidst the serene surroundings of Baddi, our cutting-edge manufacturing facility boasts a scientifically integrated complex housing 10 plants, each tailored to produce specific product lines. Nestled amidst the serene surroundings of Baddi, our cutting-edge manufacturing facility boasts a scientifically integrated complex housing 10 plants, each tailored to produce specific product lines. Nestled amidst the serene surroundings of Baddi, our cutting-edge manufacturing facility boasts a scientifically integrated complex housing 10 plants, each tailored to produce specific product lines. Nestled amidst the serene surroundings of Baddi, our cutting-edge manufacturing facility boasts a scientifically integrated complex housing 10 plants, each tailored to produce specific product lines. Nestled amidst the serene surroundings of Baddi, our cutting-edge manufacturing facility boasts a scientifically integrated complex housing 10 plants, each tailored to produce specific product lines. Nestled amidst the serene surroundings of Baddi, our cutting-edge manufacturing facility boasts a scientifically integrated complex housing 10 plants, each tailored to produce specific product lines. Nestled amidst the serene surroundings of Baddi, our cutting-edge manufacturing facility boasts a scientifically integrated complex housing 10 plants, each tailored to produce specific product lines. Nestled amidst the serene surroundings of Baddi, our cutting-edge manufacturing facility boasts a scientifically integrated complex housing 10 plants, each tailored to produce specific product lines. Nestled amidst the serene surroundings of Baddi, our cutting-edge manufacturing facility boasts a scientifically integrated complex housing 10 plants, each tailored to produce specific product lines. Nestled amidst the serene surroundings of Baddi, our cutting-edge manufacturing facility boasts a scientifically integrated complex housing 10 plants, each tailored to produce specific product lines. Nestled amidst the serene surroundings of Baddi, our cutting-edge manufacturing facility boasts a scientifically integrated complex housing 10 plants, each tailored to produce specific product lines. Nestled amidst the serene surroundings of Baddi, our cutting-edge manufacturing facility boasts a scientifically integrated complex housing 10 plants, each tailored to produce specific product lines. Nestled amidst the serene surroundings of Baddi, our cutting-edge manufacturing facility boasts a scientifically integrated complex housing 10 plants, each tailored to produce specific product lines.')\n"
     ]
    },
    {
     "data": {
      "text/plain": [
       "True"
      ]
     },
     "execution_count": 7,
     "metadata": {},
     "output_type": "execute_result"
    }
   ],
   "source": [
    "## transcribe 7th with 6th in prompt \n",
    "f =  'earning_call_morepen_6.ogg'\n",
    "part_six_ts =  transcribe_and_save(file_path=Path(CHOP_DIR, f),\n",
    "                    prompt=about_morepen,output_prefix=\"wp\")\n",
    "part_six_ts"
   ]
  },
  {
   "cell_type": "code",
   "execution_count": null,
   "metadata": {},
   "outputs": [],
   "source": [
    "f_ =  'earning_call_morepen_8.ogg'\n",
    "part_seven_ts =  transcribe_and_save(file_path=Path(CHOP_DIR, f),\n",
    "                    prompt=about_morepen,output_prefix=\"wp\")"
   ]
  },
  {
   "cell_type": "code",
   "execution_count": 8,
   "metadata": {},
   "outputs": [],
   "source": [
    "## question - transcribe full audio first, then ask gpt for insights ? \n",
    "## or process in a differnt way? chunks cant work."
   ]
  },
  {
   "cell_type": "code",
   "execution_count": null,
   "metadata": {},
   "outputs": [],
   "source": []
  }
 ],
 "metadata": {
  "kernelspec": {
   "display_name": ".venv",
   "language": "python",
   "name": "python3"
  },
  "language_info": {
   "codemirror_mode": {
    "name": "ipython",
    "version": 3
   },
   "file_extension": ".py",
   "mimetype": "text/x-python",
   "name": "python",
   "nbconvert_exporter": "python",
   "pygments_lexer": "ipython3",
   "version": "3.9.6"
  }
 },
 "nbformat": 4,
 "nbformat_minor": 2
}
