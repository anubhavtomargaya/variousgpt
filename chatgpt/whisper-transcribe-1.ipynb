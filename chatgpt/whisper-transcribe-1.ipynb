{
 "cells": [
  {
   "cell_type": "code",
   "execution_count": 1,
   "metadata": {},
   "outputs": [],
   "source": [
    "# when we say transcribe, from this point onwards the final form of transacription of a video is with \n",
    "# diarization and timestamping. Both have different formats lets discuss\n"
   ]
  },
  {
   "cell_type": "code",
   "execution_count": null,
   "metadata": {},
   "outputs": [],
   "source": []
  },
  {
   "cell_type": "code",
   "execution_count": 2,
   "metadata": {},
   "outputs": [],
   "source": [
    "about_morepen = \"Embarking on a transformative journey over four decades, Morepen has consistently strived to embody an organization marked by discernible, impactful differences. Every action we undertake is imbued with a profound commitment to enrich the lives we touch. Nestled amidst the serene surroundings of Baddi, our cutting-edge manufacturing facility boasts a scientifically integrated complex housing 10 plants, each tailored to produce specific product lines.\""
   ]
  },
  {
   "cell_type": "code",
   "execution_count": 3,
   "metadata": {},
   "outputs": [
    {
     "ename": "ImportError",
     "evalue": "cannot import name 'transcribe_audio_in_format' from 'utils_transcribe' (/Users/anubhavtomar/2023_projects/chatgpt/chatgpt/utils_transcribe.py)",
     "output_type": "error",
     "traceback": [
      "\u001b[0;31m---------------------------------------------------------------------------\u001b[0m",
      "\u001b[0;31mImportError\u001b[0m                               Traceback (most recent call last)",
      "Cell \u001b[0;32mIn[3], line 2\u001b[0m\n\u001b[1;32m      1\u001b[0m \u001b[38;5;66;03m## lets transcribe with prompt \u001b[39;00m\n\u001b[0;32m----> 2\u001b[0m \u001b[38;5;28;01mfrom\u001b[39;00m \u001b[38;5;21;01mtranscribe\u001b[39;00m \u001b[38;5;28;01mimport\u001b[39;00m transcribe_and_save\n",
      "File \u001b[0;32m~/2023_projects/chatgpt/chatgpt/transcribe.py:4\u001b[0m\n\u001b[1;32m      2\u001b[0m \u001b[38;5;28;01mfrom\u001b[39;00m \u001b[38;5;21;01mdirs\u001b[39;00m \u001b[38;5;28;01mimport\u001b[39;00m \u001b[38;5;241m*\u001b[39m\n\u001b[1;32m      3\u001b[0m \u001b[38;5;28;01mfrom\u001b[39;00m \u001b[38;5;21;01mutils\u001b[39;00m \u001b[38;5;28;01mimport\u001b[39;00m get_openai_client\n\u001b[0;32m----> 4\u001b[0m \u001b[38;5;28;01mfrom\u001b[39;00m \u001b[38;5;21;01mutils_transcribe\u001b[39;00m \u001b[38;5;28;01mimport\u001b[39;00m CHOP_DIR, transcribe_audio_in_format, write_trx_as_json, write_trx_as_subtitles\n\u001b[1;32m      5\u001b[0m \u001b[38;5;28;01mfrom\u001b[39;00m \u001b[38;5;21;01menums\u001b[39;00m \u001b[38;5;28;01mimport\u001b[39;00m tsFormats\n\u001b[1;32m      7\u001b[0m \u001b[38;5;28;01mdef\u001b[39;00m \u001b[38;5;21mtranscribe_and_save\u001b[39m(file_path:Path, \n\u001b[1;32m      8\u001b[0m                         output_dir\u001b[38;5;241m=\u001b[39mTS_DIR,\n\u001b[1;32m      9\u001b[0m                         \u001b[38;5;28mformat\u001b[39m:tsFormats\u001b[38;5;241m=\u001b[39mtsFormats\u001b[38;5;241m.\u001b[39mJSON,\n\u001b[1;32m     10\u001b[0m                         prompt:\u001b[38;5;28mstr\u001b[39m\u001b[38;5;241m=\u001b[39m\u001b[38;5;124m\"\u001b[39m\u001b[38;5;124m\"\u001b[39m):\n\u001b[1;32m     11\u001b[0m     \u001b[38;5;66;03m# client = get_openai_client()\u001b[39;00m\n",
      "\u001b[0;31mImportError\u001b[0m: cannot import name 'transcribe_audio_in_format' from 'utils_transcribe' (/Users/anubhavtomar/2023_projects/chatgpt/chatgpt/utils_transcribe.py)"
     ]
    }
   ],
   "source": [
    "## lets transcribe with prompt \n",
    "from transcribe import transcribe_and_save\n"
   ]
  },
  {
   "cell_type": "code",
   "execution_count": null,
   "metadata": {},
   "outputs": [],
   "source": [
    "file"
   ]
  }
 ],
 "metadata": {
  "kernelspec": {
   "display_name": ".venv",
   "language": "python",
   "name": "python3"
  },
  "language_info": {
   "codemirror_mode": {
    "name": "ipython",
    "version": 3
   },
   "file_extension": ".py",
   "mimetype": "text/x-python",
   "name": "python",
   "nbconvert_exporter": "python",
   "pygments_lexer": "ipython3",
   "version": "3.9.6"
  }
 },
 "nbformat": 4,
 "nbformat_minor": 2
}
