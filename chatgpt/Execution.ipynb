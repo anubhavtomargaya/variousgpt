{
 "cells": [
  {
   "cell_type": "code",
   "execution_count": null,
   "metadata": {},
   "outputs": [],
   "source": [
    "## overall flow of adding a 'bot' for a recording \n",
    "# steps"
   ]
  },
  {
   "cell_type": "markdown",
   "metadata": {},
   "source": [
    "step 1 \n",
    "- get the raw data \n",
    "    - video file - video dir\n",
    "    - audio file - audio dir\n",
    "    - youtube link \n",
    "        - audio file - youtube dir\n",
    "step 2\n",
    "- process audio files to a compressed standard ogg format - processed dir \n",
    "- chop into chunks - chopped dir (tmp)\n",
    "- whisper for transcribing each chunk, build a single json file for the audio - transcript dir\n",
    "- summarise the \n"
   ]
  },
  {
   "cell_type": "code",
   "execution_count": null,
   "metadata": {},
   "outputs": [],
   "source": [
    "## step 1 - VIDEO FILE \n",
    "from video_to_audio import extract_audio\n",
    "from dirs import *\n",
    "\n",
    "video_filename = \"Juan_Camilo_Avendano_and_Ankit_Gupta.mp4\"\n",
    "audio_file_path = extract_audio(video_filepath=Path(VIDEO_DIR,video_filename).__str__())"
   ]
  },
  {
   "cell_type": "code",
   "execution_count": 10,
   "metadata": {},
   "outputs": [
    {
     "name": "stdout",
     "output_type": "stream",
     "text": [
      "starting stream check\n",
      "made yt: {'_js': None, '_js_url': None, '_vid_info': None, '_watch_html': None, '_embed_html': None, '_player_config_args': None, '_age_restricted': None, '_fmt_streams': None, '_initial_data': None, '_metadata': None, 'video_id': 'XZJ3fdV2Tkc', 'watch_url': 'https://youtube.com/watch?v=XZJ3fdV2Tkc', 'embed_url': 'https://www.youtube.com/embed/XZJ3fdV2Tkc', 'stream_monostate': <pytube.monostate.Monostate object at 0x120794640>, '_author': None, '_title': None, '_publish_date': None, 'use_oauth': False, 'allow_oauth_cache': True}\n",
      "starting download.... {'_monostate': <pytube.monostate.Monostate object at 0x120794640>, 'url': 'https://rr5---sn-h5576nsz.googlevideo.com/videoplayback?expire=1718503674&ei=mvRtZtbOB6bYjuMP_4aUoA4&ip=103.6.158.68&id=o-AHJ4zEyEYjTTZOEZdQx_CqjITORznxAH0iSU3yNzGjnb&itag=139&source=youtube&requiressl=yes&xpc=EgVo2aDSNQ%3D%3D&mh=aq&mm=31%2C26&mn=sn-h5576nsz%2Csn-cvh7knzd&ms=au%2Conr&mv=m&mvi=5&pl=24&initcwndbps=1887500&bui=AbKP-1O9ILLmAxjHeuE0OI3kOR7PqVtRvQbUevqiJpRZfk_epLdcnOVHwcsCksfsxESbEwtoJiKzrpYf&vprv=1&mime=audio%2Fmp4&rqh=1&gir=yes&clen=24081830&dur=3949.156&lmt=1716033618121713&mt=1718481655&fvip=1&keepalive=yes&c=ANDROID_EMBEDDED_PLAYER&txp=5308224&sparams=expire%2Cei%2Cip%2Cid%2Citag%2Csource%2Crequiressl%2Cxpc%2Cbui%2Cvprv%2Cmime%2Crqh%2Cgir%2Cclen%2Cdur%2Clmt&sig=AJfQdSswRQIhAPS51OtkuhRfalGQGlIItKET52pTbozRs3xPkooAOZDSAiAWOSM7ltrl_y2emY7J57U7gz8LoCh2A5LceeA5Iriokg%3D%3D&lsparams=mh%2Cmm%2Cmn%2Cms%2Cmv%2Cmvi%2Cpl%2Cinitcwndbps&lsig=AHlkHjAwRQIgD6pIC4INZx9y2kkKKie8XE_23axGyezpzdqNbsqWdn8CIQDdIHWDo4K7xfSyf9uoC6keMZJIpGBtrwQL_4qKKCufXw%3D%3D', 'itag': 139, 'mime_type': 'audio/mp4', 'codecs': ['mp4a.40.5'], 'type': 'audio', 'subtype': 'mp4', 'video_codec': None, 'audio_codec': 'mp4a.40.5', 'is_otf': False, 'bitrate': 53368, '_filesize': 24081830, '_filesize_kb': 23517.413, '_filesize_mb': 22.967, '_filesize_gb': 0.023, 'is_dash': True, 'abr': '48kbps', 'resolution': None, 'is_3d': False, 'is_hdr': False, 'is_live': False}\n",
      "meta updated  True {'title': 'Delhivery Ltd Q4 FY2023-24 Earnings Conference Call', 'file_path': '/Users/anubhavtomar/2023_projects/chatgpt/chatgpt/data/youtube/Delhivery_Ltd_Q4_FY2023-24_Earnings_Conference_Call.mp4', 'thumbnail_url': 'https://i.ytimg.com/vi/XZJ3fdV2Tkc/sddefault.jpg?v=664766cc', 'description': 'Unlock the Future of Market Intelligence with AlphaStreet! Our revolutionary global ecosystem connects public companies, investors, analysts, and experts. At AlphaStreet, our mission is to empower our constituents to build robust connections and harness cutting-edge technology for insightful, data-driven decision making.\\n\\n\\nDiscover the power of AI-driven AlphaStreet Intelligence, your gateway to services, research, and insights. Get real-time access to earnings and conference calls, interact with experts, engage with management/analysts/investor, all within one platform. Embrace innovation with our latest AI technology that allows for precision research from live and historical information and data. Zero in on insights from automatic topic categorization and on-demand summaries from a wealth of financial content. Additionally, experience generative AI for conversational interaction.\\n\\nAlphaStreet levels the playing field, giving you a strategic advantage in market intelligence. Join AlphaStreet, where we are uniting companies, analysts, investors, and experts to foster valuable interactions and shared insights.', 'length_minutes': 65.82}\n",
      "Downloaded audio from \"Delhivery Ltd Q4 FY2023-24 Earnings Conference Call\" to \"/Users/anubhavtomar/2023_projects/chatgpt/chatgpt/data/youtube/Delhivery_Ltd_Q4_FY2023-24_Earnings_Conference_Call.mp4\"\n"
     ]
    },
    {
     "data": {
      "text/plain": [
       "<audio_load_youtube.YoutubeMetadata at 0x1207557c0>"
      ]
     },
     "execution_count": 10,
     "metadata": {},
     "output_type": "execute_result"
    }
   ],
   "source": [
    "## step 1 -- YOUTUBE LINK\n",
    "from audio_load_youtube import download_youtube_audio\n",
    "from pathlib import Path\n",
    "\n",
    "\n",
    "url = 'https://www.youtube.com/watch?v=XZJ3fdV2Tkc'\n",
    "result = download_youtube_audio(url=url) # saves to YOUTUBE_DIR returns a meta\n",
    "print(result.__dict__)\n",
    "audio_file = Path(result.file_path).name\n",
    "result.file_path"
   ]
  },
  {
   "cell_type": "code",
   "execution_count": null,
   "metadata": {},
   "outputs": [],
   "source": []
  },
  {
   "cell_type": "code",
   "execution_count": 3,
   "metadata": {},
   "outputs": [],
   "source": [
    "## step 2 --YOUTUBE LINK\n",
    "from pathlib import Path\n",
    "file = 'Delhivery_Ltd_Q4_FY2023-24_Earnings_Conference_Call.mp4'\n",
    "# file = Path(result.file_path).name\n",
    "base_prmpt = \"CONFERENCE CALL OF A COMPANY QUARTERLY EARNINGS\" + file"
   ]
  },
  {
   "cell_type": "code",
   "execution_count": 4,
   "metadata": {},
   "outputs": [
    {
     "name": "stderr",
     "output_type": "stream",
     "text": [
      "/Users/anubhavtomar/2023_projects/chatgpt/.venv/lib/python3.9/site-packages/urllib3/__init__.py:35: NotOpenSSLWarning: urllib3 v2 only supports OpenSSL 1.1.1+, currently the 'ssl' module is compiled with 'LibreSSL 2.8.3'. See: https://github.com/urllib3/urllib3/issues/3020\n",
      "  warnings.warn(\n",
      "ffmpeg version 7.0.1 Copyright (c) 2000-2024 the FFmpeg developers\n",
      "  built with Apple clang version 15.0.0 (clang-1500.3.9.4)\n",
      "  configuration: --prefix=/opt/homebrew/Cellar/ffmpeg/7.0.1 --enable-shared --enable-pthreads --enable-version3 --cc=clang --host-cflags= --host-ldflags='-Wl,-ld_classic' --enable-ffplay --enable-gnutls --enable-gpl --enable-libaom --enable-libaribb24 --enable-libbluray --enable-libdav1d --enable-libharfbuzz --enable-libjxl --enable-libmp3lame --enable-libopus --enable-librav1e --enable-librist --enable-librubberband --enable-libsnappy --enable-libsrt --enable-libssh --enable-libsvtav1 --enable-libtesseract --enable-libtheora --enable-libvidstab --enable-libvmaf --enable-libvorbis --enable-libvpx --enable-libwebp --enable-libx264 --enable-libx265 --enable-libxml2 --enable-libxvid --enable-lzma --enable-libfontconfig --enable-libfreetype --enable-frei0r --enable-libass --enable-libopencore-amrnb --enable-libopencore-amrwb --enable-libopenjpeg --enable-libspeex --enable-libsoxr --enable-libzmq --enable-libzimg --disable-libjack --disable-indev=jack --enable-videotoolbox --enable-audiotoolbox --enable-neon\n",
      "  libavutil      59.  8.100 / 59.  8.100\n",
      "  libavcodec     61.  3.100 / 61.  3.100\n",
      "  libavformat    61.  1.100 / 61.  1.100\n",
      "  libavdevice    61.  1.100 / 61.  1.100\n",
      "  libavfilter    10.  1.100 / 10.  1.100\n",
      "  libswscale      8.  1.100 /  8.  1.100\n",
      "  libswresample   5.  1.100 /  5.  1.100\n",
      "  libpostproc    58.  1.100 / 58.  1.100\n",
      "Input #0, mov,mp4,m4a,3gp,3g2,mj2, from '/Users/anubhavtomar/2023_projects/chatgpt/chatgpt/data/youtube/Delhivery_Ltd_Q4_FY2023-24_Earnings_Conference_Call.mp4':\n",
      "  Metadata:\n",
      "    major_brand     : dash\n",
      "    minor_version   : 0\n",
      "    compatible_brands: iso6mp41\n",
      "    creation_time   : 2024-05-18T11:58:12.000000Z\n",
      "    encoder         : Google\n",
      "  Duration: 01:05:49.16, start: 0.000000, bitrate: 48 kb/s\n",
      "  Stream #0:0[0x1](und): Audio: aac (HE-AAC) (mp4a / 0x6134706D), 44100 Hz, stereo, fltp, 0 kb/s (default)\n",
      "      Metadata:\n",
      "        creation_time   : 2024-05-18T11:58:12.000000Z\n",
      "        handler_name    : ISO Media file produced by Google Inc.\n",
      "        vendor_id       : [0][0][0][0]\n",
      "Stream mapping:\n",
      "  Stream #0:0 -> #0:0 (aac (native) -> opus (libopus))\n",
      "Press [q] to stop, [?] for help\n",
      "Output #0, ogg, to '/Users/anubhavtomar/2023_projects/chatgpt/chatgpt/data/processed/Delhivery_Ltd_Q4_FY2023-24_Earnings_Conference_Call.ogg':\n",
      "  Metadata:\n",
      "    encoder         : Lavf61.1.100\n",
      "  Stream #0:0: Audio: opus, 48000 Hz, mono, flt, 12 kb/s (default)\n",
      "      Metadata:\n",
      "        encoder         : Lavc61.3.100 libopus\n",
      "[out#0/ogg @ 0x15b8043e0] video:0KiB audio:5481KiB subtitle:0KiB other streams:0KiB global headers:0KiB muxing overhead: 5.420333%\n",
      "size=    5779KiB time=01:05:49.15 bitrate=  12.0kbits/s speed= 109x    \n"
     ]
    },
    {
     "name": "stdout",
     "output_type": "stream",
     "text": [
      "Audio re-encoded successfully to /Users/anubhavtomar/2023_projects/chatgpt/chatgpt/data/processed/Delhivery_Ltd_Q4_FY2023-24_Earnings_Conference_Call.ogg\n",
      "Delhivery_Ltd_Q4_FY2023-24_Earnings_Conference_Call\n",
      "/Users/anubhavtomar/2023_projects/chatgpt/chatgpt/data/processed/Delhivery_Ltd_Q4_FY2023-24_Earnings_Conference_Call.ogg\n",
      "/Users/anubhavtomar/2023_projects/chatgpt/chatgpt/data/processed/Delhivery_Ltd_Q4_FY2023-24_Earnings_Conference_Call.ogg\n",
      "Total audio length: 3949.16 seconds\n",
      "starting chop\n",
      "chop done  1\n",
      "segment cost : 0.06\n",
      "chop done  2\n",
      "segment cost : 0.06\n",
      "chop done  3\n",
      "segment cost : 0.06\n",
      "chop done  4\n",
      "segment cost : 0.06\n",
      "chop done  5\n",
      "segment cost : 0.06\n",
      "chop done  6\n",
      "segment cost : 0.06\n",
      "chop done  7\n",
      "segment cost : 0.03\n",
      "Audio file chopped into 7 segments successfully!\n",
      "starting transcriptioni, got client\n",
      "chunk files: <class 'list'> ['Delhivery_Ltd_Q4_FY2023-24_Earnings_Conference_Call_1.ogg', 'Delhivery_Ltd_Q4_FY2023-24_Earnings_Conference_Call_2.ogg', 'Delhivery_Ltd_Q4_FY2023-24_Earnings_Conference_Call_3.ogg', 'Delhivery_Ltd_Q4_FY2023-24_Earnings_Conference_Call_4.ogg', 'Delhivery_Ltd_Q4_FY2023-24_Earnings_Conference_Call_5.ogg', 'Delhivery_Ltd_Q4_FY2023-24_Earnings_Conference_Call_6.ogg', 'Delhivery_Ltd_Q4_FY2023-24_Earnings_Conference_Call_7.ogg']\n",
      "file path of chunk : /Users/anubhavtomar/2023_projects/chatgpt/chatgpt/data/processed/chopped/Delhivery_Ltd_Q4_FY2023-24_Earnings_Conference_Call_1.ogg\n",
      "calling open api whisper started...\n",
      "calling open api end.\n",
      "total time  27 seconds\n",
      "total cost $ 0 2\n",
      "file path of chunk : /Users/anubhavtomar/2023_projects/chatgpt/chatgpt/data/processed/chopped/Delhivery_Ltd_Q4_FY2023-24_Earnings_Conference_Call_2.ogg\n",
      "calling open api whisper started...\n",
      "calling open api end.\n",
      "total time  27 seconds\n",
      "total cost $ 0 2\n",
      "file path of chunk : /Users/anubhavtomar/2023_projects/chatgpt/chatgpt/data/processed/chopped/Delhivery_Ltd_Q4_FY2023-24_Earnings_Conference_Call_3.ogg\n",
      "calling open api whisper started...\n",
      "calling open api end.\n",
      "total time  27 seconds\n",
      "total cost $ 0 2\n",
      "file path of chunk : /Users/anubhavtomar/2023_projects/chatgpt/chatgpt/data/processed/chopped/Delhivery_Ltd_Q4_FY2023-24_Earnings_Conference_Call_4.ogg\n",
      "calling open api whisper started...\n",
      "calling open api end.\n",
      "total time  28 seconds\n",
      "total cost $ 0 2\n",
      "file path of chunk : /Users/anubhavtomar/2023_projects/chatgpt/chatgpt/data/processed/chopped/Delhivery_Ltd_Q4_FY2023-24_Earnings_Conference_Call_5.ogg\n",
      "calling open api whisper started...\n",
      "calling open api end.\n",
      "total time  27 seconds\n",
      "total cost $ 0 2\n",
      "file path of chunk : /Users/anubhavtomar/2023_projects/chatgpt/chatgpt/data/processed/chopped/Delhivery_Ltd_Q4_FY2023-24_Earnings_Conference_Call_6.ogg\n",
      "calling open api whisper started...\n",
      "calling open api end.\n",
      "total time  27 seconds\n",
      "total cost $ 0 2\n",
      "file path of chunk : /Users/anubhavtomar/2023_projects/chatgpt/chatgpt/data/processed/chopped/Delhivery_Ltd_Q4_FY2023-24_Earnings_Conference_Call_7.ogg\n",
      "calling open api whisper started...\n",
      "calling open api end.\n",
      "total time  15 seconds\n",
      "total cost $ 0 2\n",
      "saving json file to... /Users/anubhavtomar/2023_projects/chatgpt/chatgpt/data/processed/transcripts/Delhivery_Ltd_Q4_FY2023-24_Earnings_Conference_Call.json\n",
      "0 file processsed as ts:  Delhivery_Ltd_Q4_FY2023-24_Earnings_Conference_Call_7\n"
     ]
    },
    {
     "data": {
      "text/plain": [
       "'Delhivery_Ltd_Q4_FY2023-24_Earnings_Conference_Call.json'"
      ]
     },
     "execution_count": 4,
     "metadata": {},
     "output_type": "execute_result"
    }
   ],
   "source": [
    "from concall_audio_to_text import create_text_from_audio\n",
    "## ---- USES WHISPER CREDIT ------ ###  \n",
    "\n",
    "# note: update the size reduction in logs from converting to ogg\n",
    "output_file = create_text_from_audio(file_name=file,base_prompt=base_prmpt,youtube=True ) # YT TRUE TO make sure correct dir is used\n",
    "    \n",
    "output_file\n",
    "\n",
    "## execution notes: took 4 minutes to do delhivery audio ~66minutes"
   ]
  },
  {
   "cell_type": "code",
   "execution_count": 3,
   "metadata": {},
   "outputs": [],
   "source": [
    "## step 2 -- VIDEO FILE\n",
    "file = \"Juan_Camilo_Avendano_and_Ankit_Gupta.mp3\"\n",
    "base_prmpt = \"INTERVIEW CALL BETWEEN TWO PEOPLE:\" + file "
   ]
  },
  {
   "cell_type": "code",
   "execution_count": null,
   "metadata": {},
   "outputs": [],
   "source": [
    "\n",
    "from concall_audio_to_text import create_text_from_audio\n",
    "## ---- USES WHISPER CREDIT ------ ###  \n",
    "\n",
    "output_file = create_text_from_audio(file_name=file,base_prompt=base_prmpt,youtube=False)\n",
    "    \n",
    "output_file"
   ]
  },
  {
   "cell_type": "code",
   "execution_count": 2,
   "metadata": {},
   "outputs": [
    {
     "name": "stdout",
     "output_type": "stream",
     "text": [
      "10805 61428\n",
      "new chunk size 5800\n",
      "num chunks 11\n",
      "running gpt on the chunks, num chunks : 11\n",
      "processing:  0 ...\n",
      "processing:  1 ...\n",
      "processing:  2 ...\n",
      "processing:  3 ...\n",
      "processing:  4 ...\n",
      "processing:  5 ...\n",
      "processing:  6 ...\n",
      "processing:  7 ...\n",
      "processing:  8 ...\n",
      "processing:  9 ...\n",
      "processing:  10 ...\n"
     ]
    },
    {
     "data": {
      "text/plain": [
       "PosixPath('/Users/anubhavtomar/2023_projects/chatgpt/chatgpt/data/processed/transcripts/summary/Delhivery_Ltd_Q4_FY2023-24_Earnings_Conference_Call.json')"
      ]
     },
     "execution_count": 2,
     "metadata": {},
     "output_type": "execute_result"
    }
   ],
   "source": [
    "## step 3 - summarise for concall - optional not also not.\n",
    "from concall_text_to_kowledge import create_text_meta_doc\n",
    "file = 'Delhivery_Ltd_Q4_FY2023-24_Earnings_Conference_Call.mp4'\n",
    "# file = Path(result.file_path).name\n",
    "base_prmpt = \"CONFERENCE CALL OF A COMPANY QUARTERLY EARNINGS\" + file\n",
    "summary_prmpt_concall = f\"FILE: {file} ||  You are a helpful assistant to summarise a quarterly EARNINGS CONFERENCE CALL. The transcript of the call will be provided in chunks as context and you have to extract information carefully and concisely in summaries.  \"\n",
    "sections_concall =  ['INTRO', 'MANAGEMENT NOTE', 'ANALYST QA', 'CONCLUSION']\n",
    "summary_file = create_text_meta_doc(ts_filename=file,chunk_size=4000,summariser_prompt=summary_prmpt_concall,sections=sections_concall)\n",
    "summary_file"
   ]
  },
  {
   "cell_type": "code",
   "execution_count": null,
   "metadata": {},
   "outputs": [],
   "source": [
    "# step 3 - summarise as per use case - optional but also not.\n",
    "# -- uses openai -- #\n",
    "from chatgpt.concall_text_to_kowledge import create_text_meta_doc\n",
    "\n",
    "summary_prmpt_interview = \"You are a helpful assistant to aid a USER INTERVIEW CALL. The transcript of the call will be provided in chunks \\\n",
    "                         Provide the summary highlihgting the sentiments and possible pain points of the user.  \\\n",
    "                            Remember that the Interviewr is A PRODUCT MANAGER and the other person is a CHURNED OUT USER OF THE APP SCISPACE\"\n",
    "sections_interview = ['INTRO','QA','DISCUSSION','TAKEAWAYS']\n",
    "\n",
    "\n",
    "summary_file = create_text_meta_doc(ts_filename=file,chunk_size=1000,summariser_prompt=summary_prmpt_interview,sections=sections_interview)\n",
    "summary_file\n",
    "    # print(test_load_ts())"
   ]
  },
  {
   "cell_type": "code",
   "execution_count": 3,
   "metadata": {},
   "outputs": [
    {
     "name": "stdout",
     "output_type": "stream",
     "text": [
      "embedding k 0\n",
      "embedding k 1\n",
      "embedding k 2\n",
      "embedding k 3\n",
      "embedding k 4\n",
      "embedding k 5\n",
      "embedding k 6\n",
      "embedding k 7\n",
      "embedding k 8\n",
      "embedding k 9\n",
      "embedding k 10\n"
     ]
    },
    {
     "data": {
      "text/plain": [
       "PosixPath('/Users/anubhavtomar/2023_projects/chatgpt/chatgpt/data/processed/transcripts/summary/embeddings/Delhivery_Ltd_Q4_FY2023-24_Earnings_Conference_Call.json')"
      ]
     },
     "execution_count": 3,
     "metadata": {},
     "output_type": "execute_result"
    }
   ],
   "source": [
    "## step 4 \n",
    "from concall_text_to_kowledge import create_embeddings_from_chunk_doc\n",
    "\n",
    "\n",
    "embedding_doc_file = create_embeddings_from_chunk_doc(filename=file)\n",
    "embedding_doc_file"
   ]
  },
  {
   "cell_type": "code",
   "execution_count": 8,
   "metadata": {},
   "outputs": [
    {
     "name": "stdout",
     "output_type": "stream",
     "text": [
      "specific\n",
      "1812\n",
      "record saved  True\n",
      "ANSWER:\n"
     ]
    },
    {
     "data": {
      "text/plain": [
       "\"To help users like the one in the transcript who faced challenges with using the platform and ultimately churned out, you can take the following steps:\\n\\n1. **Feedback Collection**: It's important to actively collect feedback from users who have churned out to understand their pain points and reasons for leaving. This can be done through surveys, feedback forms, or even direct interviews like the one in the transcript.\\n\\n2. **Identifying Patterns**: Look for common themes or patterns in the feedback received from churned users. In this case, the user faced issues with getting relevant information from the platform, slow customer support, and lack of trust in the system's functionality.\\n\\n3. **Improving Platform Functionality**: Address the specific issues highlighted by the user,\""
      ]
     },
     "execution_count": 8,
     "metadata": {},
     "output_type": "execute_result"
    }
   ],
   "source": [
    "# step 5 - final step\n",
    " \n",
    "from concall_question_over_knowledge import answer_question, get_context_corpus\n",
    "\n",
    "organisation = 'Scispace - CoPilot'\n",
    "filename =  'Juan_Camilo_Avendano_and_Ankit_Gupta.json'\n",
    "question_prompt = f\" You will be provided with transcript chunks of an interview call between a Product manger and a customer \\\n",
    "                            the user is a churned out user and the PM seeks to gains some insights into the reasons. \\n  ORGANISATION : {organisation} \\n FILENAME : {filename}\"\n",
    "def test_answer_from_gpt_scispace( question_prompt=question_prompt):\n",
    "    doc = get_context_corpus(file_name=filename,)\n",
    "    \n",
    "    # question = \"what is this call about?\"\n",
    "    # question = \"what are the pain points mentioned by the user ?\"\n",
    "    # question = \"what are the action items i can add in my next quarter's roadmap for the copilot based on the users response?\"\n",
    "    question = \"How can I help this user or other users like him? How can I identify users like him?\"\n",
    "    \n",
    "    \n",
    "    return  answer_question(doc,question,\n",
    "                            file_name=filename,\n",
    "                            question_prompt=question_prompt,\n",
    "                            _top_n=5)\n",
    "test_answer_from_gpt_scispace()"
   ]
  },
  {
   "cell_type": "code",
   "execution_count": 15,
   "metadata": {},
   "outputs": [
    {
     "name": "stdout",
     "output_type": "stream",
     "text": [
      "summary\n",
      "creating summary prompt\n",
      "1135\n",
      "record saved  True\n",
      "ANSWER:\n"
     ]
    },
    {
     "data": {
      "text/plain": [
       "'Revenue increased by 13% compared to the previous fiscal year, with Express being the largest segment contributing 62% of revenue, followed by PTL at 19% and other businesses at 20%. Express parcel revenues grew by 12% year-on-year, while PTL freight revenues significantly increased by 31%. Adjusted EBITDA turned around from a loss to 1% of revenues in the current financial year.\\n\\nThe supply chain services business doubled service EBITDA between fiscal 23 and fiscal 24 due to commercial renegotiations and operational optimization. Marketing expenses increased, technology costs and G&A expenses remained constant. Overall adjusted EBITDA improved by about 500 crores, with a net working capital position of 31 days at'"
      ]
     },
     "execution_count": 15,
     "metadata": {},
     "output_type": "execute_result"
    }
   ],
   "source": [
    "# step 5 - final step\n",
    " \n",
    "from concall_question_over_knowledge import answer_question, get_context_corpus\n",
    "\n",
    "organisation = 'Delhivery'\n",
    "filename =  'Delhivery_Ltd_Q4_FY2023-24_Earnings_Conference_Call.json'\n",
    "question_prompt = f\" You will be provided with transcript chunks of a conference call. \\\n",
    "                    Followed by a question from an investor who is either invested in the  company or is looking to invest for mid to long term. Answer such that \\\n",
    "                    you are expert stocks analyst. All currency are in INDIAN RUPEES (INR). \\\n",
    "                    Answer without any starting phrases like '..here are the' etc. Only reply with the required information in concise but detailed manner \\\n",
    "                     \\n  ORGANISATION : {organisation} \\n FILENAME : {filename}\"\n",
    "\n",
    "def test_answer_from_gpt_delhivery( question_prompt=question_prompt):\n",
    "    doc = get_context_corpus(file_name=filename,)\n",
    "    \n",
    "    # question = \"what is this call about?\"\n",
    "    # question = \"What was the overall performance of the company in the last quarter?\"\n",
    "    question = \"was there a huge drop in profits, revenue or margins this quarter? Should I be worried about anything  \"\n",
    "    question = \"what are some signs I could be on the lookout for to see if performance of company is improving in the coming months in accordance with the management's goals and commitments mentioned in this call?\"\n",
    "    question = \"what are the financial numbers I can expect in next quarter based on this?\"\n",
    "    question = \"Key concerns raised by the analysts in QA?\"\n",
    "    # question = \"What will be their approximate revenue in coming two quarters comparing with YoY and this Quarter.\"\n",
    "    # question = \"what measures the management is taking to keep the revenue and margins up in coming quarters?\"\n",
    "    # question = \"how does the management keep their employees motivated or follow work life balance? I want to understand the work culture in Morepen Lab.\"\n",
    "    # question = \"what are the main products and revenue sources of this company?\"\n",
    "\n",
    "    # question = \"what were the key areas of performance growth in this quarter according to the management?\"\n",
    "    # question = \"Summarise the analyst QnA of the call in around 600 words?\"\n",
    "    # # question = \"when is next tom cruise movie coming?\"\n",
    "    # question = \"what are the revenues and profit numbers of their competitors this quarter? If not available then just give me the competitor companies.\"\n",
    "    # question = \"what does this company do? \"\n",
    "    question = \"summarise the management's take on the company's performance along with analysts's concerns and key take aways.\"\n",
    "    \n",
    "    return  answer_question(doc,question,\n",
    "                            file_name=filename,\n",
    "                            question_prompt=question_prompt,\n",
    "                            _top_n=3)\n",
    "test_answer_from_gpt_delhivery()"
   ]
  }
 ],
 "metadata": {
  "kernelspec": {
   "display_name": ".venv",
   "language": "python",
   "name": "python3"
  },
  "language_info": {
   "codemirror_mode": {
    "name": "ipython",
    "version": 3
   },
   "file_extension": ".py",
   "mimetype": "text/x-python",
   "name": "python",
   "nbconvert_exporter": "python",
   "pygments_lexer": "ipython3",
   "version": "3.9.6"
  }
 },
 "nbformat": 4,
 "nbformat_minor": 2
}
