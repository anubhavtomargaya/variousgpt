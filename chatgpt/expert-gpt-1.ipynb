{
 "cells": [
  {
   "cell_type": "code",
   "execution_count": 1,
   "metadata": {},
   "outputs": [
    {
     "name": "stderr",
     "output_type": "stream",
     "text": [
      "/Users/anubhavtomar/2023_projects/chatgpt/.venv/lib/python3.9/site-packages/urllib3/__init__.py:35: NotOpenSSLWarning: urllib3 v2 only supports OpenSSL 1.1.1+, currently the 'ssl' module is compiled with 'LibreSSL 2.8.3'. See: https://github.com/urllib3/urllib3/issues/3020\n",
      "  warnings.warn(\n"
     ]
    }
   ],
   "source": [
    "# write a prompt to define the input and output of a gpt call - expert gpt in a specific task\n",
    "from utils import get_openai_client, read_web_content, query_system_expert ,extract_message_choice"
   ]
  },
  {
   "cell_type": "code",
   "execution_count": 2,
   "metadata": {},
   "outputs": [],
   "source": [
    "client = get_openai_client()\n"
   ]
  },
  {
   "cell_type": "code",
   "execution_count": 34,
   "metadata": {},
   "outputs": [],
   "source": [
    "bse_markets = 'https://www.bseindia.com/markets.html' #crap\n",
    "# reddit_thread = 'https://www.reddit.com/r/MachineLearning/comments/1bho0r0/in_2024_which_library_is_best_for_time_series/' #blocked\n",
    "medium_article = 'https://medium.com/@goldengoat/how-to-perform-anomaly-detection-in-time-series-data-with-python-methods-code-example-e83b9c951a37'\n",
    "members_medium_article = 'https://medium.com/@pspddo/new-python-tools-that-deserve-your-attention-02df2fb987a8'\n",
    "# content = read_web_content(medium_article)\n",
    "\n",
    "# content.__dict__"
   ]
  },
  {
   "cell_type": "code",
   "execution_count": 4,
   "metadata": {},
   "outputs": [],
   "source": [
    "## lets write an agent that can parse the response from the jina reader api. It is built for medium type articles.\n",
    "# ideally the medium article should return well structured markdown from reader api -> infer that structure -> return as json \n",
    "# classify the story as members or free based on the content recvd -> if its not full article then classify as members only and its a failure for story collecting agent.\n"
   ]
  },
  {
   "cell_type": "code",
   "execution_count": 5,
   "metadata": {},
   "outputs": [],
   "source": [
    "system_response_type = {\n",
    "    \"meta\": {\n",
    "        \"status\": \"success\" ,\n",
    "         \"message\": \"if error then ....\" # Or \"error\" if there's an issue\n",
    "    },\n",
    "    \"data\": {\n",
    "        \"article_insights\": {\n",
    "        \"title\": \"...\",\n",
    "        \"url\": \"...\",\n",
    "        \"published_time\": \"...\",\n",
    "        \"key_topics\": [\"...\", \"...\", \"...\"],\n",
    "        \"summary_200\" : \"summary in 200 words\",\n",
    "\n",
    "        \n",
    "        \"code_snippets\": [\n",
    "            {\n",
    "            \"language\": \"...\",\n",
    "            \"code\": \"...\"\n",
    "            },\n",
    "        ]\n",
    "        },\n",
    "        \"links\": ['list','of','links in the article' ] \n",
    "    \n",
    "        # \"cleaned_article\": \" ... cleanup any special characters or spaces in the article and put under the key. keep full article no summarising\"\n",
    "    }\n",
    "}"
   ]
  },
  {
   "cell_type": "code",
   "execution_count": 36,
   "metadata": {},
   "outputs": [
    {
     "data": {
      "text/plain": [
       "'Analyze the provided text and extract the available information in the form of structure provided at the end.  \\n                    FIRST AND  MOST IMPORTANTLY: if the content provided isnt long enough or COMPLETE, or DOESNT LOOK  like a article to you. Update status as failed and message as \"MEMBERS_ONLY\".\\n                    meta.status as warning. if the content is too big. (more than 2000 words).\\n                    Only parse the unstructure data according to the above structure. \\n                    if most of the content is not fiiting in the structure of data, update the meta.status to failed, with additional messagelike \"NO ARTICLE FOUND\".\\n                    Remember that you are an expert in parsing unstructured markdown content into json, recognising entities very easily.\\n                    Response structure : {\\'meta\\': {\\'status\\': \\'success\\', \\'message\\': \\'if error then ....\\'}, \\'data\\': {\\'article_insights\\': {\\'title\\': \\'...\\', \\'url\\': \\'...\\', \\'published_time\\': \\'...\\', \\'key_topics\\': [\\'...\\', \\'...\\', \\'...\\'], \\'summary_200\\': \\'summary in 200 words\\', \\'code_snippets\\': [{\\'language\\': \\'...\\', \\'code\\': \\'...\\'}]}, \\'links\\': [\\'list\\', \\'of\\', \\'links in the article\\']}}.\\n\\n                        '"
      ]
     },
     "execution_count": 36,
     "metadata": {},
     "output_type": "execute_result"
    }
   ],
   "source": [
    "system_prompt_full = f\"\"\"Analyze the provided text and extract the available information in the form of structure provided at the end.  \n",
    "                    FIRST AND  MOST IMPORTANTLY: if the content provided isnt long enough or COMPLETE, or DOESNT LOOK  like a article to you. Update status as failed and message as \"MEMBERS_ONLY\".\n",
    "                    meta.status as warning. if the content is too big. (more than 2000 words).\n",
    "                    Only parse the unstructure data according to the above structure. \n",
    "                    if most of the content is not fiiting in the structure of data, update the meta.status to failed, with additional messagelike \"NO ARTICLE FOUND\".\n",
    "                    Remember that you are an expert in parsing unstructured markdown content into json, recognising entities very easily.\n",
    "                    Response structure : {system_response_type.__str__()}.\n",
    "\n",
    "                        \"\"\"\n",
    "system_prompt_chunk = f\"\"\"Analyze the provided text and decide wether the article is complete or is cut down? \n",
    "                    if the article is members only it would only have some starting part of the actual article, you need to identify it and return\n",
    "                    FULL_ARTICLE, INCOMPLETE_ARTICLE, UNIDENTIFIED_CONTENT based on the following:\n",
    "                    UNIDENTIFIED_CONTENT:  when the input content does not look like a BLOG OR AN ARTICLE. but some random website homepage or naviagtions content then mark it as UNIDENTIFIED_CONTENT.\n",
    "\n",
    "                    Remember that you are an avid reader and recognise how humans read and write documentation and stories. The input is passed by a scraper that has already removed most html and gives you markdown. So use that.\n",
    "                    FULL_ARTICLE: Only say FULL_ARTICLE when you are 200% sure that the content provided is a BLOG OR ARTICLE like news or educational written by people.\n",
    "                    INCOMPLETE_ARTICLE: this is a rare case when the provided link is under pay wall. so recognise these paywalls and ONLY WHEN you are sure its incomplete due to the pay-wall, mark as INCOMPLETE.\n",
    "                    \"\"\"\n",
    "system_prompt_full"
   ]
  },
  {
   "cell_type": "code",
   "execution_count": 7,
   "metadata": {},
   "outputs": [],
   "source": [
    "## read a chosen article - success case\n",
    "reader = read_web_content(medium_article)\n",
    "content = reader.content\n"
   ]
  },
  {
   "cell_type": "code",
   "execution_count": 12,
   "metadata": {},
   "outputs": [
    {
     "name": "stdout",
     "output_type": "stream",
     "text": [
      "ChatCompletion(id='chatcmpl-9WgXlceJubSNApQeXZPZcQw0gb1Lp', choices=[Choice(finish_reason='stop', index=0, logprobs=None, message=ChatCompletionMessage(content='{\\'meta\\': {\\'status\\': \\'success\\', \\'message\\': \\'Data parsed successfully.\\'}, \\'data\\': {\\'article_insights\\': {\\'title\\': \\'How to perform anomaly detection in time series data with python? Methods, Code, Example!\\', \\'url\\': \\'https://medium.com/@goldengoat/how-to-perform-anomaly-detection-in-time-series-data-with-python-methods-code-example-e83b9c951a37\\', \\'published_time\\': \\'2023-06-30T04:11:11.678Z\\', \\'key_topics\\': [\\'Why our business needs anomaly detection?\\', \\'Types of time series anomalies\\', \\'Anomaly detection algorithms\\', \\'Implementation example\\'], \\'summary_200\\': \"In this article, the importance of anomaly detection in time series data for businesses is discussed. The types of anomalies, including Level Shift Anomalies and Collective Anomalies, are explained. Two anomaly detection algorithms, Level Shift Anomaly Detection using ADTK and Isolation Forest, are detailed along with their advantages and disadvantages. An implementation example is provided, showcasing how to detect anomalies in a real-world scenario and the results obtained from using both algorithms.\", \\'code_snippets\\': [{\\'language\\': \\'python\\', \\'code\\': \\'import pandas as pd\\\\nimport plotly.graph_objects as go\\\\ndef load_data(filename, x_column, y_column):\\\\n    df = pd.read_csv(filename)\\\\n    df.index = pd.to_datetime(df[x_column])\\\\n    df.drop(columns=x_column, inplace=True)\\\\n    df[y_column] = df[y_column].astype(float)\\\\n    return df\\\\n\\\\n# More code snippets available in the article for anomaly detection in time series data.\\'}], \\'links\\': [\\'https://rapidminer.com/glossary/anomaly-detection/\\', \\'https://adtk.readthedocs.io/en/stable/index.html\\', \\'https://adtk.readthedocs.io/en/stable/userguide.html\\', \\'https://tech.clevertap.com/anomaly-detection-for-time-series-data-part-1/\\', \\'https://cs.nju.edu.cn/zhouzh/zhouzh.files/publication/icdm08b.pdf\\', \\'https://github.com/YuRongTsao/anomaly-detection/tree/main\\']}}}\\n', role='assistant', function_call=None, tool_calls=None))], created=1717577061, model='gpt-3.5-turbo-0125', object='chat.completion', system_fingerprint=None, usage=CompletionUsage(completion_tokens=454, prompt_tokens=5942, total_tokens=6396))\n"
     ]
    }
   ],
   "source": [
    "response , client = query_system_expert(system_content=system_prompt_full,\n",
    "                                        user_input=str(content),max_tokens=1024)\n",
    "print(response)"
   ]
  },
  {
   "cell_type": "code",
   "execution_count": 13,
   "metadata": {},
   "outputs": [
    {
     "name": "stdout",
     "output_type": "stream",
     "text": [
      "message rcvd:\n",
      "{'id': 'chatcmpl-9WgXlceJubSNApQeXZPZcQw0gb1Lp', 'choices': [Choice(finish_reason='stop', index=0, logprobs=None, message=ChatCompletionMessage(content='{\\'meta\\': {\\'status\\': \\'success\\', \\'message\\': \\'Data parsed successfully.\\'}, \\'data\\': {\\'article_insights\\': {\\'title\\': \\'How to perform anomaly detection in time series data with python? Methods, Code, Example!\\', \\'url\\': \\'https://medium.com/@goldengoat/how-to-perform-anomaly-detection-in-time-series-data-with-python-methods-code-example-e83b9c951a37\\', \\'published_time\\': \\'2023-06-30T04:11:11.678Z\\', \\'key_topics\\': [\\'Why our business needs anomaly detection?\\', \\'Types of time series anomalies\\', \\'Anomaly detection algorithms\\', \\'Implementation example\\'], \\'summary_200\\': \"In this article, the importance of anomaly detection in time series data for businesses is discussed. The types of anomalies, including Level Shift Anomalies and Collective Anomalies, are explained. Two anomaly detection algorithms, Level Shift Anomaly Detection using ADTK and Isolation Forest, are detailed along with their advantages and disadvantages. An implementation example is provided, showcasing how to detect anomalies in a real-world scenario and the results obtained from using both algorithms.\", \\'code_snippets\\': [{\\'language\\': \\'python\\', \\'code\\': \\'import pandas as pd\\\\nimport plotly.graph_objects as go\\\\ndef load_data(filename, x_column, y_column):\\\\n    df = pd.read_csv(filename)\\\\n    df.index = pd.to_datetime(df[x_column])\\\\n    df.drop(columns=x_column, inplace=True)\\\\n    df[y_column] = df[y_column].astype(float)\\\\n    return df\\\\n\\\\n# More code snippets available in the article for anomaly detection in time series data.\\'}], \\'links\\': [\\'https://rapidminer.com/glossary/anomaly-detection/\\', \\'https://adtk.readthedocs.io/en/stable/index.html\\', \\'https://adtk.readthedocs.io/en/stable/userguide.html\\', \\'https://tech.clevertap.com/anomaly-detection-for-time-series-data-part-1/\\', \\'https://cs.nju.edu.cn/zhouzh/zhouzh.files/publication/icdm08b.pdf\\', \\'https://github.com/YuRongTsao/anomaly-detection/tree/main\\']}}}\\n', role='assistant', function_call=None, tool_calls=None))], 'created': 1717577061, 'model': 'gpt-3.5-turbo-0125', 'object': 'chat.completion', 'system_fingerprint': None, 'usage': CompletionUsage(completion_tokens=454, prompt_tokens=5942, total_tokens=6396)}\n"
     ]
    },
    {
     "data": {
      "text/plain": [
       "'{\\'meta\\': {\\'status\\': \\'success\\', \\'message\\': \\'Data parsed successfully.\\'}, \\'data\\': {\\'article_insights\\': {\\'title\\': \\'How to perform anomaly detection in time series data with python? Methods, Code, Example!\\', \\'url\\': \\'https://medium.com/@goldengoat/how-to-perform-anomaly-detection-in-time-series-data-with-python-methods-code-example-e83b9c951a37\\', \\'published_time\\': \\'2023-06-30T04:11:11.678Z\\', \\'key_topics\\': [\\'Why our business needs anomaly detection?\\', \\'Types of time series anomalies\\', \\'Anomaly detection algorithms\\', \\'Implementation example\\'], \\'summary_200\\': \"In this article, the importance of anomaly detection in time series data for businesses is discussed. The types of anomalies, including Level Shift Anomalies and Collective Anomalies, are explained. Two anomaly detection algorithms, Level Shift Anomaly Detection using ADTK and Isolation Forest, are detailed along with their advantages and disadvantages. An implementation example is provided, showcasing how to detect anomalies in a real-world scenario and the results obtained from using both algorithms.\", \\'code_snippets\\': [{\\'language\\': \\'python\\', \\'code\\': \\'import pandas as pd\\\\nimport plotly.graph_objects as go\\\\ndef load_data(filename, x_column, y_column):\\\\n    df = pd.read_csv(filename)\\\\n    df.index = pd.to_datetime(df[x_column])\\\\n    df.drop(columns=x_column, inplace=True)\\\\n    df[y_column] = df[y_column].astype(float)\\\\n    return df\\\\n\\\\n# More code snippets available in the article for anomaly detection in time series data.\\'}], \\'links\\': [\\'https://rapidminer.com/glossary/anomaly-detection/\\', \\'https://adtk.readthedocs.io/en/stable/index.html\\', \\'https://adtk.readthedocs.io/en/stable/userguide.html\\', \\'https://tech.clevertap.com/anomaly-detection-for-time-series-data-part-1/\\', \\'https://cs.nju.edu.cn/zhouzh/zhouzh.files/publication/icdm08b.pdf\\', \\'https://github.com/YuRongTsao/anomaly-detection/tree/main\\']}}}\\n'"
      ]
     },
     "execution_count": 13,
     "metadata": {},
     "output_type": "execute_result"
    }
   ],
   "source": [
    "msg = extract_message_choice(response)\n",
    "msg"
   ]
  },
  {
   "cell_type": "code",
   "execution_count": 28,
   "metadata": {},
   "outputs": [
    {
     "data": {
      "text/plain": [
       "\"{'meta': {'status': 'success', 'message': 'Data parsed successfully.'}, 'data': {'article_insights': {'title': 'How to perform anomaly detection in time series data with python? Methods, Code, Example!', 'url': 'https://medium.com/@goldengoat/how-to-perform\""
      ]
     },
     "execution_count": 28,
     "metadata": {},
     "output_type": "execute_result"
    }
   ],
   "source": [
    "msg"
   ]
  },
  {
   "cell_type": "code",
   "execution_count": 14,
   "metadata": {},
   "outputs": [
    {
     "name": "stdout",
     "output_type": "stream",
     "text": [
      "message rcvd:\n",
      "{'id': 'chatcmpl-9WgiZBv2hfwaESb7wpuB5d8nsOduF', 'choices': [Choice(finish_reason='stop', index=0, logprobs=None, message=ChatCompletionMessage(content=\"Sure! Let's expand on the key topics I mentioned earlier:\\n\\n1. Sustainability: Sustainability refers to the practice of using resources in a way that meets current needs without compromising the ability of future generations to meet their own needs. This includes reducing waste, conserving energy, promoting renewable resources, and protecting ecosystems. Businesses are increasingly adopting sustainable practices as consumers become more environmentally conscious and demand eco-friendly products and services.\\n\\n2. Diversity and Inclusion: Diversity and inclusion are essential for creating a more equitable and inclusive society. Diversity refers to the presence of different types of people in a group or organization, such as people of different races, genders, ages, and backgrounds. Inclusion, on the other hand, involves creating a culture where all individuals feel respected, valued, and included. Promoting diversity and inclusion in the workplace can lead to greater innovation, creativity, and productivity.\\n\\n3. Digital Transformation: Digital transformation refers to the integration of digital technologies into all aspects of a business, fundamentally changing how it operates and delivers value to customers. This includes adopting cloud computing, data analytics, artificial intelligence, and other digital tools to streamline processes, improve decision-making, and enhance customer experiences. Embracing digital transformation is crucial for businesses to stay competitive in today's rapidly evolving digital landscape.\\n\\nI hope this provides a more in-depth understanding of these key topics! Let me know if you have any other questions.\", role='assistant', function_call=None, tool_calls=None))], 'created': 1717577731, 'model': 'gpt-3.5-turbo-0125', 'object': 'chat.completion', 'system_fingerprint': None, 'usage': CompletionUsage(completion_tokens=280, prompt_tokens=15, total_tokens=295)}\n"
     ]
    },
    {
     "data": {
      "text/plain": [
       "\"Sure! Let's expand on the key topics I mentioned earlier:\\n\\n1. Sustainability: Sustainability refers to the practice of using resources in a way that meets current needs without compromising the ability of future generations to meet their own needs. This includes reducing waste, conserving energy, promoting renewable resources, and protecting ecosystems. Businesses are increasingly adopting sustainable practices as consumers become more environmentally conscious and demand eco-friendly products and services.\\n\\n2. Diversity and Inclusion: Diversity and inclusion are essential for creating a more equitable and inclusive society. Diversity refers to the presence of different types of people in a group or organization, such as people of different races, genders, ages, and backgrounds. Inclusion, on the other hand, involves creating a culture where all individuals feel respected, valued, and included. Promoting diversity and inclusion in the workplace can lead to greater innovation, creativity, and productivity.\\n\\n3. Digital Transformation: Digital transformation refers to the integration of digital technologies into all aspects of a business, fundamentally changing how it operates and delivers value to customers. This includes adopting cloud computing, data analytics, artificial intelligence, and other digital tools to streamline processes, improve decision-making, and enhance customer experiences. Embracing digital transformation is crucial for businesses to stay competitive in today's rapidly evolving digital landscape.\\n\\nI hope this provides a more in-depth understanding of these key topics! Let me know if you have any other questions.\""
      ]
     },
     "execution_count": 14,
     "metadata": {},
     "output_type": "execute_result"
    }
   ],
   "source": [
    "# try to ask follow up \n",
    "from constants import *\n",
    "user_input = \"expand on the key topics you just mentioned\"\n",
    "new_response = client.chat.completions.create(model=DEFAULT_MODEL,\n",
    "                                messages=[\n",
    "                                        {\n",
    "                                            \"role\": \"user\",\n",
    "                                            \"content\":user_input\n",
    "                                        }],\n",
    "                                temperature=DEFAULT_TEMPERATURE,\n",
    "                                max_tokens=1024,\n",
    "                                top_p=DEFAULT_TOP_P\n",
    "                            )\n",
    "fmsg = extract_message_choice(new_response)\n",
    "fmsg\n",
    "## client cant be treated like a state store. openai  treats each request independently. so to achieve the above req\n",
    "## store the history on our end, update the messages key in session for each expert. append the user/assistant response as they pile up\n",
    "## build mechanisms based on speciific use to optimise the context"
   ]
  },
  {
   "cell_type": "code",
   "execution_count": null,
   "metadata": {},
   "outputs": [],
   "source": [
    "## done. takeaways ? \n",
    "## sub divide this agent to extract smaller things , \n",
    "    #  -> one prompt/agent for extract clean content & story meta data (title, time author etc)\n",
    "    # -> another to extract summary in 200 words, 100 words, 500 words, etc \n",
    "    # -> extract key topics (5-10), -\n",
    "    # -> extract link / images \n",
    "## keep api structure uniform with meta for each agent to pass messages related to the content\n",
    "## reader api is pretty good at parsing article like content -> would be interesting to know what percentage of web content is in form of article?\n",
    "    # what percentage of \"NEW\" content is articles ? \n",
    "    # who are the top 100 contributors to the web in terms of internet agencies -> what percentage of those are primarily in article form? \n",
    "    # ( remove platforms  that have ugc, focus on expert driven content--event if its internet expert ) \n",
    "## count tokens before sending the request to openapi (use tik token? )\n",
    "## do this in gscript to add buttons to google sheet/google docs. create agent in app scripts."
   ]
  },
  {
   "cell_type": "code",
   "execution_count": 7,
   "metadata": {},
   "outputs": [],
   "source": [
    "# one last thing , read members only article \n",
    "members_medium_article\n",
    "reader = read_web_content(members_medium_article)\n",
    "members_content = reader.content"
   ]
  },
  {
   "cell_type": "code",
   "execution_count": 25,
   "metadata": {},
   "outputs": [
    {
     "name": "stdout",
     "output_type": "stream",
     "text": [
      "{'completion_tokens': 4, 'prompt_tokens': 572, 'total_tokens': 576}\n"
     ]
    },
    {
     "data": {
      "text/plain": [
       "'INCOMPLETE_ARTICLE'"
      ]
     },
     "execution_count": 25,
     "metadata": {},
     "output_type": "execute_result"
    }
   ],
   "source": [
    "# classify article using a chunk of agent functionality prompt \n",
    "response , client = query_system_expert(system_content=system_prompt_chunk,\n",
    "                                        user_input=str(members_content),max_tokens=64)\n",
    "msg = extract_message_choice(response)\n",
    "msg"
   ]
  },
  {
   "cell_type": "code",
   "execution_count": 38,
   "metadata": {},
   "outputs": [
    {
     "name": "stdout",
     "output_type": "stream",
     "text": [
      "{'id': 'chatcmpl-9WhI8O2Iu0xztAGuSxjdnDWI4WiEJ', 'choices': [Choice(finish_reason='stop', index=0, logprobs=None, message=ChatCompletionMessage(content='UNIDENTIFIED_CONTENT', role='assistant', function_call=None, tool_calls=None))], 'created': 1717579936, 'model': 'gpt-3.5-turbo-0125', 'object': 'chat.completion', 'system_fingerprint': None, 'usage': CompletionUsage(completion_tokens=4, prompt_tokens=665, total_tokens=669)}\n",
      "{'completion_tokens': 4, 'prompt_tokens': 665, 'total_tokens': 669}\n"
     ]
    },
    {
     "data": {
      "text/plain": [
       "'UNIDENTIFIED_CONTENT'"
      ]
     },
     "execution_count": 38,
     "metadata": {},
     "output_type": "execute_result"
    }
   ],
   "source": [
    "# more test links\n",
    "openai_li = \"https://platform.openai.com/docs/examples\"\n",
    "rnd = \"https://github.com/BLarzalere/LSTM-Autoencoder-for-Anomaly-Detection/tree/masters\"\n",
    "reader = read_web_content(rnd)\n",
    "x_content = reader.content\n",
    "response , client = query_system_expert(system_content=system_prompt_chunk,\n",
    "                                        user_input=str(x_content),max_tokens=64)\n",
    "print(response.__dict__)\n",
    "msg = extract_message_choice(response)\n",
    "msg"
   ]
  },
  {
   "cell_type": "code",
   "execution_count": 29,
   "metadata": {},
   "outputs": [
    {
     "data": {
      "text/plain": [
       "{'_content': b\"Title: OpenAI Platform\\n\\nURL Source: https://platform.openai.com/docs/examples\\n\\nMarkdown Content:\\nIntroducing GPT-4o: our fastest and most affordable flagship model\\n\\nPrompt examples\\n---------------\\n\\nExplore what's possible with some example prompts\\n\\nGrammar correction\\n\\nConvert ungrammatical statements into standard English.\\n\\nSummarize for a 2nd grader\\n\\nSimplify text to a level appropriate for a second-grade student.\\n\\nParse unstructured data\\n\\nCreate tables from unstructured text.\\n\\nEmoji Translation\\n\\nTranslate regular text into emoji text.\\n\\nCalculate time complexity\\n\\nFind the time complexity of a function.\\n\\nExplain code\\n\\nExplain a complicated piece of code.\\n\\nKeywords\\n\\nExtract keywords from a block of text.\\n\\nProduct name generator\\n\\nGenerate product names from a description and seed words.\\n\\nPython bug fixer\\n\\nFind and fix bugs in source code.\\n\\nSpreadsheet creator\\n\\nCreate spreadsheets of various kinds of data.\\n\\nTweet classifier\\n\\nDetect sentiment in a tweet.\\n\\nAirport code extractor\\n\\nExtract airport codes from text.\\n\\nMood to color\\n\\nTurn a text description into a color.\\n\\nVR fitness idea generator\\n\\nGenerate ideas for fitness promoting virtual reality games.\\n\\nMarv the sarcastic chat bot\\n\\nMarv is a factual chatbot that is also sarcastic.\\n\\nTurn by turn directions\\n\\nConvert natural language to turn-by-turn directions.\\n\\nInterview questions\\n\\nCreate interview questions.\\n\\nFunction from specification\\n\\nCreate a Python function from a specification.\\n\\nImprove code efficiency\\n\\nProvide ideas for efficiency improvements to Python code.\\n\\nSingle page website creator\\n\\nCreate a single page website.\\n\\nRap battle writer\\n\\nGenerate a rap battle between two characters.\\n\\nMemo writer\\n\\nGenerate a company memo based on provided points.\\n\\nEmoji chatbot\\n\\nGenerate conversational replies using emojis only.\\n\\nTranslation\\n\\nTranslate natural language text.\\n\\nSocratic tutor\\n\\nGenerate responses as a Socratic tutor.\\n\\nNatural language to SQL\\n\\nConvert natural language into SQL queries.\\n\\nMeeting notes summarizer\\n\\nSummarize meeting notes including overall discussion, action items, and future topics.\\n\\nReview classifier\\n\\nClassify user reviews based on a set of tags.\\n\\nPro and con discusser\\n\\nAnalyze the pros and cons of a given topic.\\n\\nLesson plan writer\\n\\nGenerate a lesson plan for a specific topic.\\n\",\n",
       " '_content_consumed': True,\n",
       " '_next': None,\n",
       " 'status_code': 200,\n",
       " 'headers': {'Date': 'Wed, 05 Jun 2024 09:21:11 GMT', 'Content-Type': 'text/plain; charset=utf-8', 'Transfer-Encoding': 'chunked', 'Connection': 'keep-alive', 'x-powered-by': 'Express', 'access-control-allow-origin': '*', 'x-cloud-trace-context': '0b4c4c42597231dea84786bb5e588afc', 'CF-Cache-Status': 'DYNAMIC', 'Report-To': '{\"endpoints\":[{\"url\":\"https:\\\\/\\\\/a.nel.cloudflare.com\\\\/report\\\\/v4?s=TU0XTiMdis2ChOUiD75Zh9dA4yy61s8SLexRRcI%2Fz8Eej2z0ZSu61K1EBm91iHQwqHibHsSqYr8rRb2IUjgaq3oZilC7WoMZaxNutqm3YNQq%2F4xKIFVZoQvUVrU%3D\"}],\"group\":\"cf-nel\",\"max_age\":604800}', 'NEL': '{\"success_fraction\":0,\"report_to\":\"cf-nel\",\"max_age\":604800}', 'Server': 'cloudflare', 'CF-RAY': '88ef173c48e87f73-MAA', 'Content-Encoding': 'gzip', 'alt-svc': 'h3=\":443\"; ma=86400'},\n",
       " 'raw': <urllib3.response.HTTPResponse at 0x11680c640>,\n",
       " 'url': 'https://r.jina.ai/https://platform.openai.com/docs/examples',\n",
       " 'encoding': 'utf-8',\n",
       " 'history': [],\n",
       " 'reason': 'OK',\n",
       " 'cookies': <RequestsCookieJar[]>,\n",
       " 'elapsed': datetime.timedelta(seconds=3, microseconds=88874),\n",
       " 'request': <PreparedRequest [GET]>,\n",
       " 'connection': <requests.adapters.HTTPAdapter at 0x11680cb50>}"
      ]
     },
     "execution_count": 29,
     "metadata": {},
     "output_type": "execute_result"
    }
   ],
   "source": [
    "reader.__dict__"
   ]
  },
  {
   "cell_type": "code",
   "execution_count": null,
   "metadata": {},
   "outputs": [],
   "source": []
  }
 ],
 "metadata": {
  "kernelspec": {
   "display_name": ".venv",
   "language": "python",
   "name": "python3"
  },
  "language_info": {
   "codemirror_mode": {
    "name": "ipython",
    "version": 3
   },
   "file_extension": ".py",
   "mimetype": "text/x-python",
   "name": "python",
   "nbconvert_exporter": "python",
   "pygments_lexer": "ipython3",
   "version": "3.9.6"
  }
 },
 "nbformat": 4,
 "nbformat_minor": 2
}
