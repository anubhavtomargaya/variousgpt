{
 "cells": [
  {
   "cell_type": "code",
   "execution_count": 7,
   "metadata": {},
   "outputs": [
    {
     "name": "stdout",
     "output_type": "stream",
     "text": [
      "Shannon Index: 2.9879393111821124\n",
      "Simpson Index: 0.9088044222271032\n"
     ]
    }
   ],
   "source": [
    "import numpy as np\n",
    "\n",
    "def calculate_diversity_indices(data):\n",
    "    # Extract counts\n",
    "    counts = np.array(data['Cutibacterium acnes'])\n",
    "    \n",
    "    # Filter out zero counts to avoid log(0) issues\n",
    "    non_zero_counts = counts[counts > 0]\n",
    "    \n",
    "    # Calculate the proportions for non-zero counts\n",
    "    proportions = non_zero_counts / np.sum(non_zero_counts)\n",
    "    \n",
    "    # Calculate Shannon Index\n",
    "    shannon_index = -np.sum(proportions * np.log(proportions))\n",
    "    \n",
    "    # Calculate Simpson Index\n",
    "    simpson_index = 1 - np.sum(proportions**2)\n",
    "    \n",
    "    return shannon_index, simpson_index\n",
    "\n",
    "# Your dataset\n",
    "data = {\n",
    "    'Taxon': [\n",
    "        'S1', 'S2', 'S3', 'S4', 'S5', 'S6', 'S7', 'S8', 'S9', 'S10',\n",
    "        'S11', 'S12', 'S13', 'S14', 'S15', 'S16', 'S17', 'S18', 'S19', 'S20',\n",
    "        'S21', 'S22', 'S23', 'S24', 'S25', 'S26', 'S27', 'S28', 'S29', 'S30',\n",
    "        'S31', 'S32', 'S33', 'S34', 'S35', 'S36', 'S37', 'S38', 'S39', 'S40',\n",
    "        'S41', 'S42', 'S43', 'S44', 'S45', 'S46', 'S47', 'S48'\n",
    "    ],\n",
    "    'Gender': [\n",
    "        'M', 'M', 'M', 'F', 'F', 'F', 'M', 'M', 'M', 'F',\n",
    "        'F', 'F', 'M', 'M', 'M', 'F', 'F', 'M', 'M', 'M',\n",
    "        'M', 'F', 'F', 'F', 'M', 'M', 'M', 'F', 'F', 'F',\n",
    "        'M', 'M', 'M', 'F', 'F', 'F', 'M', 'M', 'M', 'F',\n",
    "        'F', 'F', 'M', 'M', 'F', 'F', 'F', 'F'\n",
    "    ],\n",
    "    'Cutibacterium acnes': [\n",
    "        4.0435, 5.7868, 5.3623, 8.7055, 20.5089, 0, 6.9173, 16.659, 12.9979, 26.8356,\n",
    "        10.6724, 4.7645, 0.7561, 16.3654, 105.8, 29.3076, 0, 5.775, 3.2371, 4.9899,\n",
    "        3.9389, 6.1093, 8.0617, 3.1274, 5.9826, 11.6575, 1.9473, 15.2403, 2.5282, 1.6417,\n",
    "        7.4801, 6.1747, 22.1337, 4.3698, 9.9886, 144.483, 0.5605, 78.0292, 0, 6.3583,\n",
    "        4.3729, 9.4844, 0, 20.1313, 5.5667, 17.5925, 3.6974, 0\n",
    "    ]\n",
    "}\n",
    "\n",
    "shannon_index, simpson_index = calculate_diversity_indices(data)\n",
    "print(f\"Shannon Index: {shannon_index}\")\n",
    "print(f\"Simpson Index: {simpson_index}\")\n"
   ]
  },
  {
   "cell_type": "code",
   "execution_count": 3,
   "metadata": {},
   "outputs": [
    {
     "name": "stdout",
     "output_type": "stream",
     "text": [
      "Collecting seaborn\n",
      "  Downloading seaborn-0.13.2-py3-none-any.whl (294 kB)\n",
      "\u001b[K     |████████████████████████████████| 294 kB 3.1 MB/s eta 0:00:01\n",
      "\u001b[?25hRequirement already satisfied: numpy!=1.24.0,>=1.20 in /home/anubhavsinghtomar/.local/lib/python3.8/site-packages (from seaborn) (1.24.4)\n",
      "Requirement already satisfied: pandas>=1.2 in /home/anubhavsinghtomar/.local/lib/python3.8/site-packages (from seaborn) (1.5.3)\n",
      "Requirement already satisfied: matplotlib!=3.6.1,>=3.4 in /home/anubhavsinghtomar/.local/lib/python3.8/site-packages (from seaborn) (3.7.2)\n",
      "Requirement already satisfied: python-dateutil>=2.8.1 in /home/anubhavsinghtomar/.local/lib/python3.8/site-packages (from pandas>=1.2->seaborn) (2.8.2)\n",
      "Requirement already satisfied: pytz>=2020.1 in /home/anubhavsinghtomar/.local/lib/python3.8/site-packages (from pandas>=1.2->seaborn) (2023.3.post1)\n",
      "Requirement already satisfied: contourpy>=1.0.1 in /home/anubhavsinghtomar/.local/lib/python3.8/site-packages (from matplotlib!=3.6.1,>=3.4->seaborn) (1.1.0)\n",
      "Requirement already satisfied: cycler>=0.10 in /home/anubhavsinghtomar/.local/lib/python3.8/site-packages (from matplotlib!=3.6.1,>=3.4->seaborn) (0.11.0)\n",
      "Requirement already satisfied: fonttools>=4.22.0 in /home/anubhavsinghtomar/.local/lib/python3.8/site-packages (from matplotlib!=3.6.1,>=3.4->seaborn) (4.42.1)\n",
      "Requirement already satisfied: kiwisolver>=1.0.1 in /home/anubhavsinghtomar/.local/lib/python3.8/site-packages (from matplotlib!=3.6.1,>=3.4->seaborn) (1.4.5)\n",
      "Requirement already satisfied: packaging>=20.0 in /home/anubhavsinghtomar/.local/lib/python3.8/site-packages (from matplotlib!=3.6.1,>=3.4->seaborn) (23.1)\n",
      "Requirement already satisfied: pillow>=6.2.0 in /home/anubhavsinghtomar/.local/lib/python3.8/site-packages (from matplotlib!=3.6.1,>=3.4->seaborn) (10.0.0)\n",
      "Requirement already satisfied: pyparsing<3.1,>=2.3.1 in /home/anubhavsinghtomar/.local/lib/python3.8/site-packages (from matplotlib!=3.6.1,>=3.4->seaborn) (3.0.9)\n",
      "Requirement already satisfied: importlib-resources>=3.2.0; python_version < \"3.10\" in /home/anubhavsinghtomar/.local/lib/python3.8/site-packages (from matplotlib!=3.6.1,>=3.4->seaborn) (6.0.1)\n",
      "Requirement already satisfied: six>=1.5 in /home/anubhavsinghtomar/.local/lib/python3.8/site-packages (from python-dateutil>=2.8.1->pandas>=1.2->seaborn) (1.16.0)\n",
      "Requirement already satisfied: zipp>=3.1.0; python_version < \"3.10\" in /home/anubhavsinghtomar/.local/lib/python3.8/site-packages (from importlib-resources>=3.2.0; python_version < \"3.10\"->matplotlib!=3.6.1,>=3.4->seaborn) (3.16.2)\n",
      "\u001b[31mERROR: Error checking for conflicts.\n",
      "Traceback (most recent call last):\n",
      "  File \"/home/anubhavsinghtomar/.local/lib/python3.8/site-packages/pkg_resources/__init__.py\", line 3108, in _dep_map\n",
      "    return self.__dep_map\n",
      "  File \"/home/anubhavsinghtomar/.local/lib/python3.8/site-packages/pkg_resources/__init__.py\", line 2901, in __getattr__\n",
      "    raise AttributeError(attr)\n",
      "AttributeError: _DistInfoDistribution__dep_map\n",
      "\n",
      "During handling of the above exception, another exception occurred:\n",
      "\n",
      "Traceback (most recent call last):\n",
      "  File \"/home/anubhavsinghtomar/.local/lib/python3.8/site-packages/pkg_resources/_vendor/packaging/requirements.py\", line 35, in __init__\n",
      "    parsed = parse_requirement(requirement_string)\n",
      "  File \"/home/anubhavsinghtomar/.local/lib/python3.8/site-packages/pkg_resources/_vendor/packaging/_parser.py\", line 64, in parse_requirement\n",
      "    return _parse_requirement(Tokenizer(source, rules=DEFAULT_RULES))\n",
      "  File \"/home/anubhavsinghtomar/.local/lib/python3.8/site-packages/pkg_resources/_vendor/packaging/_parser.py\", line 82, in _parse_requirement\n",
      "    url, specifier, marker = _parse_requirement_details(tokenizer)\n",
      "  File \"/home/anubhavsinghtomar/.local/lib/python3.8/site-packages/pkg_resources/_vendor/packaging/_parser.py\", line 120, in _parse_requirement_details\n",
      "    specifier = _parse_specifier(tokenizer)\n",
      "  File \"/home/anubhavsinghtomar/.local/lib/python3.8/site-packages/pkg_resources/_vendor/packaging/_parser.py\", line 209, in _parse_specifier\n",
      "    tokenizer.consume(\"WS\")\n",
      "  File \"/usr/lib/python3.8/contextlib.py\", line 120, in __exit__\n",
      "    next(self.gen)\n",
      "  File \"/home/anubhavsinghtomar/.local/lib/python3.8/site-packages/pkg_resources/_vendor/packaging/_tokenizer.py\", line 183, in enclosing_tokens\n",
      "    self.raise_syntax_error(\n",
      "  File \"/home/anubhavsinghtomar/.local/lib/python3.8/site-packages/pkg_resources/_vendor/packaging/_tokenizer.py\", line 163, in raise_syntax_error\n",
      "    raise ParserSyntaxError(\n",
      "pkg_resources.extern.packaging._tokenizer.ParserSyntaxError: Expected closing RIGHT_PARENTHESIS\n",
      "    tinycss2 (>=1.1.0<1.2) ; extra == 'css'\n",
      "             ~~~~~~~~^\n",
      "\n",
      "The above exception was the direct cause of the following exception:\n",
      "\n",
      "Traceback (most recent call last):\n",
      "  File \"/usr/lib/python3/dist-packages/pip/_internal/commands/install.py\", line 543, in _warn_about_conflicts\n",
      "    package_set, _dep_info = check_install_conflicts(to_install)\n",
      "  File \"/usr/lib/python3/dist-packages/pip/_internal/operations/check.py\", line 114, in check_install_conflicts\n",
      "    package_set, _ = create_package_set_from_installed()\n",
      "  File \"/usr/lib/python3/dist-packages/pip/_internal/operations/check.py\", line 53, in create_package_set_from_installed\n",
      "    package_set[name] = PackageDetails(dist.version, dist.requires())\n",
      "  File \"/home/anubhavsinghtomar/.local/lib/python3.8/site-packages/pkg_resources/__init__.py\", line 2821, in requires\n",
      "    dm = self._dep_map\n",
      "  File \"/home/anubhavsinghtomar/.local/lib/python3.8/site-packages/pkg_resources/__init__.py\", line 3110, in _dep_map\n",
      "    self.__dep_map = self._compute_dependencies()\n",
      "  File \"/home/anubhavsinghtomar/.local/lib/python3.8/site-packages/pkg_resources/__init__.py\", line 3120, in _compute_dependencies\n",
      "    reqs.extend(parse_requirements(req))\n",
      "  File \"/home/anubhavsinghtomar/.local/lib/python3.8/site-packages/pkg_resources/__init__.py\", line 3173, in __init__\n",
      "    super(Requirement, self).__init__(requirement_string)\n",
      "  File \"/home/anubhavsinghtomar/.local/lib/python3.8/site-packages/pkg_resources/_vendor/packaging/requirements.py\", line 37, in __init__\n",
      "    raise InvalidRequirement(str(e)) from e\n",
      "pkg_resources.extern.packaging.requirements.InvalidRequirement: Expected closing RIGHT_PARENTHESIS\n",
      "    tinycss2 (>=1.1.0<1.2) ; extra == 'css'\n",
      "             ~~~~~~~~^\u001b[0m\n",
      "Installing collected packages: seaborn\n",
      "Successfully installed seaborn-0.13.2\n"
     ]
    }
   ],
   "source": [
    "!pip install seaborn"
   ]
  },
  {
   "cell_type": "code",
   "execution_count": null,
   "metadata": {},
   "outputs": [],
   "source": []
  },
  {
   "cell_type": "code",
   "execution_count": 4,
   "metadata": {},
   "outputs": [],
   "source": [
    "import matplotlib.pyplot as plt\n",
    "import seaborn as sns"
   ]
  },
  {
   "cell_type": "code",
   "execution_count": null,
   "metadata": {},
   "outputs": [],
   "source": []
  },
  {
   "cell_type": "code",
   "execution_count": 5,
   "metadata": {},
   "outputs": [],
   "source": [
    "def create_box_plot(data):\n",
    "    # Creating the box plot\n",
    "    plt.figure(figsize=(10, 6))\n",
    "    sns.boxplot(y=data['Cutibacterium acnes'])\n",
    "    \n",
    "    # Adding title and labels\n",
    "    plt.title('Box Plot of Cutibacterium acnes')\n",
    "    plt.ylabel('Abundance')\n",
    "    \n",
    "    # Show the plot\n",
    "    plt.show()"
   ]
  },
  {
   "cell_type": "code",
   "execution_count": 14,
   "metadata": {},
   "outputs": [
    {
     "data": {
      "text/plain": [
       "(2.2594555373024967, 0.795960549707896)"
      ]
     },
     "execution_count": 14,
     "metadata": {},
     "output_type": "execute_result"
    }
   ],
   "source": [
    "calculate_diversity_indices(data_female)"
   ]
  },
  {
   "cell_type": "code",
   "execution_count": 15,
   "metadata": {},
   "outputs": [
    {
     "data": {
      "text/plain": [
       "(2.329814331086038, 0.8388541660634028)"
      ]
     },
     "execution_count": 15,
     "metadata": {},
     "output_type": "execute_result"
    }
   ],
   "source": [
    "calculate_diversity_indices(data_male)"
   ]
  },
  {
   "cell_type": "code",
   "execution_count": null,
   "metadata": {},
   "outputs": [],
   "source": []
  },
  {
   "cell_type": "code",
   "execution_count": 8,
   "metadata": {},
   "outputs": [
    {
     "data": {
      "image/png": "[encoded data removed]",
      "text/plain": [
       "<Figure size 720x432 with 1 Axes>"
      ]
     },
     "metadata": {
      "needs_background": "light"
     },
     "output_type": "display_data"
    }
   ],
   "source": [
    "create_box_plot(data)"
   ]
  },
  {
   "cell_type": "code",
   "execution_count": 11,
   "metadata": {},
   "outputs": [
    {
     "data": {
      "text/html": [
       "<div>\n",
       "<style scoped>\n",
       "    .dataframe tbody tr th:only-of-type {\n",
       "        vertical-align: middle;\n",
       "    }\n",
       "\n",
       "    .dataframe tbody tr th {\n",
       "        vertical-align: top;\n",
       "    }\n",
       "\n",
       "    .dataframe thead th {\n",
       "        text-align: right;\n",
       "    }\n",
       "</style>\n",
       "<table border=\"1\" class=\"dataframe\">\n",
       "  <thead>\n",
       "    <tr style=\"text-align: right;\">\n",
       "      <th></th>\n",
       "      <th>Taxon</th>\n",
       "      <th>Gender</th>\n",
       "      <th>Cutibacterium acnes</th>\n",
       "    </tr>\n",
       "  </thead>\n",
       "  <tbody>\n",
       "    <tr>\n",
       "      <th>0</th>\n",
       "      <td>S1</td>\n",
       "      <td>M</td>\n",
       "      <td>4.0435</td>\n",
       "    </tr>\n",
       "    <tr>\n",
       "      <th>1</th>\n",
       "      <td>S2</td>\n",
       "      <td>M</td>\n",
       "      <td>5.7868</td>\n",
       "    </tr>\n",
       "    <tr>\n",
       "      <th>2</th>\n",
       "      <td>S3</td>\n",
       "      <td>M</td>\n",
       "      <td>5.3623</td>\n",
       "    </tr>\n",
       "    <tr>\n",
       "      <th>6</th>\n",
       "      <td>S7</td>\n",
       "      <td>M</td>\n",
       "      <td>6.9173</td>\n",
       "    </tr>\n",
       "    <tr>\n",
       "      <th>7</th>\n",
       "      <td>S8</td>\n",
       "      <td>M</td>\n",
       "      <td>16.6590</td>\n",
       "    </tr>\n",
       "    <tr>\n",
       "      <th>8</th>\n",
       "      <td>S9</td>\n",
       "      <td>M</td>\n",
       "      <td>12.9979</td>\n",
       "    </tr>\n",
       "    <tr>\n",
       "      <th>12</th>\n",
       "      <td>S13</td>\n",
       "      <td>M</td>\n",
       "      <td>0.7561</td>\n",
       "    </tr>\n",
       "    <tr>\n",
       "      <th>13</th>\n",
       "      <td>S14</td>\n",
       "      <td>M</td>\n",
       "      <td>16.3654</td>\n",
       "    </tr>\n",
       "    <tr>\n",
       "      <th>14</th>\n",
       "      <td>S15</td>\n",
       "      <td>M</td>\n",
       "      <td>105.8000</td>\n",
       "    </tr>\n",
       "    <tr>\n",
       "      <th>17</th>\n",
       "      <td>S18</td>\n",
       "      <td>M</td>\n",
       "      <td>5.7750</td>\n",
       "    </tr>\n",
       "    <tr>\n",
       "      <th>18</th>\n",
       "      <td>S19</td>\n",
       "      <td>M</td>\n",
       "      <td>3.2371</td>\n",
       "    </tr>\n",
       "    <tr>\n",
       "      <th>19</th>\n",
       "      <td>S20</td>\n",
       "      <td>M</td>\n",
       "      <td>4.9899</td>\n",
       "    </tr>\n",
       "    <tr>\n",
       "      <th>20</th>\n",
       "      <td>S21</td>\n",
       "      <td>M</td>\n",
       "      <td>3.9389</td>\n",
       "    </tr>\n",
       "    <tr>\n",
       "      <th>24</th>\n",
       "      <td>S25</td>\n",
       "      <td>M</td>\n",
       "      <td>5.9826</td>\n",
       "    </tr>\n",
       "    <tr>\n",
       "      <th>25</th>\n",
       "      <td>S26</td>\n",
       "      <td>M</td>\n",
       "      <td>11.6575</td>\n",
       "    </tr>\n",
       "    <tr>\n",
       "      <th>26</th>\n",
       "      <td>S27</td>\n",
       "      <td>M</td>\n",
       "      <td>1.9473</td>\n",
       "    </tr>\n",
       "    <tr>\n",
       "      <th>30</th>\n",
       "      <td>S31</td>\n",
       "      <td>M</td>\n",
       "      <td>7.4801</td>\n",
       "    </tr>\n",
       "    <tr>\n",
       "      <th>31</th>\n",
       "      <td>S32</td>\n",
       "      <td>M</td>\n",
       "      <td>6.1747</td>\n",
       "    </tr>\n",
       "    <tr>\n",
       "      <th>32</th>\n",
       "      <td>S33</td>\n",
       "      <td>M</td>\n",
       "      <td>22.1337</td>\n",
       "    </tr>\n",
       "    <tr>\n",
       "      <th>36</th>\n",
       "      <td>S37</td>\n",
       "      <td>M</td>\n",
       "      <td>0.5605</td>\n",
       "    </tr>\n",
       "    <tr>\n",
       "      <th>37</th>\n",
       "      <td>S38</td>\n",
       "      <td>M</td>\n",
       "      <td>78.0292</td>\n",
       "    </tr>\n",
       "    <tr>\n",
       "      <th>38</th>\n",
       "      <td>S39</td>\n",
       "      <td>M</td>\n",
       "      <td>0.0000</td>\n",
       "    </tr>\n",
       "    <tr>\n",
       "      <th>42</th>\n",
       "      <td>S43</td>\n",
       "      <td>M</td>\n",
       "      <td>0.0000</td>\n",
       "    </tr>\n",
       "    <tr>\n",
       "      <th>43</th>\n",
       "      <td>S44</td>\n",
       "      <td>M</td>\n",
       "      <td>20.1313</td>\n",
       "    </tr>\n",
       "  </tbody>\n",
       "</table>\n",
       "</div>"
      ],
      "text/plain": [
       "   Taxon Gender  Cutibacterium acnes\n",
       "0     S1      M               4.0435\n",
       "1     S2      M               5.7868\n",
       "2     S3      M               5.3623\n",
       "6     S7      M               6.9173\n",
       "7     S8      M              16.6590\n",
       "8     S9      M              12.9979\n",
       "12   S13      M               0.7561\n",
       "13   S14      M              16.3654\n",
       "14   S15      M             105.8000\n",
       "17   S18      M               5.7750\n",
       "18   S19      M               3.2371\n",
       "19   S20      M               4.9899\n",
       "20   S21      M               3.9389\n",
       "24   S25      M               5.9826\n",
       "25   S26      M              11.6575\n",
       "26   S27      M               1.9473\n",
       "30   S31      M               7.4801\n",
       "31   S32      M               6.1747\n",
       "32   S33      M              22.1337\n",
       "36   S37      M               0.5605\n",
       "37   S38      M              78.0292\n",
       "38   S39      M               0.0000\n",
       "42   S43      M               0.0000\n",
       "43   S44      M              20.1313"
      ]
     },
     "execution_count": 11,
     "metadata": {},
     "output_type": "execute_result"
    }
   ],
   "source": [
    "import pandas as pd\n",
    "data_f = pd.DataFrame(data)\n",
    "data_female = data_f[data_f['Gender']=='F']\n",
    "data_male = data_f[data_f['Gender']=='M']\n",
    "data_female\n",
    "data_male"
   ]
  },
  {
   "cell_type": "code",
   "execution_count": 12,
   "metadata": {},
   "outputs": [
    {
     "data": {
      "image/png": "[encoded data removed]",
      "text/plain": [
       "<Figure size 720x432 with 1 Axes>"
      ]
     },
     "metadata": {
      "needs_background": "light"
     },
     "output_type": "display_data"
    }
   ],
   "source": [
    "create_box_plot(data_female)"
   ]
  },
  {
   "cell_type": "code",
   "execution_count": 13,
   "metadata": {},
   "outputs": [
    {
     "data": {
      "image/png": "[encoded data removed]",
      "text/plain": [
       "<Figure size 720x432 with 1 Axes>"
      ]
     },
     "metadata": {
      "needs_background": "light"
     },
     "output_type": "display_data"
    }
   ],
   "source": [
    "create_box_plot(data_male)"
   ]
  },
  {
   "cell_type": "code",
   "execution_count": null,
   "metadata": {},
   "outputs": [],
   "source": [
    "data_male['c']"
   ]
  },
  {
   "cell_type": "code",
   "execution_count": null,
   "metadata": {},
   "outputs": [],
   "source": []
  },
  {
   "cell_type": "code",
   "execution_count": null,
   "metadata": {},
   "outputs": [],
   "source": []
  },
  {
   "cell_type": "code",
   "execution_count": null,
   "metadata": {},
   "outputs": [],
   "source": []
  },
  {
   "cell_type": "code",
   "execution_count": null,
   "metadata": {},
   "outputs": [],
   "source": []
  }
 ],
 "metadata": {
  "kernelspec": {
   "display_name": "Python 3",
   "language": "python",
   "name": "python3"
  },
  "language_info": {
   "codemirror_mode": {
    "name": "ipython",
    "version": 3
   },
   "file_extension": ".py",
   "mimetype": "text/x-python",
   "name": "python",
   "nbconvert_exporter": "python",
   "pygments_lexer": "ipython3",
   "version": "3.8.10"
  }
 },
 "nbformat": 4,
 "nbformat_minor": 2
}
