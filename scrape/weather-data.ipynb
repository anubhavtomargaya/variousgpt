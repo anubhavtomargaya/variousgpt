{
 "cells": [
  {
   "cell_type": "code",
   "execution_count": 1,
   "metadata": {},
   "outputs": [
    {
     "name": "stdout",
     "output_type": "stream",
     "text": [
      "/Users/anubhavtomar/2023_projects/chatgpt/chatgpt\n"
     ]
    }
   ],
   "source": [
    "!pwd"
   ]
  },
  {
   "cell_type": "code",
   "execution_count": 2,
   "metadata": {},
   "outputs": [],
   "source": [
    "!export PYTHONPATH=/Users/anubhavtomar/2023_projects/chatgpt/$PYTHONPATH\n"
   ]
  },
  {
   "cell_type": "code",
   "execution_count": 1,
   "metadata": {},
   "outputs": [
    {
     "name": "stderr",
     "output_type": "stream",
     "text": [
      "/Users/anubhavtomar/2023_projects/chatgpt/.venv/lib/python3.9/site-packages/urllib3/__init__.py:35: NotOpenSSLWarning: urllib3 v2 only supports OpenSSL 1.1.1+, currently the 'ssl' module is compiled with 'LibreSSL 2.8.3'. See: https://github.com/urllib3/urllib3/issues/3020\n",
      "  warnings.warn(\n"
     ]
    }
   ],
   "source": [
    "from utils_jina import read_web_content"
   ]
  },
  {
   "cell_type": "code",
   "execution_count": 3,
   "metadata": {},
   "outputs": [],
   "source": [
    "link = 'https://mausam.imd.gov.in/bengaluru/'"
   ]
  },
  {
   "cell_type": "code",
   "execution_count": 4,
   "metadata": {},
   "outputs": [],
   "source": [
    "reader = read_web_content(link)"
   ]
  },
  {
   "cell_type": "code",
   "execution_count": 5,
   "metadata": {},
   "outputs": [],
   "source": [
    "## using beautiful soup\n",
    "from bs4 import BeautifulSoup"
   ]
  },
  {
   "cell_type": "code",
   "execution_count": null,
   "metadata": {},
   "outputs": [],
   "source": [
    "rea"
   ]
  },
  {
   "cell_type": "code",
   "execution_count": 6,
   "metadata": {},
   "outputs": [
    {
     "data": {
      "text/plain": [
       "{'_content': b'{\"data\":null,\"cause\":{\"name\":\"TimeoutError\"},\"code\":422,\"name\":\"AssertionFailureError\",\"status\":42206,\"message\":\"Failed to goto https://mausam.imd.gov.in/bengaluru/: TimeoutError: Navigation timeout of 30000 ms exceeded\",\"readableMessage\":\"AssertionFailureError: Failed to goto https://mausam.imd.gov.in/bengaluru/: TimeoutError: Navigation timeout of 30000 ms exceeded\"}',\n",
       " '_content_consumed': True,\n",
       " '_next': None,\n",
       " 'status_code': 422,\n",
       " 'headers': {'Date': 'Sun, 30 Jun 2024 07:06:33 GMT', 'Content-Type': 'application/json; charset=utf-8', 'Content-Length': '371', 'Connection': 'keep-alive', 'x-powered-by': 'Express', 'access-control-allow-origin': '*', 'x-cloud-trace-context': 'c6891680c7027027d32b64406a5d7c2b;o=1', 'CF-Cache-Status': 'DYNAMIC', 'Report-To': '{\"endpoints\":[{\"url\":\"https:\\\\/\\\\/a.nel.cloudflare.com\\\\/report\\\\/v4?s=mEy8Yq%2B05lAQeZRWu04aKAotZ0VTHn6fbjvsDjLjgajQaw21eYgaRFe6GZsfB2%2BIVDLlLgTHYnai3mZa5LPUUSo7Y%2BAqfig21N1mJZkz5fieGtS0%2B9UFDIdFHDM%3D\"}],\"group\":\"cf-nel\",\"max_age\":604800}', 'NEL': '{\"success_fraction\":0,\"report_to\":\"cf-nel\",\"max_age\":604800}', 'Server': 'cloudflare', 'CF-RAY': '89bc4f97ea824667-SIN', 'alt-svc': 'h3=\":443\"; ma=86400'},\n",
       " 'raw': <urllib3.response.HTTPResponse at 0x105b9e790>,\n",
       " 'url': 'https://r.jina.ai/https://mausam.imd.gov.in/bengaluru/',\n",
       " 'encoding': 'utf-8',\n",
       " 'history': [],\n",
       " 'reason': 'Unprocessable Entity',\n",
       " 'cookies': <RequestsCookieJar[]>,\n",
       " 'elapsed': datetime.timedelta(seconds=35, microseconds=593771),\n",
       " 'request': <PreparedRequest [GET]>,\n",
       " 'connection': <requests.adapters.HTTPAdapter at 0x105e04eb0>}"
      ]
     },
     "execution_count": 6,
     "metadata": {},
     "output_type": "execute_result"
    }
   ],
   "source": [
    "reader.__dict__"
   ]
  },
  {
   "cell_type": "code",
   "execution_count": 8,
   "metadata": {},
   "outputs": [],
   "source": [
    "from soup import fetch_html_from_url"
   ]
  },
  {
   "cell_type": "code",
   "execution_count": 9,
   "metadata": {},
   "outputs": [
    {
     "data": {
      "text/plain": [
       "'\\n<!doctype html>\\n<html lang=\"en\">\\n  \\n   <head>\\n       \\n<script async src=\"https://www.googletagmanager.com/gtag/js?id=UA-143177612-1\"></script>\\n<script>\\n  window.dataLayer = window.dataLayer || [];\\n  function gtag(){dataLayer.push(arguments);}\\n  gtag(\\'js\\', new Date());\\n\\n  gtag(\\'config\\', \\'UA-143177612-1\\');\\n</script>\\n      \\n      <title>Karnataka</title>\\n\\n     <script async src=\"https://www.googletagmanager.com/gtag/js?id=UA-143177612-1\"></script>\\n<script>\\n  window.dataLayer = window.dataLayer || [];\\n  function gtag(){dataLayer.push(arguments);}\\n  gtag(\\'js\\', new Date());\\n\\n  gtag(\\'config\\', \\'UA-143177612-1\\');\\n</script>\\n\\n \\n      <meta charset=\"utf-8\">\\n      <meta name=\"robots\" content=\"noodp\">\\n      <meta name=\"viewport\" id=\"viewport\" content=\"width=device-width\">\\n      <meta http-equiv=\"X-UA-Compatible\" content=\"IE=edge\">\\n      \\n      <meta http-equiv=\"content-type\" content=\"text/html;charset=UTF-8\" /> \\n      <meta name=\"keywords\" content=\"IMD\">\\n      \\n          \\n      <link rel=\"stylesheet\" href=\"https://mausam.imd.gov.in/bengaluru/css/home.css\" type=\"text/css\">\\n      \\n      <link rel=\"shortcut icon\" href=\"https://mausam.imd.gov.in/ico/favicon.png\">\\n    \\n      \\n\\n      <link rel=\"stylesheet\" href=\"https://mausam.imd.gov.in/bengaluru/css/all.css\" />\\n\\n      <style type=\"text/css\" media=\"screen\">\\n\\n         .sun-rise{\\n            background-image: url(\\'img/sunrise.jpg\\');\\n           }\\n           \\n           .sun-set{\\n               background-image: url(\\'img/sunset.jpg\\');\\n           }\\n           \\n\\n           .moon-rise{\\n               background-image: url(\\'img/moonrise.jpg\\');\\n           }\\n           \\n\\n\\n           .moon-set{\\n               background-image: url(\\'img/moonset.jpg\\');\\n           }\\n           \\n\\n           .moon-set p span, .moon-rise p span, .sun-set p span, .sun-rise p span{\\n             background-color: #0000008a;\\n             padding:5px;\\n           }\\n\\n           .moon-set p, .moon-rise p, .sun-set p, .sun-rise p{\\n                   color: #fff;\\n                   padding-left: 10px;\\n                   font-weight: 400;\\n                   line-height: 36.5px;\\n                   bottom: 0px !important;\\n                   font-family: sans-serif;\\n                   font-size: 14px;\\n                   margin:0;\\n\\n           }\\n\\n           .right-box-equal{\\n               height: 38px;\\n               margin-bottom: 5px;\\n           }\\n         \\n      </style>\\n      <link href=\"https://fonts.googleapis.com/css?family=Signika\" rel=\"stylesheet\">\\n\\n\\n <script src=\"https://www.amcharts.com/lib/3/ammap.js\"></script>\\n<script src=\"https://www.amcharts.com/lib/3/maps/js/indiaLow.js\"></script>\\n<!--<script src=\"js/telangana.js\"></script>-->\\n<!--<script src=\"indiaLow.js\"></script>-->\\n<script src=\"https://code.jquery.com/jquery-1.12.4.min.js\"></script>\\n<!--<script src=\"https://www.amcharts.com/lib/3/maps/js/indiaHigh.js\"></script>-->\\n<!--<script src=\"india_low.js\"></script>-->\\n<script src=\"https://www.amcharts.com/lib/3/plugins/export/export.min.js\"></script>\\n<!--<link rel=\"stylesheet\" href=\"https://www.amcharts.com/lib/3/plugins/export/export.css\" type=\"text/css\" media=\"all\" />-->\\n<script src=\"https://www.amcharts.com/lib/3/themes/light.js\"></script>\\n<script src=\"https://www.amcharts.com/lib/3/themes/light.js\"></script>\\n\\n\\n      <link rel=\"stylesheet\" href=\"https://cdnjs.cloudflare.com/ajax/libs/font-awesome/5.8.1/css/all.css\" />\\n<style>\\n .sun-rise{\\n            background-image: url(\\'../img/sunrise.jpg\\');\\n           }\\n           \\n           .sun-set{\\n               background-image: url(\\'../img/sunset.jpg\\');\\n           }\\n           \\n\\n           .moon-rise{\\n               background-image: url(\\'../img/moonrise.jpg\\');\\n           }\\n           \\n\\n\\n           .moon-set{\\n               background-image: url(\\'../img/moonset.jpg\\');\\n           }\\n           \\n\\n           .moon-set p span, .moon-rise p span, .sun-set p span, .sun-rise p span{\\n             background-color: #0000008a;\\n             padding:5px 3px 5px 3px;\\n           }\\n\\n           .moon-set p, .moon-rise p, .sun-set p, .sun-rise p{\\n                   color: #fff;\\n                   padding-left: 3px;\\n                   font-weight: 400;\\n                   line-height: 36.5px;\\n                   bottom: 0px !important;\\n                   font-family: sans-serif;\\n                   font-size: 14px;\\n                   margin:0;\\n\\n           }\\n\\n           .right-box-equal{\\n               height: 38px;\\n               margin-bottom: 5px;\\n           }\\n #selector {\\n  position: absolute;\\n  top: 20px;\\n  right: 20px;\\n  background: rgba(255, 255, 255, 0.7);\\n  padding: 10px;\\n  font-size: 16px;\\n}\\n\\n#selector input,\\n#selector select {\\n  padding: 0px;\\n}\\n.ammapDescriptionWindow {\\nmax-width: 0px;\\n  max-height: 0px;\\n  background: rgba(255, 255, 255, 0.8);\\n  padding: 0px;\\n  border-radius: 0px;\\n  border: 0px solid rgba(255, 255, 255, 1);\\n\\n}\\n\\n.ammapDescriptionWindowCloseButton{\\nmax-width: 0px;\\n  max-height: 0px;\\n\\n}\\n\\n.ammapDescriptionTitle {\\n  font-size: 0px;\\n  font-weight: bold;\\n  margin-bottom: 0px;\\n}\\n.ammapDescriptionText {\\n  max-height: 0px;\\n  overflow: auto;\\n}\\n.ammapDescriptionText img, .ammapDescriptionText p {\\n  max-width: 0px;\\n}\\n\\n/*.amcharts-chart-div > a {\\n    display: none !important;\\n}*/\\n.amcharts-label-xx {\\n  text-decoration: underline;  // make the text underline imitating the link\\n}\\n.inlineList {\\n   display: flex;\\n   flex-direction: row;\\n  padding:0;\\n   justify-content:flex-start;\\n   list-style: none;\\n   white-space: nowrap;\\n width:410px;\\n height:350px;\\n \\n }\\n</style>\\n<script src=\"https://ajax.googleapis.com/ajax/libs/jquery/3.5.1/jquery.min.js\"></script>\\n<script src=\"https://maxcdn.bootstrapcdn.com/bootstrap/3.4.1/js/bootstrap.min.js\"></script>\\n\\n<script>\\n\\t$(document).ready(function(){\\n\\t\\t$(\"#myModal\").modal(\\'show\\');\\n\\t});\\n\\t\\n\\t\\n\\t$(\\'#btn\\').click(function() {\\n\\t\\n    $(\\'#myModal\\').modal(\\'hide\\');\\n});\\n\\t\\n</script>\\n\\n\\n   </head>\\n   <body onload=\"loadpopup()\">\\n\\n\\n<style>\\n.modal {\\n\\tz-index: 10;\\n\\tdisplay: block;\\n\\tpadding-top: 100px;\\n\\tposition: fixed;\\n\\tleft: 0;\\n\\ttop: 0;\\n\\twidth: 100%;\\n\\theight: 100%;\\n\\toverflow: auto;\\n\\tbackground-color: rgb(0,0,0);\\n\\tbackground-color: rgba(0,0,0,0.8)\\n}\\n.modal-content {\\n\\tmargin: auto;\\n\\tbackground-color: #fff;\\n\\tposition: relative;\\n\\tpadding: 0;\\n\\toutline: 0;\\n\\tmax-width: 1000px\\n}\\n.modal-inner { padding: 20px 30px; }\\n/* The Close Button */\\n.close {\\n  color: #aaaaaa;\\n  float: right;\\n  font-size: 28px;\\n  font-weight: bold;\\n}\\n\\n.close:hover,\\n.close:focus {\\n  color: #000;\\n  text-decoration: none;\\n  cursor: pointer;\\n}\\n.animate-opacity { animation: opac 0.8s }@keyframes opac{from{opacity:0} to{opacity:1}}\\n</style>\\n\\n\\n<!-- The Modal -->\\n<div id=\"myModal\" class=\"modal animate-opacity\">\\n   <div class=\"modal-content\">\\n   <div>\\n\\t   <button id= \"btn\" class=\"modal-close\" data-dismiss=\"modal\" style=\"float: right;\">&times;</button>\\n\\t  </div>\\n      <div class=\"modal-inner\">\\n\\t     <a href=\"#\" target=_blank ><img id=\"myImg\" src=\"mcdata/2023_roundup.jpg\" alt=\"\" style=\"width:940px;\"></a>\\n         <!--<a href=\"slider.php\" target=_blank ><img id=\"myImg\" src=\"../images/banner1.jpg\" alt=\"Rashtrgaan\" style=\"width:450px;\"></a>\\n\\t\\t <a href=\"slider.php\" target=_blank ><img id=\"myImg\" src=\"../images/banner2.jpg\" alt=\"Rashtrgaan\" style=\"width:450px;\"></a>-->\\n\\t\\t </center>\\n      </div>  \\n\\t  \\n   </div>\\n</div>\\n\\n\\n\\n\\n     <!--This cover the whole page -->\\n      <div id=\"pageheight\">\\n      <!--This cover the website page -->\\n         <div id=\"pagewrap\">\\n           \\n           <h1 class=\"accessible\">India Meteorological Department<BR>Met Centre Raipur</h1>\\n<p id=\"jumplinks\"><a href=\"#content\">Skip to main content (press enter)</a></p>\\n\\n       \\n<script async src=\"https://www.googletagmanager.com/gtag/js?id=UA-157746104-1\"></script>\\n<script>\\n  window.dataLayer = window.dataLayer || [];\\n  function gtag(){dataLayer.push(arguments);}\\n  gtag(\\'js\\', new Date());\\n  gtag(\\'config\\', \\'UA-157746104-1\\');\\n</script>\\n\\n<script async src=\"https://www.googletagmanager.com/gtag/js?id=UA-157746104-1\"></script>\\n<script>\\n  window.dataLayer = window.dataLayer || [];\\n  function gtag(){dataLayer.push(arguments);}\\n  gtag(\\'js\\', new Date());\\n  gtag(\\'config\\', \\'UA-157746104-1\\');\\n</script>\\n<script>\\n function changeLang(){\\n  document.getElementById(\\'form_lang\\').submit();\\n }\\n </script>\\n<header id=\"header\">\\n   <div class=\"l_content\">\\n      <div id=\"header-logo\"><a id=\"logo\" href=\"#\"><img src=\"https://mausam.imd.gov.in/imd_latest/contents/img/logo-india-big.png\" alt=\"India Meteorological Department\" width=\"80\" height=\"110\" style=\"z-index: 1;\"></a>\\n      \\n     <div style=\"width:500px\">\\n<h1 style=\"color:#FFF; text-align:center; font-size:11px; padding-top:0px; padding-left:0px; font-weight:200\">Ministry of Earth Sciences</h1>\\n<h1 style=\"color:#FFF; text-align:center; font-size:13px; padding-top:0px; padding-left:0px; font-weight:200\">India Meteorological Department</h1>\\n<h1 style=\"color:#FFF; text-align:center; font-size:15px; padding-top:0px; padding-left:0px; font-weight:200\"> Met Centre Bengaluru</h1>\\n\\n\\n\\n\\n</div>\\n      \\n      \\n      </div>\\n      <div id=\"header-main\">\\n         <div class=\"l_top\">\\n          \\n            <div id=\"header-search\">\\n\\n         <form action=\"/search_RV/index.php\" method=\"post\">\\n         <input type=\"text\" name=\"sr\" maxlength=\"45\" />\\n          <input type=\"submit\" value=\"Search\" />\\n\\t\\t  \\n            </form>\\n<!-- Language -->\\n <form method=\\'get\\' action=\\'\\' id=\\'form_lang\\' >\\n  <select name=\\'lang\\' onchange=\\'changeLang();\\' >\\n   <option value=\\'en\\'  selected >English</option>\\n   <option value=\\'hi\\'  >Hindi</option>\\n  </select>\\n </form>\\n            </div>\\n\\t\\t\\t           \\n <div id=\"social_media\" >\\n\\n           <div id=\"facebook_link\"><a id=\"icon-link-facebook\" href=\"\" target=_blank><img src=\"../img/bom/facebook.gif\" title=\"Facebook\"></a>\\n</div>\\n             \\n            <div id=\"twitter_link\"><a id=\"icon-link-twitter\"  href=\"\" target=_blank><img src=\"../img/bom/twitter.gif\" title=\"Twitter\"></a></div>\\n\\t\\t\\t            \\n\\t\\t\\t\\n        </div>\\n         \\n         \\n         <div class=\"l_bottom\" >\\n            <ul class=\"sf-menu\">             \\n              \\n<li class=\"no-menu\"><a href=\"https://mausam.imd.gov.in/bengaluru\" title=\"Home\"><img src=\"https://mausam.imd.gov.in/bengaluru/img/home.gif\" height=\"18\"/></a></li>                      \\n                       \\n<li  class=\"no-menu\"><a href=\"https://mausam.imd.gov.in/bengaluru/organization.php\">Organisation</a></li>\\n\\t\\t\\t   \\n\\t\\t\\t<div class=\"sf-menu-pointer\"></div>\\n\\n<li  class=\"no-menu\"><a href=\"https://mausam.imd.gov.in/bengaluru/aboutus.php\" >About Us</a></li>\\n\\t\\t\\t   \\n\\t\\t\\t<div class=\"sf-menu-pointer\"></div>\\n\\n<li  class=\"no-menu\"><a href=\"https://mausam.imd.gov.in/bengaluru/contactus.php\">Contact Us</a></li>\\n\\t\\t\\t   \\n\\t\\t\\t<div class=\"sf-menu-pointer\"></div>\\n\\n<li class=\"dropdown \"> <a style=\"cursor:pointer;\" class=\"dropdown-toggle\" data-toggle=\"dropdown\">Data Supply</a>\\n                  <ul class=\"dropdown-menu\">\\n                   \\n                        <li><a href=\"/bengaluru/docs/data-request.pdf\" target=\"_blank\">Data Supply Form</a></li>\\n                        <li><a href=\"/bengaluru/docs/data-procedure.pdf\" target=\"_blank\">Data Supply Procedure</a></li>\\n\\t\\t\\t\\t\\t\\t<li><a href=\"/bengaluru/docs/gst-procedure.pdf\" target=\"_blank\">GST Procedure</a></li>\\n\\t\\t\\t\\t\\t\\t<li><a href=\"/bengaluru/docs/address.pdf\" target=\"_blank\">Communication Address</a></li>\\n\\t\\t  </ul>\\n</li>\\n\\n<!--\\n<li class=\"dropdown \"> <a style=\"cursor:pointer;\" class=\"dropdown-toggle\" data-toggle=\"dropdown\">Public Safety</a>\\n                  <ul class=\"dropdown-menu\">\\n                   \\n                        <li><a href=\"/bengaluru/docs/drought-en.pdf\" target=\"_blank\">Drought</a></li>\\n                        <li><a href=\"/bengaluru/docs/flood-en.pdf\" target=\"_blank\">Flood</a></li>\\n\\t\\t\\t\\t\\t\\t<li><a href=\"/bengaluru/docs/heatwave-en.pdf\" target=\"_blank\">Heatwave</a></li>\\n\\t\\t\\t\\t\\t\\t<li><a href=\"/bengaluru/docs/thunderstorm-en.pdf\" target=\"_blank\">Thunderstorm</a></li>\\n\\t\\t  </ul>\\n</li>\\n-->\\n\\n\\t\\t\\t   \\n\\t\\t\\t<div class=\"sf-menu-pointer\"></div>\\n\\n<li  class=\"no-menu\"><a href=\"/bengaluru/mcdata/tender.pdf\" target=\"_blank\">Tender</a></li>\\n\\t\\t\\t   \\n\\t\\t\\t<div class=\"sf-menu-pointer\"></div>\\n<li  class=\"no-menu\"><a href=\"/bengaluru/mcdata/press.pdf\" target=\"_blank\">Press Release</a></li>\\n\\t\\t\\t   \\n\\t\\t\\t<div class=\"sf-menu-pointer\"></div>\\n\\n\\n\\t\\t\\t\\n<li id=\"sf-menu-vic\">\\n                <abbr ><a href=\"#.\">Others</a></abbr>\\n                  <ul>\\n                     <li class=\"accessible\">\\n                        <h2 class=\"accessible\">Others</h2>\\n                     </li>\\n\\n                    <!--<li><a href=\"http://117.203.102.123:8088/entermobile.php\" target=\"_blank\" >SMS Alerts</a></li>-->\\n                    <li><a href=\"https://mausam.imd.gov.in/bengaluru/rti.php\"target=\"_blank\" >RTI</a></li>\\n                    <li><a href=\"https://mausam.imd.gov.in/Forecast/feedback.php\" target=\"_blank\">Feedback</a></li>\\n                    \\n                    <li><a href=\"https://mausam.imd.gov.in/imd_latest/contents/faq.php\" target=\"_blank\">FAQs</a></li>\\n                    <li><a href=\"https://mausam.imd.gov.in/bengaluru/disclaimer.php\" target=\"_blank\">Disclaimer</a></li>\\n\\n\\n                    \\n                  </ul>\\n                 <!-- <div class=\"sf-menu-pointer\"></div>-->\\n               \\n               </li>\\n\\n<!--<li  class=\"no-menu\"><a href=\"http://117.203.102.123:8088/entermobile.php\" target=\"_blank\">SMS Alerts</a></li>\\n\\t\\t\\t   \\n\\t\\t\\t<div class=\"sf-menu-pointer\"></div>\\n\\n<li  class=\"no-menu\"><a href=\"https://mausam.imd.gov.in/bengaluru/rti.php\">RTI</a></li>\\n\\t\\t\\t   \\n\\t\\t\\t<div class=\"sf-menu-pointer\"></div>\\n<li  class=\"no-menu\"><a href=\"https://mausam.imd.gov.in/Forecast/feedback.php\" target=\"_blank\">Feedback</a></li>\\n\\t\\t\\t   \\n\\t\\t\\t<div class=\"sf-menu-pointer\"></div>-->\\n\\n         \\n              \\n\\n\\n\\n            </ul>\\n\\n\\n\\n\\n\\n\\n\\n\\n\\n         </div>\\n      </div>\\n      <div id=\"second_logo\">\\n      <a href=\"#\"><img src=\"https://mausam.imd.gov.in/imd_latest/img/imd_logo_enamble.png\" alt=\"India Meteorological Department\"></a>\\n      </div>\\n   </div>\\n</header>       <div id=\"columns\">\\n          \\n<!-- This section shows the warning links and specialized forecasts dropdown-->\\n           \\n<section id=\"content\">\\n\\n\\n<div id=\"current\">\\n<!-- Warnings-->\\n      <div id=\"warning_content\">\\n         <h2>Warnings</h2>\\n         <ul >\\n            <li><a href=\"https://mausam.imd.gov.in/imd_latest/contents/subdivisionwise-warning_mc.php?id=13\" title=\"Subdivision Wise\" class=\"tip\" style=\"font-size:12px;\">Subdivision Wise</a>\\n&nbsp;&nbsp;&nbsp;<a href=\"https://mausam.imd.gov.in/imd_latest/contents/districtwise-warning_mc.php?id=13\" title=\"District Wise\" class=\"tip\"  style=\"font-size:12px;\">District Wise</a></li>\\n           \\n         </ul>\\n      </div>\\n\\t  \\n<!-- Nowcast-->  \\n      <div id=\"nowcast_content\"  >\\n         <h2>Nowcast</h2>\\n         <ul>\\n             <li><a href=\"https://mausam.imd.gov.in/imd_latest/contents/districtwisewarnings_mc.php?id=13\" title=\"District Wise\" class=\"tip\"  style=\"font-size:12px;\">District Wise</a>\\n&nbsp;&nbsp;&nbsp;<a href=\"https://mausam.imd.gov.in/imd_latest/contents/stationwise-nowcast-warning_mc.php?id=13\" title=\"Station Wise\" class=\"tip\"  style=\"font-size:12px;\">Station Wise</a></li>\\n         </ul>\\n      </div>\\n\\t  \\n\\n<!-- Weather Observations-->  \\t  \\n      <div id=\"nowcast_content2\" >\\n         <h2>Weather Observations</h2>\\n         <ul>\\n             <li><a href=\"https://mausam.imd.gov.in/imd_latest/contents/Todaysweather_mc.php?id=13\" title=\"Temperature\" class=\"tip\"  style=\"font-size:12px;\">Daily</a>\\n&nbsp;&nbsp;&nbsp;\\n&nbsp;&nbsp;&nbsp;<a href=\"http://aws.imd.gov.in:8091/state.php?id=KARNATAKA\"target=\"_blank\" title=\"Temperature\" class=\"tip\"  style=\"font-size:12px;\">AWS</a></li>\\n\\n         </ul>\\n      </div>\\n   </div>\\n   \\n  \\n\\n   <div class=\"other\" >\\n      <ul class=\"sf-menu\">\\n         <li class=\"\">\\n           <a href=\"#\" class=\"nonclick\">Forecast</a>\\n             <ul>\\n\\t\\t\\t\\t   <li class=\"\"><a href=\"http://internal.imd.gov.in/pages/city_weather_main_mausam.php\"target=\"_blank\">City Forecast</a></li>\\t   \\n\\t\\t\\t\\t   <li class=\"\"><a href=\"https://mausam.imd.gov.in/bengaluru/mcdata/bngdistrict.pdf\" target=\"_blank\">Bengaluru Districts</a></li> \\n\\t\\t\\t\\t\\t<li class=\"\"><a href=\"https://mausam.imd.gov.in/bengaluru/mcdata/districtk.pdf\" target=\"_blank\">District Forecast (Kannada)</a></li>\\t\\n\\t\\t\\t\\t\\t<li class=\"\"><a href=\"https://mausam.imd.gov.in/bengaluru/mcdata/district.pdf\" target=\"_blank\">District Forecast (English)</a></li>\\t\\t\\t\\t\\t\\n\\t\\t\\t\\t   \\n\\t\\t\\t\\t                          \\n\\t\\t\\t\\t   <li class=\"\"><a href=\"https://mausam.imd.gov.in/imd_latest/contents/all_india_forcast_bulletin.php\" target=\"_blank\">National Forecast</a></li>                         \\n\\t\\t\\t\\t   <li class=\"\"><a href=\"https://mausam.imd.gov.in/bengaluru/mcdata/extended.pdf\" target=_blank>Extended Range Forecast</a></li>\\n\\t\\t\\t\\t   <li class=\"\"><a href=\"https://mausam.imd.gov.in/bengaluru/mcdata/impact.pdf\" target=_blank>Impact Based Forecast</a></li> \\n\\t\\t\\t\\t\\t<li class=\"\"><a href=\"https://mausam.imd.gov.in/bengaluru/mcdata/highway.pdf\" target=\"_blank\">Highway Forecast</a></li> \\n\\t\\t\\t\\t\\t<li class=\"\"><a href=\"https://mausam.imd.gov.in/imd_latest/contents/tourist_weather.php\" target=\"_blank\">Tourism Forecast</a></li> \\n\\t\\t\\t\\t\\t<li class=\"\"><a href=\"https://mausam.imd.gov.in/bengaluru/mcdata/twincity.pdf\" target=\"_blank\">Twin City</a></li> \\n\\t\\t\\t\\t\\t<li class=\"\"><a href=\"https://mausam.imd.gov.in/bengaluru/mcdata/mangaluru.pdf\" target=\"_blank\">Mangaluru</a></li> \\n             </ul>\\n            \\n         </li>\\n      </ul>  \\n   </div> \\n   \\n  \\n  \\n  \\n  \\n  \\n  \\n \\n</section>\\n\\n \\n\\n\\n<!-- This section shows the map application and the wheather video imd_latest/contents-->\\n<!--<marquee direction=\"scroll\" style=\"width: 100%; padding: 6px 0; background-color: #85c5e3; \" ><a href=\"Forecast/marquee_data/appreciation_2020.pdf\" target=_blank><font color=\"black\">DG, IMD appreciates contribution and cooperation of colleagues in sustaining IMD services.</font></a></marquee>-->\\n\\n<section id=\"banner\" class=\"clearfix\">\\n\\n<!-- Marquee -->\\n<marquee direction=\"scroll\" scrollamount=\"4\" onmouseover=\"this.stop();\" onmouseout=\"this.start();\" style=\"width: 100%; padding: 6px 0; background-color: #85c5e3;\" >\\n\\t\\t\\t<font color=\"black\">\\n\\t\\t\\t<!--Welcome to the new website of IMD dedicated to general public &nbsp;&nbsp;&nbsp;&nbsp;-->\\n\\n\\n\\t\\t\\t\\t\\t\\t</font>\\n\\t\\t</marquee>\\n\\n<!-- End: Marquee -->\\n\\t<div class=\"mask\" >\\n        <div id=\"chartdiv\" style=\"background-color: #FFFFFF;  float: left;width:400px; height:350px; border-bottom:1px solid #999\"><a href=\"imd_latest/contents/current_weather.php\">City forecast</a></div>\\n                  \\n        <div id=\"city_weather\" style=\"width: 200px; float: left; height: 350px; overflow:hidden; \">\\n\\n\\t\\t\\t<div id=\"label\"  >Current Weather<h3 style=\"color:#fff; font-size: 18px;text-align:center;\">Bengaluru <img style=\"width: 13px;\" src=\"../img/blue_square.png\"></h3></div>\\n                        \\n<!--### commented for displaying current weather on main page###-->                        \\n\\t\\t\\t\\t\\t\\t\\t<div style=\"float: left; padding:5px 3px 0px 25px; \" >\\n\\t\\t\\t\\t\\t<img style=\"height:30px;width:30px; \" src=\"../img/NW7.png\" title=\"\">\\n\\t\\t\\t\\t</div>\\n\\t\\t\\t\\n            <div style=\"padding:5px 3px 5px 5px; \">\\n                <div id=\"temperature\" class=\"temp\"><i class=\"fa fa-thermometer-half\"></i> 25.2<sup>o</sup>C</div>\\n                           \\n\\t\\t\\t\\t<div id=\"temperature1\" style=\" padding:5px 3px 5px 5px;\" class=\"temp\"><i class=\"fa fa-tint\"></i> 81%</div>\\n            </div>\\n                     \\n            <div style=\"float: left; \">\\n                <ul style=\"padding:1% 0 1% 0\">\\n                    <li class=\"sun-info\"><i class=\"fa fa-wind\"></i> Southwesterly 11.1 km/h</li>              \\n\\t\\t\\t\\t</ul>\\n                <small class=\"small\">Observation Time: 30 Jun, 11.30 IST </small>\\n                <div class=\"col-md-2 slider-right-side no-padding\" style=\"padding-top:2%\">\\n                    <div class=\"right-box-equal sun-rise\"><p><span> Sunrise:  05:57 (IST) </span></p></div>\\n                    <div class=\"right-box-equal sun-set\"><p><span> Sunset: 18:50 (IST) </span></p></div>\\n                    <div class=\"right-box-equal moon-rise\"><p><span> Moonrise: 00:52 (IST) </span> </p></div>\\n                    <div class=\"right-box-equal moon-set\"><p><span> Moonset: 13:35 (IST) </span> </p></div>\\n                </div>                    \\n            </div>\\n        </div>\\n\\t\\n\\t\\t<!-- Change - Station Name -->\\n\\t\\t<div   style=\"float:left; width:400px; height:350px; background:#fff;  padding-top:0px; text-align:center;\"> Bengaluru Radar   Animation\\t\\t\\t<!--<a href=\"index_radar.php?id=Hyderabad\"><img src=\\'../Radar/caz_chn.gif\\' style=\"height: 90%; width: 100%; object-fit: contain;\"></a>-->\\n\\t\\t\\t<!-- Change -- id -->\\n\\t\\t\\t<a href=\"index_radar.php?id=Chennai\">\\n\\t\\t\\t\\t<img src=\\'../Radar/animation/Converted/CHN_MAXZ.gif\\' style=\"height: 90%; width: 100%; object-fit: contain;\">\\n\\t\\t\\t</a>\\n\\t\\t</div>                       \\n    </div>      \\n</section>\\n               \\n               \\n               <section id=\"services1\">\\n    <h2>Our Services</h2>\\n    <ul>\\n\\t\\t<li class=\"nwp\" style=\"background-color: #c39300;\">\\t\\n\\t\\tWeather Reports <BR>\\n\\t\\t\\t<a href=\"https://mausam.imd.gov.in/bengaluru/mcdata/daily_report.pdf\"target=\"_blank\">Daily</a>|\\n\\t\\t\\t<a href=\"https://mausam.imd.gov.in/bengaluru/mcdata/weekly.pdf\"target=\"_blank\">Weekly</a>\\n\\t\\t\\t\\t<br><br></li>\\n\\t\\t<li class=\"nwp\" style=\"background-color: #008000\">\\n\\t\\tAgriculture <BR>\\n\\t\\t\\t<a href=\"https://mausam.imd.gov.in/bengaluru/mcdata/agromete.pdf\"target=\"_blank\">Eng Agro Advisory</a>|\\n\\t\\t\\t<a href=\"https://mausam.imd.gov.in/bengaluru/mcdata/agrometv.pdf\"target=\"_blank\">Value Added Forecast</a>|\\n\\t\\t\\t<a href=\"https://mausam.imd.gov.in/bengaluru/mcdata/agrometb.pdf\"target=\"_blank\">Block Level Forecast</a>|\\n\\t\\t\\t<a href=\"https://mausam.imd.gov.in/bengaluru/mcdata/nkafc.pdf\"target=\"_blank\">NKAFC Bulletin</a>\\n\\t\\t\\t\\n\\t\\t</li>\\n\\t\\t\\n\\t\\t <li class=\"margin\" style=\"background-color: #3294c3\">\\n\\t\\tClimatology <BR>\\n\\t\\t\\t<a href=\"https://mausam.imd.gov.in/bengaluru/mcdata/climate.pdf\" target=\"_blank\">Bengaluru</a>|\\n\\t\\t\\t\\t\\t\\t\\n\\t\\t<a  href=\"https://city.imd.gov.in/citywx/extreme/JUN/bengaluru2.htm\" target=\"_blank\">Extremes </a><br><br>\\n\\t\\t</li>\\n\\n\\t\\t\\n\\t\\t<li class=\"nwp\" style=\"background-color: #c39300;\">\\n\\t\\tRadar & Satellite<BR>\\n\\t\\t\\t<a href=\" https://mausam.imd.gov.in/imd_latest/contents/index_radar.php\"target=\"_blank\">Radar</a>|\\n\\t\\t\\t<a href=\"https://mausam.imd.gov.in/imd_latest/contents/satellite.php\"target=\"_blank\">Satellite Products</a>\\n\\t\\t</li>\\n\\t\\t\\n\\t\\t<li class=\"nwp\" style=\"background-color: #008000\">\\n\\t\\tFMO-LOGIN <BR>\\n\\t\\t\\t<a href=\"https://mausam.imd.gov.in/bengaluru/mcdata/qpf_bulletin.pdf\"target=\"_blank\">QPF Bulletin</a>|\\n\\t\\t\\t<a href=\"https://mausam.imd.gov.in/bengaluru/mcdata/hm_bulletin.pdf\" target=\"_blank\">HM Bulletin</a>\\n\\t\\t</li>\\n\\t\\t\\n\\t\\t<li class=\"nwp\" style=\"background-color: #3294c3\">\\n\\t\\tKannada Bulletins <BR>\\n\\t\\t\\t<a href=\"https://mausam.imd.gov.in/bengaluru/mcdata/agrometk.pdf\" target=\"_blank\">Kannada Agro Bulletin</a>\\n\\t\\t\\t\\n\\t\\t</li>\\n\\t\\t\\n\\t\\t<li class=\"nwp\" style=\"background-color: #c39300;\">\\t\\n\\t\\tRainfall Statistics <BR>\\n\\t\\t\\t<a href=\"https://mausam.imd.gov.in/bengaluru/mcdata/daily_stats.pdf\"target=\"_blank\">Daily</a>|\\n\\t\\t\\t<a href=\"https://mausam.imd.gov.in/bengaluru/mcdata/cum_stats.pdf\"target=\"_blank\">Cumulative</a>\\n\\t\\t\\t\\t</li>\\n        \\n    </ul>\\n</section>\\n        \\n<section id=\"today\">\\n    <div style=\"height:270px\">\\n        <h2>Current Weather across Major Cities</h2>\\n        <div class=\"capitals clearfix\">\\n\\t\\t            <div class=\"capital\">\\n                <h3>Bengaluru</h3>\\n                <p class=\"now\"><span class=\"val\">25.2&deg;</span></p>\\n                <p class=\"wind\">Southwesterly<br /> 11.1km/h</p>\\n                <p class=\"minmax\"><span class=\"max\"><i class=\"fas fa-tint\"></i> 81%</span></p>\\n                <p class=\"precis\"><img src=\"../img/NW7.png\" style=\"height:30px;width:30px;\"></p>\\n                <a href=\"https://city.imd.gov.in/citywx/city_weather.php?id=43295\" target=_blank>Forecast</a>               \\n            </div>\\n\\t\\t            <div class=\"capital\">\\n                <h3>Mangaluru</h3>\\n                <p class=\"now\"><span class=\"val\">26&deg;</span></p>\\n                <p class=\"wind\">Southeasterly<br /> 5.6km/h</p>\\n                <p class=\"minmax\"><span class=\"max\"><i class=\"fas fa-tint\"></i> 100%</span></p>\\n                <p class=\"precis\"><img src=\"../img/10.png\" style=\"height:30px;width:30px;\"></p>\\n                <a href=\"https://city.imd.gov.in/citywx/city_weather.php?id=43284\" target=_blank>Forecast</a>               \\n            </div>\\n\\t\\t            <div class=\"capital\">\\n                <h3>Chitradurga</h3>\\n                <p class=\"now\"><span class=\"val\">28&deg;</span></p>\\n                <p class=\"wind\">West-southwesterly<br /> 14.8km/h</p>\\n                <p class=\"minmax\"><span class=\"max\"><i class=\"fas fa-tint\"></i> 82%</span></p>\\n                <p class=\"precis\"><img src=\"../img/NW8.png\" style=\"height:30px;width:30px;\"></p>\\n                <a href=\"https://city.imd.gov.in/citywx/city_weather.php?id=43233\" target=_blank>Forecast</a>               \\n            </div>\\n\\t\\t            <div class=\"capital\">\\n                <h3>Gadag</h3>\\n                <p class=\"now\"><span class=\"val\">28.2&deg;</span></p>\\n                <p class=\"wind\">South-southwesterly<br /> 9.3km/h</p>\\n                <p class=\"minmax\"><span class=\"max\"><i class=\"fas fa-tint\"></i> 73%</span></p>\\n                <p class=\"precis\"><img src=\"../img/NW7.png\" style=\"height:30px;width:30px;\"></p>\\n                <a href=\"https://city.imd.gov.in/citywx/city_weather.php?id=43201\" target=_blank>Forecast</a>               \\n            </div>\\n\\t\\t            <div class=\"capital\">\\n                <h3>Honnavar</h3>\\n                <p class=\"now\"><span class=\"val\">25.8&deg;</span></p>\\n                <p class=\"wind\">Southwesterly<br /> 14.8km/h</p>\\n                <p class=\"minmax\"><span class=\"max\"><i class=\"fas fa-tint\"></i> 98%</span></p>\\n                <p class=\"precis\"><img src=\"../img/NW8.png\" style=\"height:30px;width:30px;\"></p>\\n                <a href=\"https://city.imd.gov.in/citywx/city_weather.php?id=43226\" target=_blank>Forecast</a>               \\n            </div>\\n\\t\\t            <div class=\"capital\">\\n                <h3>Kalaburgi</h3>\\n                <p class=\"now\"><span class=\"val\">28&deg;</span></p>\\n                <p class=\"wind\">Southwesterly<br /> 22.2km/h</p>\\n                <p class=\"minmax\"><span class=\"max\"><i class=\"fas fa-tint\"></i> 94%</span></p>\\n                <p class=\"precis\"><img src=\"../img/NW2.png\" style=\"height:30px;width:30px;\"></p>\\n                <a href=\"https://city.imd.gov.in/citywx/city_weather.php?id=43121\" target=_blank>Forecast</a>               \\n            </div>\\n\\t\\t            <div class=\"capital\">\\n                <h3>Belagavi</h3>\\n                <p class=\"now\"><span class=\"val\">28&deg;</span></p>\\n                <p class=\"wind\">West-southwesterly<br /> 25.9km/h</p>\\n                <p class=\"minmax\"><span class=\"max\"><i class=\"fas fa-tint\"></i> 79%</span></p>\\n                <p class=\"precis\"><img src=\"../img/21.png\" style=\"height:30px;width:30px;\"></p>\\n                <a href=\"https://city.imd.gov.in/citywx/city_weather.php?id=43198\" target=_blank>Forecast</a>               \\n            </div>\\n\\t\\t            <div class=\"capital\">\\n                <h3>Karwar</h3>\\n                <p class=\"now\"><span class=\"val\">29.2&deg;</span></p>\\n                <p class=\"wind\">Calm<br /> 0km/h</p>\\n                <p class=\"minmax\"><span class=\"max\"><i class=\"fas fa-tint\"></i> 90%</span></p>\\n                <p class=\"precis\"><img src=\"../img/NW8.png\" style=\"height:30px;width:30px;\"></p>\\n                <a href=\"https://city.imd.gov.in/citywx/city_weather.php?id=43225\" target=_blank>Forecast</a>               \\n            </div>\\n\\t\\t                                            \\n        </div>\\n    </div>\\n</section>\\n              \\n \\n              \\n               <div class=\"clr\"></div>\\n            </div>\\n         \\n          \\n<footer id=\"footer\">\\n          \\n\\n\\n<p id=\"copyright\">&#169; Copyright <a href=\"https://moes.gov.in/\" target=\"_blank\">Met Centre Bengaluru<BR>India Meteorological Department<br>Ministry of Earth Sciences</a>, New Delhi, India</p>\\n<p  align=\"center \"> \\n\\t\\t<a href=\"https://twitter.com/metcentre_bng\" target=\"_blank\" ><img src=\"../raipur/img/twitter.png\" style=\"width:30px;height:30px;\"></a>\\n        <a href=\"https://www.facebook.com/profile.php?id=100012331965314\" target=\"_blank\"><img src=\"../raipur/img/facebook.png\" style=\"width:30px;height:30px;\"></a>\\n        \\n       \\n\\n</p>\\n               \\n\\n\\t\\n         </footer>\\n         \\n         </div>\\n        \\n       \\n        \\n        \\n        \\n      </div>\\n \\n\\n<script type=\"text/javascript\">\\nvar KarnatakadataProvider={\\n\\n\"map\": \"indiaLow\",\\n\"getAreasFromMap\": true,\\n\"images\": [\\n\\n{\\n  \"latitude\": 14.8185,\\n      \"longitude\": 74.1416,\\n      \"imageURL\":  \"../img/NW8.png\",\\n      \"width\": 25,\\n      \"height\": 25,\\n      \"label\": \"Karwar\",\\n\\t  \"labelPosition\": \"left\",\\n \"ajaxUrl\": \"../LIP/sample4.php\"      ,\\n       \"selectable\":true,description:\"</br>\"\\n},\\n{\\n  \"latitude\": 16.9847,\\n      \"longitude\": 75.7544,\\n      \"imageURL\":  \"../img/0.png\",\\n      \"width\": 28,\\n      \"height\": 28,\\n      \"label\": \"Bijapura\",\\n\\t  \"labelPosition\": \"right\",\\n       \"ajaxUrl\": \"../LIP/sample4.php\"    ,\\n       \"selectable\":true,description:\"</br>\"\\n},\\n{\\n  \"latitude\": 16.4919,\\n      \"longitude\": 76.7458,\\n      \"imageURL\":  \"../img/0.png\",\\n      \"width\": 25,\\n      \"height\": 25,\\n      \"label\": \"Kawadimatti\",\\n\\t  \"labelPosition\": \"left\",\\n       \"ajaxUrl\": \"../LIP/sample4.php\"    ,\\n       \"selectable\":true,description:\"</br>\"\\n},\\n{\\n  \"latitude\": 16.1645,\\n      \"longitude\": 75.6143,\\n      \"imageURL\":  \"../img/0.png\",\\n      \"width\": 28,\\n      \"height\": 28,\\n      \"label\": \"Bagalkot\",\\n\\t  \"labelPosition\": \"right\",\\n       \"ajaxUrl\": \"../LIP/sample4.php\"    ,\\n       \"selectable\":true,description:\"</br>\"\\n},\\n{\\n  \"latitude\": 13.1986,\\n      \"longitude\": 77.7066,\\n      \"imageURL\":  \"../img/NW7.png\",\\n      \"width\": 20,\\n      \"height\": 20,\\n      \"label\": \"Bengaluru\",\\n       \"ajaxUrl\": \"../LIP/sample4.php\"    ,\\n       \"selectable\":true,description:\"</br>\"\\n},\\n{\\n  \"latitude\": 12.94,\\n      \"longitude\": 74.82,\\n      \"imageURL\":  \"../img/10.png\",\\n      \"width\": 28,\\n      \"height\": 28,\\n      \"label\": \"Mangaluru\",\\n\\t  \"labelPosition\": \"right\",\\n       \"ajaxUrl\": \"../LIP/sample4.php\"    ,\\n       \"selectable\":true,description:\"</br>\"\\n},\\n{\\n  \"latitude\": 15.8497,\\n      \"longitude\": 74.4977,\\n      \"imageURL\":  \"../img/21.png\",\\n      \"width\": 28,\\n      \"height\": 28,\\n     \"label\": \"Belagavi\",\\n       \"ajaxUrl\": \"../LIP/sample4.php\"    ,\\n       \"selectable\":true,description:\"</br>\"\\n},\\n{\\n  \"latitude\": 15.4026,\\n      \"longitude\": 75.6208,\\n      \"imageURL\":  \"../img/NW7.png\",\\n      \"width\": 28,\\n      \"height\": 28,\\n      \"label\": \"Gadag\",\\n\\t  \"labelPosition\": \"left\",\\n       \"ajaxUrl\": \"../LIP/sample4.php\"    ,\\n       \"selectable\":true,description:\"</br>\"\\n},\\n{\\n  \"latitude\": 14.2306,\\n      \"longitude\": 76.3985,\\n      \"imageURL\":  \"../img/NW8.png\",\\n      \"width\": 28,\\n      \"height\": 28,\\n      \"label\": \"Chitradurga\",\\n       \"ajaxUrl\": \"../LIP/sample4.php\"    ,\\n       \"selectable\":true,description:\"</br>\"\\n},\\n{\\n  \"latitude\": 13.3386,\\n      \"longitude\": 75.7295,\\n      \"imageURL\":  \"../img/0.png\",\\n      \"width\": 28,\\n      \"height\": 28,\\n      \"label\": \"Chikmagalur\",\\n\\t  \"labelPosition\": \"right\",\\n       \"ajaxUrl\": \"../LIP/sample4.php\"    ,\\n       \"selectable\":true,description:\"</br>\"\\n},\\n{\\n  \"latitude\": 13.6632,\\n      \"longitude\": 76.9159,\\n      \"imageURL\":  \"../img/0.png\",\\n      \"width\": 28,\\n      \"height\": 28,\\n      \"label\": \"Chikkanahally\",\\n\\t  \"labelPosition\": \"right\",\\n       \"ajaxUrl\": \"../LIP/sample4.php\"    ,\\n       \"selectable\":true,description:\"</br>\"\\n},\\n{\\n  \"latitude\": 13.4194,\\n      \"longitude\": 74.7597,\\n      \"imageURL\":  \"../img/0.png\",\\n      \"width\": 28,\\n      \"height\": 28,\\n      \"label\": \"Barahmavara\",\\n\\t  \"labelPosition\": \"left\",\\n       \"ajaxUrl\": \"../LIP/sample4.php\"    ,\\n       \"selectable\":true,description:\"</br>\"\\n},\\n{\\n  \"latitude\": 13.9760,\\n      \"longitude\": 75.5768,\\n      \"imageURL\":  \"../img/0.png\",\\n      \"width\": 28,\\n      \"height\": 28,\\n      \"label\": \"Neveli\",\\n\\t  \"labelPosition\": \"left\",\\n       \"ajaxUrl\": \"../LIP/sample4.php\"    ,\\n       \"selectable\":true,description:\"</br>\"\\n},\\n{\\n  \"latitude\": 15.3475,\\n      \"longitude\": 76.1807,\\n      \"imageURL\":  \"../img/0.png\",\\n      \"width\": 28,\\n      \"height\": 28,\\n      \"label\": \"Koppal\",\\n\\t  \"labelPosition\": \"right\",\\n       \"ajaxUrl\": \"../LIP/sample4.php\"    ,\\n       \"selectable\":true,description:\"</br>\"\\n},\\n\\n{\\n  \"latitude\": 17.3297,\\n      \"longitude\": 76.8343,\\n      \"imageURL\":  \"../img/NW2.png\",\\n      \"width\": 28,\\n      \"height\": 28,\\n      \"label\": \"Kalaburgi\",\\n\\t  \"labelPosition\": \"left\",\\n       \"ajaxUrl\": \"../LIP/sample4.php\"    ,\\n       \"selectable\":true,description:\"</br>\"\\n},\\n//synop\\n{\\n  \"latitude\": 14.2798,\\n      \"longitude\": 74.4439,\\n      \"imageURL\":  \"../img/NW8.png\",\\n      \"width\": 25,\\n      \"height\": 25,\\n      \"label\": \"Honnavar\",\\n\\t  \"labelPosition\": \"left\",\\n       \"ajaxUrl\": \"../LIP/sample4.php\"    ,\\n       \"selectable\":true,description:\"</br>\"\\n},\\n{\\n  \"latitude\": 15.1385,\\n      \"longitude\": 77.0612,\\n      \"imageURL\":  \"../img/0.png\",\\n      \"width\": 25,\\n      \"height\": 25,\\n      \"label\": \"Hagari\",\\n\\t  \"labelPosition\": \"left\",\\n       \"ajaxUrl\": \"../LIP/sample4.php\"    ,\\n       \"selectable\":true,description:\"</br>\"\\n},\\n{\\n  \"latitude\": 15.0955,\\n      \"longitude\": 75.9441,\\n      \"imageURL\":  \"../img/NA.png\",\\n      \"width\": 25,\\n      \"height\": 25,\\n      \"label\": \"Hanuman_Matti\",\\n\\t  \"labelPosition\": \"left\",\\n       \"ajaxUrl\": \"../LIP/sample4.php\"    ,\\n       \"selectable\":true,description:\"</br>\"\\n},\\n{\\n  \"latitude\": 11.8931,\\n      \"longitude\": 76.9577,\\n      \"imageURL\":  \"../img/NA.png\",\\n      \"width\": 25,\\n      \"height\": 25,\\n      \"label\": \"Hardanhally\",\\n\\t  \"labelPosition\": \"left\",\\n       \"ajaxUrl\": \"../LIP/sample4.php\"    ,\\n       \"selectable\":true,description:\"</br>\"\\n},\\n{\\n  \"latitude\": 13.1333,\\n      \"longitude\": 78.1786,\\n      \"imageURL\":  \"../img/0.png\",\\n      \"width\": 25,\\n      \"height\": 25,\\n      \"label\": \"Tamaka\",\\n\\t  \"labelPosition\": \"left\",\\n       \"ajaxUrl\": \"../LIP/sample4.php\"    ,\\n       \"selectable\":true,description:\"</br>\"\\n},\\n{\\n  \"latitude\": 12.5685,\\n      \"longitude\": 76.8322,\\n      \"imageURL\":  \"../img/.png\",\\n      \"width\": 25,\\n      \"height\": 25,\\n      \"label\": \"Mandya\",\\n\\t  \"labelPosition\": \"left\",\\n       \"ajaxUrl\": \"../LIP/sample4.php\"    ,\\n       \"selectable\":true,description:\"</br>\"\\n},\\n{\\n  \"latitude\": 12.9788,\\n      \"longitude\": 77.1925,\\n      \"imageURL\":  \"../img/NA.png\",\\n      \"width\": 25,\\n      \"height\": 25,\\n      \"label\": \"Chandurayanghalli\",\\n\\t  \"labelPosition\": \"right\",\\n       \"ajaxUrl\": \"../LIP/sample4.php\"    ,\\n       \"selectable\":true,description:\"</br>\"\\n},\\n{\\n  \"latitude\": 13.2783,\\n      \"longitude\": 76.3883,\\n      \"imageURL\":  \"../img/0.png\",\\n      \"width\": 25,\\n      \"height\": 25,\\n      \"label\": \"Konehalli\",\\n\\t  \"labelPosition\": \"left\",\\n       \"ajaxUrl\": \"../LIP/sample4.php\"    ,\\n       \"selectable\":true,description:\"</br>\"\\n}\\n\\n\\n\\n\\t\\t],\\n\\nareas :\\n[\\n\\t{\\n\\t\\t\"id\": \"IN-DL\",\\n        \"label\":\"Delhi\",\\n        \"ajaxUrl\": \"LIP/sample4.php\",\\n        \"passZoomValuesToTarget\": true,\\n\\t\\t\"mouseEnabled\":false, \"color\":\"#FFFFFF\"\\n\\t},\\n\\t{\\n\\t\"id\":\"IN-AR\",\\n\\t\"label\":\"Arunachal\",\\n\\t\"ajaxUrl\": \"LIP/sample4.php\",\\n\\t\"passZoomValuesToTarget\": true,\\n\\t\"mouseEnabled\":false, \"color\":\"#FFFFFF\"\\n\\t},\\n\\n\\n{\\n\"id\":\"IN-MN\",\\n\"label\":\"Manipur\",\\n                   \"ajaxUrl\": \"LIP/sample4.php\",\\n                   \"passZoomValuesToTarget\": true,\\n\\t\\t           \"mouseEnabled\":false, \"color\":\"#FFFFFF\"\\n},\\n\\n\\n{\\n\"id\":\"IN-TR\",\\n\"label\":\"Tripura\",\\n                   \"ajaxUrl\": \"LIP/sample4.php\",\\n                   \"passZoomValuesToTarget\": true,\\n\\t\\t           \"mouseEnabled\":false, \"color\":\"#FFFFFF\"\\n},\\n\\n\\n{\\n\"id\":\"IN-ML\",\\n\"label\":\"Meghalaya\",\\n                   \"ajaxUrl\": \"LIP/sample4.php\",\\n                   \"passZoomValuesToTarget\": true,\\n\\t\\t           \"mouseEnabled\":false, \"color\":\"#FFFFFF\"\\n},\\n\\n{\\n\"id\":\"IN-NL\",\\n\"label\":\"Nagaland\",\\n                   \"ajaxUrl\": \"LIP/sample4.php\",\\n                   \"passZoomValuesToTarget\": true,\\n\\t\\t           \"mouseEnabled\":false, \"color\":\"#FFFFFF\"\\n},\\n\\n\\n\\n{\\n\"id\":\"IN-AS\",\\n\"label\":\"Assam\",\\n                   \"ajaxUrl\": \"LIP/sample4.php\",\\n                   \"passZoomValuesToTarget\": true,\\n\\t\\t           \"mouseEnabled\":false, \"color\":\"#FFFFFF\"\\n},\\n\\n{\\n\"id\":\"IN-MZ\",\\n\"label\":\"Mizoram\",\\n                   \"ajaxUrl\": \"LIP/sample4.php\",\\n                   \"passZoomValuesToTarget\": true,\\n\\t\\t           \"mouseEnabled\":false, \"color\":\"#FFFFFF\"\\n},\\n\\n\\n{\\n\"id\":\"IN-KL\",\\n\"label\":\"Kerala\",\\n                   \"ajaxUrl\": \"LIP/sample4.php\",\\n                   \"passZoomValuesToTarget\": true,\\n\\t\\t           \"mouseEnabled\":false, \"color\":\"#FFFFFF\"\\n},\\n\\n\\n{\\n\"id\":\"IN-TN\",\\n\"label\":\"TamilNadu\",\\n                   \"ajaxUrl\": \"LIP/sample4.php\",\\n                   \"passZoomValuesToTarget\": true,\\n\\t\\t           \"mouseEnabled\":false, \"color\":\"#FFFFFF\"\\n},\\n\\n{\\n\"id\":\"IN-KA\",\\n\"label\":\"Karnataka\",\\n                   \"ajaxUrl\": \"LIP/sample4.php\",\\n                   \"passZoomValuesToTarget\": true,\\n\\t\\t\\t\\t   \\n\\t\"linkToObject\": KarnatakadataProvider,\\n\\t\\t           \"mouseEnabled\":false\\n},\\n\\n\\n{\\n\\t\"id\":\"IN-AP\",\\n\\t\"label\":\"AndhraPradesh\",\\n\\t\"mouseEnabled\":false, \\n\\t\"color\":\"#FFFFFF\"\\n},\\n\\n{\\n\"id\":\"IN-TG\",\\n\\n\"label\":\"Telangana\",\\n                   \"ajaxUrl\": \"LIP/sample4.php\",\\n                   \"passZoomValuesToTarget\": true,\\n\\t\\t           \"mouseEnabled\":false,\\n\\t\\t\\t\\t   \"color\":\"#FFFFFF\"\\n},\\n\\n\\n{\\n\\t\"id\":\"IN-MH\",\\n\\t\"label\":\"Maharashtra\",\\n        \"mouseEnabled\":false, \\n\\t\"color\":\"#FFFFFF\"\\n},\\n\\n{\\n\\t\"id\":\"IN-OR\",\\n\\t\"label\":\"Orissa\",\\n        \"mouseEnabled\":false, \\n\\t\"color\":\"#FFFFFF\"\\n},\\n\\n{\\n\\t\"id\":\"IN-CT\",\\n\\t\"label\":\"Chhatisgarh\",\\n    \"mouseEnabled\":false, \\n\\t\"color\":\"#FFFFFF\"\\n\\t\\n},\\n{\\n\\t\"id\":\"IN-WB\",\\n\\t\"label\":\"WestBengal\",\\n        \"mouseEnabled\":false, \\n\\t\"color\":\"#FFFFFF\"\\n},\\n\\n{\\n\\t\"id\":\"IN-JH\",\\n\\t\"label\":\"Jharkhand\",\\n        \"mouseEnabled\":false, \\n\\t\"color\":\"#FFFFFF\"\\n},\\n\\n\\n\\n\\n{\\n\\t\"id\":\"IN-BR\",\\n\\t\"label\":\"Bihar\",\\n        \"mouseEnabled\":false, \\n\\t\"color\":\"#FFFFFF\"\\n\\n},\\n\\n\\n{\\n\\t\"id\":\"IN-UP\",\\t\\n\\t\"label\":\"UttarPradesh\",\\n\\t\"color\":\"#FFFFFF\",\\n    \"mouseEnabled\":false\\t\\n},\\n\\n\\n\\n{\\n\\t\"id\":\"IN-RJ\",\\n\\t\"label\":\"Rajasthan\",\\n        \"mouseEnabled\":false, \\n\\t\"color\":\"#FFFFFF\"\\n},\\n\\n\\n{\\n\\t\"id\":\"IN-MP\",\\n\\t\"label\":\"MadhyaPradesh\",\\n        \"mouseEnabled\":false, \\n\\t\"color\":\"#FFFFFF\"\\n},\\n\\n{\\n\\t\"id\":\"IN-GJ\",\\n\\t\"label\":\"Gujarat\",\\n        \"mouseEnabled\":false, \\n\\t\"color\":\"#FFFFFF\"\\n},\\n\\n{\\n\\t\"id\":\"IN-HR\",\\n\\t\"label\":\"Haryana\",\\n        \"mouseEnabled\":false, \\n\\t\"color\":\"#FFFFFF\"\\n},\\n\\n\\n{\\n\\t\"id\":\"IN-PB\",\\n\\t\"label\":\"Punjab\",\\n        \"mouseEnabled\":false, \\n\\t\"color\":\"#FFFFFF\"\\n},\\n\\n\\n{\\n\\t\"id\":\"IN-UT\",\\n\\t\"label\":\"Uttarakhand\",\\n        \"mouseEnabled\":false, \\n\\t\"color\":\"#FFFFFF\"\\n},\\n\\n\\n{\\n\\t\"id\":\"IN-HP\",\\n\\t\"label\":\"HimachalPradesh\",\\n        \"mouseEnabled\":false, \\n\\t\"color\":\"#FFFFFF\"\\n},\\n\\n{\\n\\t\"id\":\"IN-JK\",\\n\\t\"label\":\"JammuandKashmir\",\\n        \"mouseEnabled\":false, \\n\\t\"color\":\"#FFFFFF\"\\n},\\n{\\n        \"id\": \"IN-CH\",\\n        \"mouseEnabled\":false,\\n\\t\"color\":\"#FFFFFF\"\\n        },\\n\\n\\n{\\n          \"id\": \"IN-SK\",\\n          \"mouseEnabled\":false,\\n\\t\"color\":\"#FFFFFF\"\\n        },\\n\\n\\n{\\n        \"id\": \"IN-DD\",\\n        \"mouseEnabled\":false,\\n\\t\"color\":\"#FFFFFF\"\\n        },\\n\\n\\n{\\n       \"id\": \"IN-DN\",\\n       \"mouseEnabled\":false,\\n\\t\"color\":\"#FFFFFF\"\\n        },\\n\\n{\\n        \"id\": \"IN-GA\",\\n        \"mouseEnabled\":false,\\n\\t\"color\":\"#FFFFFF\"\\n        },\\n{\\n        \"id\": \"IN-AN\",\\n        \"mouseEnabled\":false,\\n\\t\"color\":\"#FFFFFF\"\\n        },\\n\\n{\\n        \"id\": \"IN-PY\",\\n        \"mouseEnabled\":false,\\n\\t\"color\":\"#FFFFFF\"\\n        },\\n\\n\\n],\\n\\n\"areasSettings\": {\\n    \"autoZoom\": true,\\n      \"selectable\": true,\\n//    \"selectedColor\": \"#C2DFFF\",\\n    \"unlistedAreasAlpha\": 0.3\\n  },\\n\"imagesSettings\": {\\n //   \"labelRollOverColor\": \"#000\",\\n  //  \"labelPosition\": \"bottom\"\\n  //   useTargetsZoomValues: true\\n  \"selectable\" :true\\n  }\\n};\\n\\n\\n\\n\\n\\n\\n\\n\\nvar map = AmCharts.makeChart( \"chartdiv\", {\\n  \"type\": \"map\",\\n  \"theme\": \"light\",\\n\"zoomControl\": {\\n\\t\\t\"zoomControlEnabled\": false\\t\\t\\n\\t},\\n // \"color\": \"#FFCC00\",\\n//  \"colorSteps\": 10,\\n//\"imagesSettings\": {\\n //   \"labelRollOverColor\": \"#000\",\\n  //  \"labelPosition\": \"bottom\"\\n     useTargetsZoomValues: true,\\n        \"autoZoom\": true,\\n\\n  //},\\n \"listeners\": [ \\n\\t{\\n\\t\\t\"event\": \"rendered\",\\n\\t\\t\"method\": function check(){\\n\\t\\t//Zoomed to center of the state...\\n\\t\\tmap.zoomToLongLat(4,75.99,14.73,true);\\n\\n\\t\\t}\\n\\t},\\n\\n\\t{\\n\\t\\t\"event\": \"clickMapObject\",\\n\\t\\t\"method\": function( e ) {\\n\\t\\t   //alert(e.mapObject.ajaxUrl);\\n\\t\\t   if ( e.mapObject.ajaxUrl !== undefined ) {\\n\\t\\t\\t// add \"description\" if it was emptyi\\n\\t\\t\\t e.mapObject.description =undefined;\\n\\t\\t\\tif ( e.mapObject.description === undefined )\\n\\t\\t\\t  e.mapObject.description = \"<div id=\\'mapcontent\\'>Loading...</div>\";\\n\\t\\t\\t\\n\\t  //        alert( e.mapObject.description); \\n\\t//           e.mapObject.description=e.mapObject.ajaxUrl;\\n\\t\\t\\t// delay loading by a bit so that map can finish displaying description box and zoom\\n\\t\\t\\tsetTimeout( function() {\\n\\t\\t\\t   if(e.mapObject.label==\"New Delhi\")\\n\\t\\t\\t   {\\n\\t\\t\\t\\t e.mapObject.label=\"NewDelhi\";\\n\\t\\t\\t\\t}\\n\\t\\t\\t  $( \"#mapcontent\" ).load( e.mapObject.ajaxUrl+\"?id=\"+e.mapObject.label );\\n\\t\\t\\t \\n\\t\\t\\t}, 1000 );\\n\\t   document.getElementById( \"city_weather\" ).innerHTML =   e.mapObject.description ;\\n\\t//   document.getElementById(\\'temperature\\').innerHTML=10; \\n\\n\\t e.mapObject.description =\"\";\\n\\t\\t}\\n\\t e.mapObject.description =undefined;\\n\\t\\t}\\n\\t  } \\n\\t  ],\\n \"areasSettings\": {\\n    \"autoZoom\": true,\\n    \"selectedColor\": \"#C2CFFD\",\\n      \"rollOverColor\": \"#C2DFFF\",\\n\\n    \"unlistedAreasAlpha\": 0.3\\n  },\\n \"dataProvider\": KarnatakadataProvider,\\n// \"dataProvider\": countrydataprovider,\\n\"allLabels\": [{\\n    \"id\": \"xx\",   /// id which is used for css customization\\n    \"text\": \"Current Weather\",\\n    \"bold\": true,\\n    \"x\": \"80%\",\\n    \"y\": \"3%\",\\n    \"rotation\": 0,\\n    \"width\": \"100%\",\\n    \"size\": 13,\\n    \"align\": \"middle\",\\n  }],\\n\"hideCredits\":\"true\"\\n\\n\\n\\n} );\\n\\nfunction handleGoHome() {\\n\\tmap.zoomToMapXY(2,-1.277,-2.2461,true);\\t\\n\\tmap.zoomToLongLat(4,75.99,14.73,true);\\n}\\n\\nfunction handleMapObjectClick(event) {\\n  if (event.mapObject.id == \"backButton\") {\\n    handleGoHome();\\n  }\\n}\\n\\nfunction handleZoom()\\n{\\n}\\n\\n// monitor when home icon was clicked and also go to continents map\\nmap.addListener(\"homeButtonClicked\", handleGoHome);\\nmap.addListener(\"clickMapObject\", handleMapObjectClick);\\nmap.addListener(\"zoomed\", handleZoom);\\n\\n</script>\\n\\n</div>\\n  </body>\\n  \\n</html>\\n'"
      ]
     },
     "execution_count": 9,
     "metadata": {},
     "output_type": "execute_result"
    }
   ],
   "source": [
    "html = fetch_html_from_url(link)\n",
    "html"
   ]
  },
  {
   "cell_type": "code",
   "execution_count": 14,
   "metadata": {},
   "outputs": [
    {
     "data": {
      "text/plain": [
       "[<a href=\"#\" target=\"_blank\"><img alt=\"\" id=\"myImg\" src=\"mcdata/2023_roundup.jpg\" style=\"width:940px;\"/></a>,\n",
       " <a href=\"#content\">Skip to main content (press enter)</a>,\n",
       " <a href=\"#\" id=\"logo\"><img alt=\"India Meteorological Department\" height=\"110\" src=\"https://mausam.imd.gov.in/imd_latest/contents/img/logo-india-big.png\" style=\"z-index: 1;\" width=\"80\"/></a>,\n",
       " <a href=\"\" id=\"icon-link-facebook\" target=\"_blank\"><img src=\"../img/bom/facebook.gif\" title=\"Facebook\"/></a>,\n",
       " <a href=\"\" id=\"icon-link-twitter\" target=\"_blank\"><img src=\"../img/bom/twitter.gif\" title=\"Twitter\"/></a>,\n",
       " <a href=\"https://mausam.imd.gov.in/bengaluru\" title=\"Home\"><img height=\"18\" src=\"https://mausam.imd.gov.in/bengaluru/img/home.gif\"/></a>,\n",
       " <a href=\"https://mausam.imd.gov.in/bengaluru/organization.php\">Organisation</a>,\n",
       " <a href=\"https://mausam.imd.gov.in/bengaluru/aboutus.php\">About Us</a>,\n",
       " <a href=\"https://mausam.imd.gov.in/bengaluru/contactus.php\">Contact Us</a>,\n",
       " <a class=\"dropdown-toggle\" data-toggle=\"dropdown\" style=\"cursor:pointer;\">Data Supply</a>,\n",
       " <a href=\"/bengaluru/docs/data-request.pdf\" target=\"_blank\">Data Supply Form</a>,\n",
       " <a href=\"/bengaluru/docs/data-procedure.pdf\" target=\"_blank\">Data Supply Procedure</a>,\n",
       " <a href=\"/bengaluru/docs/gst-procedure.pdf\" target=\"_blank\">GST Procedure</a>,\n",
       " <a href=\"/bengaluru/docs/address.pdf\" target=\"_blank\">Communication Address</a>,\n",
       " <a href=\"/bengaluru/mcdata/tender.pdf\" target=\"_blank\">Tender</a>,\n",
       " <a href=\"/bengaluru/mcdata/press.pdf\" target=\"_blank\">Press Release</a>,\n",
       " <a href=\"#.\">Others</a>,\n",
       " <a href=\"https://mausam.imd.gov.in/bengaluru/rti.php\" target=\"_blank\">RTI</a>,\n",
       " <a href=\"https://mausam.imd.gov.in/Forecast/feedback.php\" target=\"_blank\">Feedback</a>,\n",
       " <a href=\"https://mausam.imd.gov.in/imd_latest/contents/faq.php\" target=\"_blank\">FAQs</a>,\n",
       " <a href=\"https://mausam.imd.gov.in/bengaluru/disclaimer.php\" target=\"_blank\">Disclaimer</a>,\n",
       " <a href=\"#\"><img alt=\"India Meteorological Department\" src=\"https://mausam.imd.gov.in/imd_latest/img/imd_logo_enamble.png\"/></a>,\n",
       " <a class=\"tip\" href=\"https://mausam.imd.gov.in/imd_latest/contents/subdivisionwise-warning_mc.php?id=13\" style=\"font-size:12px;\" title=\"Subdivision Wise\">Subdivision Wise</a>,\n",
       " <a class=\"tip\" href=\"https://mausam.imd.gov.in/imd_latest/contents/districtwise-warning_mc.php?id=13\" style=\"font-size:12px;\" title=\"District Wise\">District Wise</a>,\n",
       " <a class=\"tip\" href=\"https://mausam.imd.gov.in/imd_latest/contents/districtwisewarnings_mc.php?id=13\" style=\"font-size:12px;\" title=\"District Wise\">District Wise</a>,\n",
       " <a class=\"tip\" href=\"https://mausam.imd.gov.in/imd_latest/contents/stationwise-nowcast-warning_mc.php?id=13\" style=\"font-size:12px;\" title=\"Station Wise\">Station Wise</a>,\n",
       " <a class=\"tip\" href=\"https://mausam.imd.gov.in/imd_latest/contents/Todaysweather_mc.php?id=13\" style=\"font-size:12px;\" title=\"Temperature\">Daily</a>,\n",
       " <a class=\"tip\" href=\"http://aws.imd.gov.in:8091/state.php?id=KARNATAKA\" style=\"font-size:12px;\" target=\"_blank\" title=\"Temperature\">AWS</a>,\n",
       " <a class=\"nonclick\" href=\"#\">Forecast</a>,\n",
       " <a href=\"http://internal.imd.gov.in/pages/city_weather_main_mausam.php\" target=\"_blank\">City Forecast</a>,\n",
       " <a href=\"https://mausam.imd.gov.in/bengaluru/mcdata/bngdistrict.pdf\" target=\"_blank\">Bengaluru Districts</a>,\n",
       " <a href=\"https://mausam.imd.gov.in/bengaluru/mcdata/districtk.pdf\" target=\"_blank\">District Forecast (Kannada)</a>,\n",
       " <a href=\"https://mausam.imd.gov.in/bengaluru/mcdata/district.pdf\" target=\"_blank\">District Forecast (English)</a>,\n",
       " <a href=\"https://mausam.imd.gov.in/imd_latest/contents/all_india_forcast_bulletin.php\" target=\"_blank\">National Forecast</a>,\n",
       " <a href=\"https://mausam.imd.gov.in/bengaluru/mcdata/extended.pdf\" target=\"_blank\">Extended Range Forecast</a>,\n",
       " <a href=\"https://mausam.imd.gov.in/bengaluru/mcdata/impact.pdf\" target=\"_blank\">Impact Based Forecast</a>,\n",
       " <a href=\"https://mausam.imd.gov.in/bengaluru/mcdata/highway.pdf\" target=\"_blank\">Highway Forecast</a>,\n",
       " <a href=\"https://mausam.imd.gov.in/imd_latest/contents/tourist_weather.php\" target=\"_blank\">Tourism Forecast</a>,\n",
       " <a href=\"https://mausam.imd.gov.in/bengaluru/mcdata/twincity.pdf\" target=\"_blank\">Twin City</a>,\n",
       " <a href=\"https://mausam.imd.gov.in/bengaluru/mcdata/mangaluru.pdf\" target=\"_blank\">Mangaluru</a>,\n",
       " <a href=\"imd_latest/contents/current_weather.php\">City forecast</a>,\n",
       " <a href=\"index_radar.php?id=Chennai\">\n",
       " <img src=\"../Radar/animation/Converted/CHN_MAXZ.gif\" style=\"height: 90%; width: 100%; object-fit: contain;\"/>\n",
       " </a>,\n",
       " <a href=\"https://mausam.imd.gov.in/bengaluru/mcdata/daily_report.pdf\" target=\"_blank\">Daily</a>,\n",
       " <a href=\"https://mausam.imd.gov.in/bengaluru/mcdata/weekly.pdf\" target=\"_blank\">Weekly</a>,\n",
       " <a href=\"https://mausam.imd.gov.in/bengaluru/mcdata/agromete.pdf\" target=\"_blank\">Eng Agro Advisory</a>,\n",
       " <a href=\"https://mausam.imd.gov.in/bengaluru/mcdata/agrometv.pdf\" target=\"_blank\">Value Added Forecast</a>,\n",
       " <a href=\"https://mausam.imd.gov.in/bengaluru/mcdata/agrometb.pdf\" target=\"_blank\">Block Level Forecast</a>,\n",
       " <a href=\"https://mausam.imd.gov.in/bengaluru/mcdata/nkafc.pdf\" target=\"_blank\">NKAFC Bulletin</a>,\n",
       " <a href=\"https://mausam.imd.gov.in/bengaluru/mcdata/climate.pdf\" target=\"_blank\">Bengaluru</a>,\n",
       " <a href=\"https://city.imd.gov.in/citywx/extreme/JUN/bengaluru2.htm\" target=\"_blank\">Extremes </a>,\n",
       " <a href=\" https://mausam.imd.gov.in/imd_latest/contents/index_radar.php\" target=\"_blank\">Radar</a>,\n",
       " <a href=\"https://mausam.imd.gov.in/imd_latest/contents/satellite.php\" target=\"_blank\">Satellite Products</a>,\n",
       " <a href=\"https://mausam.imd.gov.in/bengaluru/mcdata/qpf_bulletin.pdf\" target=\"_blank\">QPF Bulletin</a>,\n",
       " <a href=\"https://mausam.imd.gov.in/bengaluru/mcdata/hm_bulletin.pdf\" target=\"_blank\">HM Bulletin</a>,\n",
       " <a href=\"https://mausam.imd.gov.in/bengaluru/mcdata/agrometk.pdf\" target=\"_blank\">Kannada Agro Bulletin</a>,\n",
       " <a href=\"https://mausam.imd.gov.in/bengaluru/mcdata/daily_stats.pdf\" target=\"_blank\">Daily</a>,\n",
       " <a href=\"https://mausam.imd.gov.in/bengaluru/mcdata/cum_stats.pdf\" target=\"_blank\">Cumulative</a>,\n",
       " <a href=\"https://city.imd.gov.in/citywx/city_weather.php?id=43295\" target=\"_blank\">Forecast</a>,\n",
       " <a href=\"https://city.imd.gov.in/citywx/city_weather.php?id=43284\" target=\"_blank\">Forecast</a>,\n",
       " <a href=\"https://city.imd.gov.in/citywx/city_weather.php?id=43233\" target=\"_blank\">Forecast</a>,\n",
       " <a href=\"https://city.imd.gov.in/citywx/city_weather.php?id=43201\" target=\"_blank\">Forecast</a>,\n",
       " <a href=\"https://city.imd.gov.in/citywx/city_weather.php?id=43226\" target=\"_blank\">Forecast</a>,\n",
       " <a href=\"https://city.imd.gov.in/citywx/city_weather.php?id=43121\" target=\"_blank\">Forecast</a>,\n",
       " <a href=\"https://city.imd.gov.in/citywx/city_weather.php?id=43198\" target=\"_blank\">Forecast</a>,\n",
       " <a href=\"https://city.imd.gov.in/citywx/city_weather.php?id=43225\" target=\"_blank\">Forecast</a>,\n",
       " <a href=\"https://moes.gov.in/\" target=\"_blank\">Met Centre Bengaluru<br/>India Meteorological Department<br/>Ministry of Earth Sciences</a>,\n",
       " <a href=\"https://twitter.com/metcentre_bng\" target=\"_blank\"><img src=\"../raipur/img/twitter.png\" style=\"width:30px;height:30px;\"/></a>,\n",
       " <a href=\"https://www.facebook.com/profile.php?id=100012331965314\" target=\"_blank\"><img src=\"../raipur/img/facebook.png\" style=\"width:30px;height:30px;\"/></a>]"
      ]
     },
     "execution_count": 14,
     "metadata": {},
     "output_type": "execute_result"
    }
   ],
   "source": [
    "soup = BeautifulSoup(html, 'lxml')\n",
    "soup.find_all('a')"
   ]
  },
  {
   "cell_type": "code",
   "execution_count": 15,
   "metadata": {},
   "outputs": [
    {
     "name": "stdout",
     "output_type": "stream",
     "text": [
      "{'others': ['#', '#content', '#', 'https://mausam.imd.gov.in/imd_latest/contents/img/logo-india-big.png', '', '../img/bom/facebook.gif', '', '../img/bom/twitter.gif', 'https://mausam.imd.gov.in/bengaluru', 'https://mausam.imd.gov.in/bengaluru/img/home.gif', 'https://mausam.imd.gov.in/bengaluru/organization.php', 'https://mausam.imd.gov.in/bengaluru/aboutus.php', 'https://mausam.imd.gov.in/bengaluru/contactus.php', '#.', 'https://mausam.imd.gov.in/bengaluru/rti.php', 'https://mausam.imd.gov.in/Forecast/feedback.php', 'https://mausam.imd.gov.in/imd_latest/contents/faq.php', 'https://mausam.imd.gov.in/bengaluru/disclaimer.php', '#', 'https://mausam.imd.gov.in/imd_latest/img/imd_logo_enamble.png', 'https://mausam.imd.gov.in/imd_latest/contents/subdivisionwise-warning_mc.php?id=13', 'https://mausam.imd.gov.in/imd_latest/contents/districtwise-warning_mc.php?id=13', 'https://mausam.imd.gov.in/imd_latest/contents/districtwisewarnings_mc.php?id=13', 'https://mausam.imd.gov.in/imd_latest/contents/stationwise-nowcast-warning_mc.php?id=13', 'https://mausam.imd.gov.in/imd_latest/contents/Todaysweather_mc.php?id=13', 'http://aws.imd.gov.in:8091/state.php?id=KARNATAKA', '#', 'http://internal.imd.gov.in/pages/city_weather_main_mausam.php', 'https://mausam.imd.gov.in/imd_latest/contents/all_india_forcast_bulletin.php', 'https://mausam.imd.gov.in/imd_latest/contents/tourist_weather.php', 'imd_latest/contents/current_weather.php', '../img/blue_square.png', '../img/NW7.png', 'index_radar.php?id=Chennai', '../Radar/animation/Converted/CHN_MAXZ.gif', 'https://city.imd.gov.in/citywx/extreme/JUN/bengaluru2.htm', ' https://mausam.imd.gov.in/imd_latest/contents/index_radar.php', 'https://mausam.imd.gov.in/imd_latest/contents/satellite.php', '../img/NW7.png', 'https://city.imd.gov.in/citywx/city_weather.php?id=43295', '../img/10.png', 'https://city.imd.gov.in/citywx/city_weather.php?id=43284', '../img/NW8.png', 'https://city.imd.gov.in/citywx/city_weather.php?id=43233', '../img/NW7.png', 'https://city.imd.gov.in/citywx/city_weather.php?id=43201', '../img/NW8.png', 'https://city.imd.gov.in/citywx/city_weather.php?id=43226', '../img/NW2.png', 'https://city.imd.gov.in/citywx/city_weather.php?id=43121', '../img/21.png', 'https://city.imd.gov.in/citywx/city_weather.php?id=43198', '../img/NW8.png', 'https://city.imd.gov.in/citywx/city_weather.php?id=43225', 'https://moes.gov.in/', 'https://twitter.com/metcentre_bng', '../raipur/img/twitter.png', 'https://www.facebook.com/profile.php?id=100012331965314', '../raipur/img/facebook.png'], 'jpg': ['mcdata/2023_roundup.jpg'], 'pdf': ['/bengaluru/docs/data-request.pdf', '/bengaluru/docs/data-procedure.pdf', '/bengaluru/docs/gst-procedure.pdf', '/bengaluru/docs/address.pdf', '/bengaluru/mcdata/tender.pdf', '/bengaluru/mcdata/press.pdf', 'https://mausam.imd.gov.in/bengaluru/mcdata/bngdistrict.pdf', 'https://mausam.imd.gov.in/bengaluru/mcdata/districtk.pdf', 'https://mausam.imd.gov.in/bengaluru/mcdata/district.pdf', 'https://mausam.imd.gov.in/bengaluru/mcdata/extended.pdf', 'https://mausam.imd.gov.in/bengaluru/mcdata/impact.pdf', 'https://mausam.imd.gov.in/bengaluru/mcdata/highway.pdf', 'https://mausam.imd.gov.in/bengaluru/mcdata/twincity.pdf', 'https://mausam.imd.gov.in/bengaluru/mcdata/mangaluru.pdf', 'https://mausam.imd.gov.in/bengaluru/mcdata/daily_report.pdf', 'https://mausam.imd.gov.in/bengaluru/mcdata/weekly.pdf', 'https://mausam.imd.gov.in/bengaluru/mcdata/agromete.pdf', 'https://mausam.imd.gov.in/bengaluru/mcdata/agrometv.pdf', 'https://mausam.imd.gov.in/bengaluru/mcdata/agrometb.pdf', 'https://mausam.imd.gov.in/bengaluru/mcdata/nkafc.pdf', 'https://mausam.imd.gov.in/bengaluru/mcdata/climate.pdf', 'https://mausam.imd.gov.in/bengaluru/mcdata/qpf_bulletin.pdf', 'https://mausam.imd.gov.in/bengaluru/mcdata/hm_bulletin.pdf', 'https://mausam.imd.gov.in/bengaluru/mcdata/agrometk.pdf', 'https://mausam.imd.gov.in/bengaluru/mcdata/daily_stats.pdf', 'https://mausam.imd.gov.in/bengaluru/mcdata/cum_stats.pdf']}\n"
     ]
    }
   ],
   "source": [
    "from bs4 import BeautifulSoup\n",
    "from collections import defaultdict\n",
    "import re\n",
    "\n",
    "def extract_links_with_bs(soup):\n",
    "    # Parse the input string with BeautifulSoup\n",
    "    \n",
    "    # Dictionary to store categorized links\n",
    "    links_dict = defaultdict(list)\n",
    "    \n",
    "    # Extract all <a> and <img> tags\n",
    "    tags = soup.find_all(['a', 'img'])\n",
    "    \n",
    "    for tag in tags:\n",
    "        # Check if the tag is an <a> tag with an href attribute\n",
    "        if tag.name == 'a' and 'href' in tag.attrs:\n",
    "            link = tag['href']\n",
    "        # Check if the tag is an <img> tag with a src attribute\n",
    "        elif tag.name == 'img' and 'src' in tag.attrs:\n",
    "            link = tag['src']\n",
    "        else:\n",
    "            continue\n",
    "        \n",
    "        # Determine the file type using regular expressions\n",
    "        if re.search(r'\\.pdf$', link, re.IGNORECASE):\n",
    "            links_dict['pdf'].append(link)\n",
    "        elif re.search(r'\\.jpg$', link, re.IGNORECASE):\n",
    "            links_dict['jpg'].append(link)\n",
    "        else:\n",
    "            links_dict['others'].append(link)\n",
    "    \n",
    "    return dict(links_dict)\n",
    "\n",
    "\n",
    "# Get the categorized links\n",
    "links_dict = extract_links_with_bs(soup)\n",
    "\n",
    "# Print the result\n",
    "print(links_dict)\n"
   ]
  },
  {
   "cell_type": "code",
   "execution_count": 18,
   "metadata": {},
   "outputs": [
    {
     "data": {
      "text/plain": [
       "['/bengaluru/docs/data-request.pdf',\n",
       " '/bengaluru/docs/data-procedure.pdf',\n",
       " '/bengaluru/docs/gst-procedure.pdf',\n",
       " '/bengaluru/docs/address.pdf',\n",
       " '/bengaluru/mcdata/tender.pdf',\n",
       " '/bengaluru/mcdata/press.pdf',\n",
       " 'https://mausam.imd.gov.in/bengaluru/mcdata/bngdistrict.pdf',\n",
       " 'https://mausam.imd.gov.in/bengaluru/mcdata/districtk.pdf',\n",
       " 'https://mausam.imd.gov.in/bengaluru/mcdata/district.pdf',\n",
       " 'https://mausam.imd.gov.in/bengaluru/mcdata/extended.pdf',\n",
       " 'https://mausam.imd.gov.in/bengaluru/mcdata/impact.pdf',\n",
       " 'https://mausam.imd.gov.in/bengaluru/mcdata/highway.pdf',\n",
       " 'https://mausam.imd.gov.in/bengaluru/mcdata/twincity.pdf',\n",
       " 'https://mausam.imd.gov.in/bengaluru/mcdata/mangaluru.pdf',\n",
       " 'https://mausam.imd.gov.in/bengaluru/mcdata/daily_report.pdf',\n",
       " 'https://mausam.imd.gov.in/bengaluru/mcdata/weekly.pdf',\n",
       " 'https://mausam.imd.gov.in/bengaluru/mcdata/agromete.pdf',\n",
       " 'https://mausam.imd.gov.in/bengaluru/mcdata/agrometv.pdf',\n",
       " 'https://mausam.imd.gov.in/bengaluru/mcdata/agrometb.pdf',\n",
       " 'https://mausam.imd.gov.in/bengaluru/mcdata/nkafc.pdf',\n",
       " 'https://mausam.imd.gov.in/bengaluru/mcdata/climate.pdf',\n",
       " 'https://mausam.imd.gov.in/bengaluru/mcdata/qpf_bulletin.pdf',\n",
       " 'https://mausam.imd.gov.in/bengaluru/mcdata/hm_bulletin.pdf',\n",
       " 'https://mausam.imd.gov.in/bengaluru/mcdata/agrometk.pdf',\n",
       " 'https://mausam.imd.gov.in/bengaluru/mcdata/daily_stats.pdf',\n",
       " 'https://mausam.imd.gov.in/bengaluru/mcdata/cum_stats.pdf']"
      ]
     },
     "execution_count": 18,
     "metadata": {},
     "output_type": "execute_result"
    }
   ],
   "source": [
    "links_dict['pdf']"
   ]
  },
  {
   "cell_type": "code",
   "execution_count": 19,
   "metadata": {},
   "outputs": [],
   "source": [
    "link_php =  \"https://mausam.imd.gov.in/imd_latest/contents/Todaysweather_mc.php?id=13\""
   ]
  },
  {
   "cell_type": "code",
   "execution_count": 20,
   "metadata": {},
   "outputs": [
    {
     "data": {
      "text/plain": [
       "'<!doctype html>\\r\\n\\n<script async src=\"https://www.googletagmanager.com/gtag/js?id=UA-157746104-1\"></script>\\n<script>\\n  window.dataLayer = window.dataLayer || [];\\n  function gtag(){dataLayer.push(arguments);}\\n  gtag(\\'js\\', new Date());\\n  gtag(\\'config\\', \\'UA-157746104-1\\');\\n</script>\\n\\n<html lang=\"en\">   \\r\\n   <head>     \\r\\n      <title>IMD bengaluru | Todays Weather Report</title>\\r\\n      <script async src=\"https://www.googletagmanager.com/gtag/js?id=UA-143177612-1\"></script>\\n<script>\\n  window.dataLayer = window.dataLayer || [];\\n  function gtag(){dataLayer.push(arguments);}\\n  gtag(\\'js\\', new Date());\\n\\n  gtag(\\'config\\', \\'UA-143177612-1\\');\\n</script>\\n\\n \\n      <meta charset=\"utf-8\">\\n      <meta name=\"robots\" content=\"noodp\">\\n      <meta name=\"viewport\" id=\"viewport\" content=\"width=device-width\">\\n      <meta http-equiv=\"X-UA-Compatible\" content=\"IE=edge\">\\n      \\n      <meta http-equiv=\"content-type\" content=\"text/html;charset=UTF-8\" /> \\n      <meta name=\"keywords\" content=\"IMD\">\\n      \\n          \\n      <link rel=\"stylesheet\" href=\"https://mausam.imd.gov.in/bengaluru/css/home.css\" type=\"text/css\">\\n      \\n      <link rel=\"shortcut icon\" href=\"https://mausam.imd.gov.in/ico/favicon.png\">\\n    \\n      \\n\\n      <link rel=\"stylesheet\" href=\"https://mausam.imd.gov.in/bengaluru/css/all.css\" />\\n\\n      <style type=\"text/css\" media=\"screen\">\\n\\n         .sun-rise{\\n            background-image: url(\\'img/sunrise.jpg\\');\\n           }\\n           \\n           .sun-set{\\n               background-image: url(\\'img/sunset.jpg\\');\\n           }\\n           \\n\\n           .moon-rise{\\n               background-image: url(\\'img/moonrise.jpg\\');\\n           }\\n           \\n\\n\\n           .moon-set{\\n               background-image: url(\\'img/moonset.jpg\\');\\n           }\\n           \\n\\n           .moon-set p span, .moon-rise p span, .sun-set p span, .sun-rise p span{\\n             background-color: #0000008a;\\n             padding:5px;\\n           }\\n\\n           .moon-set p, .moon-rise p, .sun-set p, .sun-rise p{\\n                   color: #fff;\\n                   padding-left: 10px;\\n                   font-weight: 400;\\n                   line-height: 36.5px;\\n                   bottom: 0px !important;\\n                   font-family: sans-serif;\\n                   font-size: 14px;\\n                   margin:0;\\n\\n           }\\n\\n           .right-box-equal{\\n               height: 38px;\\n               margin-bottom: 5px;\\n           }\\n         \\n      </style>\\n      <link href=\"https://fonts.googleapis.com/css?family=Signika\" rel=\"stylesheet\">\\n\\r\\n\\t<style type=\"text/css\">\\r\\n\\r\\n.btn_csv{\\r\\n\\tmargin-right:5%;\\r\\n\\tfloat: right;\\r\\n}\\r\\n</style>\\r\\n\\r\\n   </head>\\r\\n   <body>\\r\\n\\t<script>\\r\\n\\tfunction myFunction(name) \\r\\n\\t{\\r\\n\\t\\tvar myWindow = window.open(\"\"); \\r\\n\\t\\tmyWindow.document.write(\"<iframe id=iFrame src=\\'\"+name+\"\\' width=\\'1200\\' height=\\'900\\' ></iframe>\");\\r\\n\\t\\tmyWindow.document.title = \\'PDF\\';\\r\\n\\t}\\r\\n\\t</script>\\r\\n\\r\\n\\t<script>\\r\\n        function printDiv() {\\r\\n            var divContents = document.getElementById(\"images1\").innerHTML;\\r\\n            var a = window.open(\\'\\', \\'\\', \\'height=500, width=500\\');\\r\\n            a.document.write(\\'<html>\\');\\r\\n\\t\\t\\ta.document.write(\\'<head><style> .bold{font-weight:bold;} .center{text-align:center;} table, td, th{border: 1px solid black;border-collapse: collapse;margin-left: auto;margin-right: auto; text-align:center;} #leftbox {float:left; width:25%;height:125px;} #middlebox{float:left; width:70%;height:125px;} #rightbox{float:left; width:5%;height:125px;}</style></head>\\');\\r\\n\\t\\t\\t\\r\\n            a.document.write(\\'<body > <div style=\"border: none; margin-left:40px; margin-right:40px;\"><div><div id = \"leftbox\"><img src=\"/img/imd_logo_enamble.png\" alt=\"IMD\" width=\"80\" height=\"100\"> </div><div id = \"middlebox\" class=\"center\"><h3>Meteorological Center Bengaluru <br>India Meteorological Department<br>Ministry of Earth Sciences</h3> </div><br>\\');\\r\\n\\t\\t\\t\\r\\n            a.document.write(divContents);\\r\\n            a.document.write(\\'</body></html>\\');\\r\\n            a.document.close();\\r\\n            a.print();\\r\\n        }\\r\\n    </script>\\r\\n\\t\\r\\n     <!--This cover the whole page -->\\r\\n      <div id=\"pageheight\">\\r\\n      <!--This cover the website page -->\\r\\n         <div id=\"pagewrap\">\\r\\n           \\r\\n                \\n<script async src=\"https://www.googletagmanager.com/gtag/js?id=UA-157746104-1\"></script>\\n<script>\\n  window.dataLayer = window.dataLayer || [];\\n  function gtag(){dataLayer.push(arguments);}\\n  gtag(\\'js\\', new Date());\\n  gtag(\\'config\\', \\'UA-157746104-1\\');\\n</script>\\n<script>\\n function changeLang(){\\n  document.getElementById(\\'form_lang\\').submit();\\n }\\n </script>\\n<header id=\"header\">\\n   <div class=\"l_content\">\\n      <div id=\"header-logo\"><a id=\"logo\" href=\"#\"><img src=\"https://mausam.imd.gov.in/imd_latest/contents/img/logo-india-big.png\" alt=\"India Meteorological Department\" width=\"80\" height=\"110\" style=\"z-index: 1;\"></a>\\n      \\n     <div style=\"width:500px\">\\n<h1 style=\"color:#FFF; text-align:center; font-size:11px; padding-top:0px; padding-left:0px; font-weight:200\">Ministry of Earth Sciences</h1>\\n<h1 style=\"color:#FFF; text-align:center; font-size:13px; padding-top:0px; padding-left:0px; font-weight:200\">India Meteorological Department</h1>\\n<h1 style=\"color:#FFF; text-align:center; font-size:15px; padding-top:0px; padding-left:0px; font-weight:200\"> Met Centre Bengaluru</h1>\\n\\n\\n\\n\\n</div>\\n      \\n      \\n      </div>\\n      <div id=\"header-main\">\\n         <div class=\"l_top\">\\n          \\n            <div id=\"header-search\">\\n\\n         <form action=\"/search_RV/index.php\" method=\"post\">\\n         <input type=\"text\" name=\"sr\" maxlength=\"45\" />\\n          <input type=\"submit\" value=\"Search\" />\\n\\t\\t  \\n            </form>\\n<!-- Language -->\\n <form method=\\'get\\' action=\\'\\' id=\\'form_lang\\' >\\n  <select name=\\'lang\\' onchange=\\'changeLang();\\' >\\n   <option value=\\'en\\'  selected >English</option>\\n   <option value=\\'hi\\'  >Hindi</option>\\n  </select>\\n </form>\\n            </div>\\n\\t\\t\\t           \\n <div id=\"social_media\" >\\n\\n           <div id=\"facebook_link\"><a id=\"icon-link-facebook\" href=\"\" target=_blank><img src=\"../img/bom/facebook.gif\" title=\"Facebook\"></a>\\n</div>\\n             \\n            <div id=\"twitter_link\"><a id=\"icon-link-twitter\"  href=\"\" target=_blank><img src=\"../img/bom/twitter.gif\" title=\"Twitter\"></a></div>\\n\\t\\t\\t            \\n\\t\\t\\t\\n        </div>\\n         \\n         \\n         <div class=\"l_bottom\" >\\n            <ul class=\"sf-menu\">             \\n              \\n<li class=\"no-menu\"><a href=\"https://mausam.imd.gov.in/bengaluru\" title=\"Home\"><img src=\"https://mausam.imd.gov.in/bengaluru/img/home.gif\" height=\"18\"/></a></li>                      \\n                       \\n<li  class=\"no-menu\"><a href=\"https://mausam.imd.gov.in/bengaluru/organization.php\">Organisation</a></li>\\n\\t\\t\\t   \\n\\t\\t\\t<div class=\"sf-menu-pointer\"></div>\\n\\n<li  class=\"no-menu\"><a href=\"https://mausam.imd.gov.in/bengaluru/aboutus.php\" >About Us</a></li>\\n\\t\\t\\t   \\n\\t\\t\\t<div class=\"sf-menu-pointer\"></div>\\n\\n<li  class=\"no-menu\"><a href=\"https://mausam.imd.gov.in/bengaluru/contactus.php\">Contact Us</a></li>\\n\\t\\t\\t   \\n\\t\\t\\t<div class=\"sf-menu-pointer\"></div>\\n\\n<li class=\"dropdown \"> <a style=\"cursor:pointer;\" class=\"dropdown-toggle\" data-toggle=\"dropdown\">Data Supply</a>\\n                  <ul class=\"dropdown-menu\">\\n                   \\n                        <li><a href=\"/bengaluru/docs/data-request.pdf\" target=\"_blank\">Data Supply Form</a></li>\\n                        <li><a href=\"/bengaluru/docs/data-procedure.pdf\" target=\"_blank\">Data Supply Procedure</a></li>\\n\\t\\t\\t\\t\\t\\t<li><a href=\"/bengaluru/docs/gst-procedure.pdf\" target=\"_blank\">GST Procedure</a></li>\\n\\t\\t\\t\\t\\t\\t<li><a href=\"/bengaluru/docs/address.pdf\" target=\"_blank\">Communication Address</a></li>\\n\\t\\t  </ul>\\n</li>\\n\\n<!--\\n<li class=\"dropdown \"> <a style=\"cursor:pointer;\" class=\"dropdown-toggle\" data-toggle=\"dropdown\">Public Safety</a>\\n                  <ul class=\"dropdown-menu\">\\n                   \\n                        <li><a href=\"/bengaluru/docs/drought-en.pdf\" target=\"_blank\">Drought</a></li>\\n                        <li><a href=\"/bengaluru/docs/flood-en.pdf\" target=\"_blank\">Flood</a></li>\\n\\t\\t\\t\\t\\t\\t<li><a href=\"/bengaluru/docs/heatwave-en.pdf\" target=\"_blank\">Heatwave</a></li>\\n\\t\\t\\t\\t\\t\\t<li><a href=\"/bengaluru/docs/thunderstorm-en.pdf\" target=\"_blank\">Thunderstorm</a></li>\\n\\t\\t  </ul>\\n</li>\\n-->\\n\\n\\t\\t\\t   \\n\\t\\t\\t<div class=\"sf-menu-pointer\"></div>\\n\\n<li  class=\"no-menu\"><a href=\"/bengaluru/mcdata/tender.pdf\" target=\"_blank\">Tender</a></li>\\n\\t\\t\\t   \\n\\t\\t\\t<div class=\"sf-menu-pointer\"></div>\\n<li  class=\"no-menu\"><a href=\"/bengaluru/mcdata/press.pdf\" target=\"_blank\">Press Release</a></li>\\n\\t\\t\\t   \\n\\t\\t\\t<div class=\"sf-menu-pointer\"></div>\\n\\n\\n\\t\\t\\t\\n<li id=\"sf-menu-vic\">\\n                <abbr ><a href=\"#.\">Others</a></abbr>\\n                  <ul>\\n                     <li class=\"accessible\">\\n                        <h2 class=\"accessible\">Others</h2>\\n                     </li>\\n\\n                    <!--<li><a href=\"http://117.203.102.123:8088/entermobile.php\" target=\"_blank\" >SMS Alerts</a></li>-->\\n                    <li><a href=\"https://mausam.imd.gov.in/bengaluru/rti.php\"target=\"_blank\" >RTI</a></li>\\n                    <li><a href=\"https://mausam.imd.gov.in/Forecast/feedback.php\" target=\"_blank\">Feedback</a></li>\\n                    \\n                    <li><a href=\"https://mausam.imd.gov.in/imd_latest/contents/faq.php\" target=\"_blank\">FAQs</a></li>\\n                    <li><a href=\"https://mausam.imd.gov.in/bengaluru/disclaimer.php\" target=\"_blank\">Disclaimer</a></li>\\n\\n\\n                    \\n                  </ul>\\n                 <!-- <div class=\"sf-menu-pointer\"></div>-->\\n               \\n               </li>\\n\\n<!--<li  class=\"no-menu\"><a href=\"http://117.203.102.123:8088/entermobile.php\" target=\"_blank\">SMS Alerts</a></li>\\n\\t\\t\\t   \\n\\t\\t\\t<div class=\"sf-menu-pointer\"></div>\\n\\n<li  class=\"no-menu\"><a href=\"https://mausam.imd.gov.in/bengaluru/rti.php\">RTI</a></li>\\n\\t\\t\\t   \\n\\t\\t\\t<div class=\"sf-menu-pointer\"></div>\\n<li  class=\"no-menu\"><a href=\"https://mausam.imd.gov.in/Forecast/feedback.php\" target=\"_blank\">Feedback</a></li>\\n\\t\\t\\t   \\n\\t\\t\\t<div class=\"sf-menu-pointer\"></div>-->\\n\\n         \\n              \\n\\n\\n\\n            </ul>\\n\\n\\n\\n\\n\\n\\n\\n\\n\\n         </div>\\n      </div>\\n      <div id=\"second_logo\">\\n      <a href=\"#\"><img src=\"https://mausam.imd.gov.in/imd_latest/img/imd_logo_enamble.png\" alt=\"India Meteorological Department\"></a>\\n      </div>\\n   </div>\\n</header>            <div id=\"columns\">\\r\\n             <div id=\"columns\">\\n          \\n<!-- This section shows the warning links and specialized forecasts dropdown-->\\n           \\n<section id=\"content\">\\n\\n\\n<div id=\"current\">\\n<!-- Warnings-->\\n      <div id=\"warning_content\">\\n         <h2>Warnings</h2>\\n         <ul >\\n            <li><a href=\"https://mausam.imd.gov.in/imd_latest/contents/subdivisionwise-warning_mc.php?id=13\" title=\"Subdivision Wise\" class=\"tip\" style=\"font-size:12px;\">Subdivision Wise</a>\\n&nbsp;&nbsp;&nbsp;<a href=\"https://mausam.imd.gov.in/imd_latest/contents/districtwise-warning_mc.php?id=13\" title=\"District Wise\" class=\"tip\"  style=\"font-size:12px;\">District Wise</a></li>\\n           \\n         </ul>\\n      </div>\\n\\t  \\n<!-- Nowcast-->  \\n      <div id=\"nowcast_content\"  >\\n         <h2>Nowcast</h2>\\n         <ul>\\n             <li><a href=\"https://mausam.imd.gov.in/imd_latest/contents/districtwisewarnings_mc.php?id=13\" title=\"District Wise\" class=\"tip\"  style=\"font-size:12px;\">District Wise</a>\\n&nbsp;&nbsp;&nbsp;<a href=\"https://mausam.imd.gov.in/imd_latest/contents/stationwise-nowcast-warning_mc.php?id=13\" title=\"Station Wise\" class=\"tip\"  style=\"font-size:12px;\">Station Wise</a></li>\\n         </ul>\\n      </div>\\n\\t  \\n\\n<!-- Weather Observations-->  \\t  \\n      <div id=\"nowcast_content2\" >\\n         <h2>Weather Observations</h2>\\n         <ul>\\n             <li><a href=\"https://mausam.imd.gov.in/imd_latest/contents/Todaysweather_mc.php?id=13\" title=\"Temperature\" class=\"tip\"  style=\"font-size:12px;\">Daily</a>\\n&nbsp;&nbsp;&nbsp;\\n&nbsp;&nbsp;&nbsp;<a href=\"http://aws.imd.gov.in:8091/state.php?id=KARNATAKA\"target=\"_blank\" title=\"Temperature\" class=\"tip\"  style=\"font-size:12px;\">AWS</a></li>\\n\\n         </ul>\\n      </div>\\n   </div>\\n   \\n  \\n\\n   <div class=\"other\" >\\n      <ul class=\"sf-menu\">\\n         <li class=\"\">\\n           <a href=\"#\" class=\"nonclick\">Forecast</a>\\n             <ul>\\n\\t\\t\\t\\t   <li class=\"\"><a href=\"http://internal.imd.gov.in/pages/city_weather_main_mausam.php\"target=\"_blank\">City Forecast</a></li>\\t   \\n\\t\\t\\t\\t   <li class=\"\"><a href=\"https://mausam.imd.gov.in/bengaluru/mcdata/bngdistrict.pdf\" target=\"_blank\">Bengaluru Districts</a></li> \\n\\t\\t\\t\\t\\t<li class=\"\"><a href=\"https://mausam.imd.gov.in/bengaluru/mcdata/districtk.pdf\" target=\"_blank\">District Forecast (Kannada)</a></li>\\t\\n\\t\\t\\t\\t\\t<li class=\"\"><a href=\"https://mausam.imd.gov.in/bengaluru/mcdata/district.pdf\" target=\"_blank\">District Forecast (English)</a></li>\\t\\t\\t\\t\\t\\n\\t\\t\\t\\t   \\n\\t\\t\\t\\t                          \\n\\t\\t\\t\\t   <li class=\"\"><a href=\"https://mausam.imd.gov.in/imd_latest/contents/all_india_forcast_bulletin.php\" target=\"_blank\">National Forecast</a></li>                         \\n\\t\\t\\t\\t   <li class=\"\"><a href=\"https://mausam.imd.gov.in/bengaluru/mcdata/extended.pdf\" target=_blank>Extended Range Forecast</a></li>\\n\\t\\t\\t\\t   <li class=\"\"><a href=\"https://mausam.imd.gov.in/bengaluru/mcdata/impact.pdf\" target=_blank>Impact Based Forecast</a></li> \\n\\t\\t\\t\\t\\t<li class=\"\"><a href=\"https://mausam.imd.gov.in/bengaluru/mcdata/highway.pdf\" target=\"_blank\">Highway Forecast</a></li> \\n\\t\\t\\t\\t\\t<li class=\"\"><a href=\"https://mausam.imd.gov.in/imd_latest/contents/tourist_weather.php\" target=\"_blank\">Tourism Forecast</a></li> \\n\\t\\t\\t\\t\\t<li class=\"\"><a href=\"https://mausam.imd.gov.in/bengaluru/mcdata/twincity.pdf\" target=\"_blank\">Twin City</a></li> \\n\\t\\t\\t\\t\\t<li class=\"\"><a href=\"https://mausam.imd.gov.in/bengaluru/mcdata/mangaluru.pdf\" target=\"_blank\">Mangaluru</a></li> \\n             </ul>\\n            \\n         </li>\\n      </ul>  \\n   </div> \\n   \\n  \\n  \\n  \\n  \\n  \\n  \\n \\n</section>\\n\\n           \\r\\n           \\r\\n              <section id=\"middle\">\\r\\n\\t\\t\\t  \\t\\t\\t\\t  \\t\\t\\t\\t \\r\\n\\r\\n                <div class=\"middle_content\" id=\"images\">\\r\\n\\t\\t\\t\\t<!-- Buttons--><button class=\"btn_csv\" onclick=\"printDiv()\">Print</button>\\r\\n\\t\\t<div style=\"text-align: center\" id=\"images1\">\\r\\n\\t\\t\\r\\n\\t\\t<h3 style=\"color:red; text-align: center; font-size: 18px;\">Today\\'s Weather Report </h3>\\r\\n\\t\\t\\t \\r\\n                  \\r\\n\\t\\t\\t\\t  \\r\\n                  <hr />\\r\\n\\r\\n                 <table><tr bgcolor=\"#e0e0e0\" align=\"left\"><td colspan=8>Date: 2024-06-30</td></tr><tr><td width=15% align=\"left\">Station</td><td width=10%>Max Temp (<sup>o</sup>C)</td><td width=10%>Dep. from Normal</td><td width=10%>Min Temp (<sup>o</sup>C)</td><td width=10%>Dep. from Normal</td><td width=10%>RH at 0830IST</td><td width=10%>RH at 1730IST</td>\\r\\n\\t<td width=10%>Rainfall (mm) </td>\\r\\n    <tr bgcolor=\"#e0e0e0\"><td align=\"left\">Agumbe</td><td>25.2 (29/06)</td><td>--</td><td>22.6</td><td>1.0</td><td>100</td><td>100 (29/06)</td><td>94</td></tr><tr bgcolor=\"#FFFFFF\"><td align=\"left\">BAGALKOT</td><td>35.2 (29/06)</td><td>4.7</td><td>23.6</td><td>1.9</td><td>66</td><td>78 (29/06)</td><td>NIL</td></tr><tr bgcolor=\"#e0e0e0\"><td align=\"left\">Belagavi</td><td>28.0 (29/06)</td><td>0.4</td><td>22.2</td><td>1.7</td><td>92</td><td>77 (29/06)</td><td>0.4</td></tr><tr bgcolor=\"#FFFFFF\"><td align=\"left\">Bengaluru HAL Airport</td><td>29.7 (29/06)</td><td>0.0</td><td>21.0</td><td>1.2</td><td>88</td><td>70 (29/06)</td><td>NIL</td></tr><tr bgcolor=\"#e0e0e0\"><td align=\"left\">Bengaluru International Airport</td><td>30.5</td><td>0.4</td><td>21.3</td><td>0.7</td><td>89</td><td>58</td><td>NIL</td></tr><tr bgcolor=\"#FFFFFF\"><td align=\"left\">Bengaluru-City</td><td>29.7</td><td>0.3</td><td>21.8</td><td>0.7</td><td>90</td><td>63</td><td>TRACE</td></tr><tr bgcolor=\"#e0e0e0\"><td align=\"left\">Bengaluru-GKVK</td><td>29.8 (29/06)</td><td>0.4</td><td>19.0</td><td>1.1</td><td>88</td><td>56 (29/06)</td><td>NIL</td></tr><tr bgcolor=\"#FFFFFF\"><td align=\"left\">Bidar</td><td>32.5</td><td>0.1</td><td>23.0</td><td>0.6</td><td>92</td><td>97</td><td>15.6</td></tr><tr bgcolor=\"#e0e0e0\"><td align=\"left\">CHANDURAYANGHALLI</td><td>30.0</td><td>--</td><td>20.4</td><td>--</td><td>100</td><td>85</td><td>NIL</td></tr><tr bgcolor=\"#FFFFFF\"><td align=\"left\">Chitradurga</td><td>30.6</td><td>1.0</td><td>22.1</td><td>0.6</td><td>89</td><td>71</td><td>NIL</td></tr><tr bgcolor=\"#e0e0e0\"><td align=\"left\">Dharwad</td><td>29.4</td><td>1.3</td><td>21.2</td><td>0.1</td><td>89</td><td>90</td><td>1</td></tr><tr bgcolor=\"#FFFFFF\"><td align=\"left\">Gadag</td><td>30.8</td><td>0.9</td><td>22.2</td><td>0.1</td><td>89</td><td>84</td><td>0.2</td></tr><tr bgcolor=\"#e0e0e0\"><td align=\"left\">GANGAVATHI</td><td>34.1</td><td>--</td><td>25.2</td><td>--</td><td>76</td><td>47</td><td>NIL</td></tr><tr bgcolor=\"#FFFFFF\"><td align=\"left\">Gokarna</td><td>31.4</td><td>0.8</td><td>25.3</td><td>0.3</td><td>90</td><td>94</td><td>15.7</td></tr><tr bgcolor=\"#e0e0e0\"><td align=\"left\">GONIKOPPAL</td><td>26.5</td><td>--</td><td>20.5</td><td>--</td><td>100</td><td>100</td><td>9.5</td></tr><tr bgcolor=\"#FFFFFF\"><td align=\"left\">HANUMAN MATTI</td><td>32.2</td><td>--</td><td>23.1</td><td>--</td><td>87</td><td>75</td><td>NIL</td></tr><tr bgcolor=\"#e0e0e0\"><td align=\"left\">HARDANHALLY</td><td>31.5</td><td>--</td><td>20.7</td><td>--</td><td>90</td><td>66</td><td>NIL</td></tr><tr bgcolor=\"#FFFFFF\"><td align=\"left\">Honnavar</td><td>31.0</td><td>1.6</td><td>23.6</td><td>-0.6</td><td>98</td><td>95</td><td>41</td></tr><tr bgcolor=\"#e0e0e0\"><td align=\"left\">Kalaburgi</td><td>34.5</td><td>0.5</td><td>24.6</td><td>1.3</td><td>85</td><td>59</td><td>2</td></tr><tr bgcolor=\"#FFFFFF\"><td align=\"left\">Karwar</td><td>31.4</td><td>0.8</td><td>25.8</td><td>0.3</td><td>90</td><td>94</td><td>34</td></tr><tr bgcolor=\"#e0e0e0\"><td align=\"left\">Madikeri</td><td>26.5</td><td>--</td><td>20.5</td><td>--</td><td>100</td><td>100</td><td>9.5</td></tr><tr bgcolor=\"#FFFFFF\"><td align=\"left\">Mandya</td><td>31.4</td><td>1.2</td><td>20.9</td><td>0.4</td><td>87</td><td>65</td><td>NIL</td></tr><tr bgcolor=\"#e0e0e0\"><td align=\"left\">MANDYA KVK</td><td>31.6</td><td>1.4</td><td>20.9</td><td>0.4</td><td>99</td><td>68</td><td>NIL</td></tr><tr bgcolor=\"#FFFFFF\"><td align=\"left\">Mangaluru</td><td>30.2</td><td>1.0</td><td>24.3</td><td>1.7</td><td>95</td><td>92</td><td>69</td></tr><tr bgcolor=\"#e0e0e0\"><td align=\"left\">MUDIGERE</td><td>25.4</td><td>-0.5</td><td>21.1</td><td>2.0</td><td>100</td><td>100</td><td>9.5</td></tr><tr bgcolor=\"#FFFFFF\"><td align=\"left\">Mysuru</td><td>30.0</td><td>0.7</td><td>NA</td><td>--</td><td>89</td><td>72</td><td>NIL</td></tr><tr bgcolor=\"#e0e0e0\"><td align=\"left\">Raichur</td><td>35.2</td><td>0.3</td><td>24.2</td><td>0.0</td><td>80</td><td>48</td><td>NIL</td></tr><tr bgcolor=\"#FFFFFF\"><td align=\"left\">Vijayapura</td><td>33.0</td><td>0.7</td><td>20.0</td><td>-2.0</td><td>60</td><td>64</td><td>3.6</td></tr></table> \\r\\n\\t\\t</div>\\r\\n                </div>\\r\\n               </section>\\r\\n\\r\\n               \\r\\n\\r\\n             \\r\\n              \\r\\n               <div class=\"clr\"></div>\\r\\n            </div>\\r\\n         \\r\\n          \\n<footer id=\"footer\">\\n          \\n\\n\\n<p id=\"copyright\">&#169; Copyright <a href=\"https://moes.gov.in/\" target=\"_blank\">Met Centre Bengaluru<BR>India Meteorological Department<br>Ministry of Earth Sciences</a>, New Delhi, India</p>\\n<p  align=\"center \"> \\n\\t\\t<a href=\"https://twitter.com/metcentre_bng\" target=\"_blank\" ><img src=\"../raipur/img/twitter.png\" style=\"width:30px;height:30px;\"></a>\\n        <a href=\"https://www.facebook.com/profile.php?id=100012331965314\" target=\"_blank\"><img src=\"../raipur/img/facebook.png\" style=\"width:30px;height:30px;\"></a>\\n        \\n       \\n\\n</p>\\n               \\n\\n\\t\\n         </footer>\\n\\r\\n         \\r\\n    </div>\\r\\n        \\r\\n       \\r\\n        \\r\\n        \\r\\n        \\r\\n      </div>\\r\\n\\r\\n \\r\\n \\r\\n\\r\\n\\r\\n\\r\\n      \\r\\n   </body>\\r\\n  \\r\\n</html>     \\r\\n'"
      ]
     },
     "execution_count": 20,
     "metadata": {},
     "output_type": "execute_result"
    }
   ],
   "source": [
    "tbl_html = fetch_html_from_url(link_php)\n",
    "tbl_html"
   ]
  },
  {
   "cell_type": "code",
   "execution_count": 31,
   "metadata": {},
   "outputs": [
    {
     "data": {
      "text/plain": [
       "<!DOCTYPE html>\n",
       "<html><head><script async=\"\" src=\"https://www.googletagmanager.com/gtag/js?id=UA-157746104-1\"></script>\n",
       "<script>\n",
       "  window.dataLayer = window.dataLayer || [];\n",
       "  function gtag(){dataLayer.push(arguments);}\n",
       "  gtag('js', new Date());\n",
       "  gtag('config', 'UA-157746104-1');\n",
       "</script>\n",
       "<title>IMD bengaluru | Todays Weather Report</title>\n",
       "<script async=\"\" src=\"https://www.googletagmanager.com/gtag/js?id=UA-143177612-1\"></script>\n",
       "<script>\n",
       "  window.dataLayer = window.dataLayer || [];\n",
       "  function gtag(){dataLayer.push(arguments);}\n",
       "  gtag('js', new Date());\n",
       "\n",
       "  gtag('config', 'UA-143177612-1');\n",
       "</script>\n",
       "<meta charset=\"utf-8\"/>\n",
       "<meta content=\"noodp\" name=\"robots\"/>\n",
       "<meta content=\"width=device-width\" id=\"viewport\" name=\"viewport\"/>\n",
       "<meta content=\"IE=edge\" http-equiv=\"X-UA-Compatible\"/>\n",
       "<meta content=\"text/html;charset=utf-8\" http-equiv=\"content-type\"/>\n",
       "<meta content=\"IMD\" name=\"keywords\"/>\n",
       "<link href=\"https://mausam.imd.gov.in/bengaluru/css/home.css\" rel=\"stylesheet\" type=\"text/css\"/>\n",
       "<link href=\"https://mausam.imd.gov.in/ico/favicon.png\" rel=\"shortcut icon\"/>\n",
       "<link href=\"https://mausam.imd.gov.in/bengaluru/css/all.css\" rel=\"stylesheet\"/>\n",
       "<style media=\"screen\" type=\"text/css\">\n",
       "\n",
       "         .sun-rise{\n",
       "            background-image: url('img/sunrise.jpg');\n",
       "           }\n",
       "           \n",
       "           .sun-set{\n",
       "               background-image: url('img/sunset.jpg');\n",
       "           }\n",
       "           \n",
       "\n",
       "           .moon-rise{\n",
       "               background-image: url('img/moonrise.jpg');\n",
       "           }\n",
       "           \n",
       "\n",
       "\n",
       "           .moon-set{\n",
       "               background-image: url('img/moonset.jpg');\n",
       "           }\n",
       "           \n",
       "\n",
       "           .moon-set p span, .moon-rise p span, .sun-set p span, .sun-rise p span{\n",
       "             background-color: #0000008a;\n",
       "             padding:5px;\n",
       "           }\n",
       "\n",
       "           .moon-set p, .moon-rise p, .sun-set p, .sun-rise p{\n",
       "                   color: #fff;\n",
       "                   padding-left: 10px;\n",
       "                   font-weight: 400;\n",
       "                   line-height: 36.5px;\n",
       "                   bottom: 0px !important;\n",
       "                   font-family: sans-serif;\n",
       "                   font-size: 14px;\n",
       "                   margin:0;\n",
       "\n",
       "           }\n",
       "\n",
       "           .right-box-equal{\n",
       "               height: 38px;\n",
       "               margin-bottom: 5px;\n",
       "           }\n",
       "         \n",
       "      </style>\n",
       "<link href=\"https://fonts.googleapis.com/css?family=Signika\" rel=\"stylesheet\"/>\n",
       "<style type=\"text/css\">\n",
       "\n",
       ".btn_csv{\n",
       "\tmargin-right:5%;\n",
       "\tfloat: right;\n",
       "}\n",
       "</style>\n",
       "</head><body>\n",
       "<script>\n",
       "\tfunction myFunction(name) \n",
       "\t{\n",
       "\t\tvar myWindow = window.open(\"\"); \n",
       "\t\tmyWindow.document.write(\"<iframe id=iFrame src='\"+name+\"' width='1200' height='900' ></iframe>\");\n",
       "\t\tmyWindow.document.title = 'PDF';\n",
       "\t}\n",
       "\t</script>\n",
       "<script>\n",
       "        function printDiv() {\n",
       "            var divContents = document.getElementById(\"images1\").innerHTML;\n",
       "            var a = window.open('', '', 'height=500, width=500');\n",
       "            a.document.write('<html>');\n",
       "\t\t\ta.document.write('<head><style> .bold{font-weight:bold;} .center{text-align:center;} table, td, th{border: 1px solid black;border-collapse: collapse;margin-left: auto;margin-right: auto; text-align:center;} #leftbox {float:left; width:25%;height:125px;} #middlebox{float:left; width:70%;height:125px;} #rightbox{float:left; width:5%;height:125px;}</style></head>');\n",
       "\t\t\t\n",
       "            a.document.write('<body > <div style=\"border: none; margin-left:40px; margin-right:40px;\"><div><div id = \"leftbox\"><img src=\"/img/imd_logo_enamble.png\" alt=\"IMD\" width=\"80\" height=\"100\"> </div><div id = \"middlebox\" class=\"center\"><h3>Meteorological Center Bengaluru <br>India Meteorological Department<br>Ministry of Earth Sciences</h3> </div><br>');\n",
       "\t\t\t\n",
       "            a.document.write(divContents);\n",
       "            a.document.write('</body></html>');\n",
       "            a.document.close();\n",
       "            a.print();\n",
       "        }\n",
       "    </script>\n",
       "<!--This cover the whole page -->\n",
       "<div id=\"pageheight\">\n",
       "<!--This cover the website page -->\n",
       "<div id=\"pagewrap\">\n",
       "<script async=\"\" src=\"https://www.googletagmanager.com/gtag/js?id=UA-157746104-1\"></script>\n",
       "<script>\n",
       "  window.dataLayer = window.dataLayer || [];\n",
       "  function gtag(){dataLayer.push(arguments);}\n",
       "  gtag('js', new Date());\n",
       "  gtag('config', 'UA-157746104-1');\n",
       "</script>\n",
       "<script>\n",
       " function changeLang(){\n",
       "  document.getElementById('form_lang').submit();\n",
       " }\n",
       " </script>\n",
       "<header id=\"header\">\n",
       "<div class=\"l_content\">\n",
       "<div id=\"header-logo\"><a href=\"#\" id=\"logo\"><img alt=\"India Meteorological Department\" height=\"110\" src=\"https://mausam.imd.gov.in/imd_latest/contents/img/logo-india-big.png\" style=\"z-index: 1;\" width=\"80\"/></a>\n",
       "<div style=\"width:500px\">\n",
       "<h1 style=\"color:#FFF; text-align:center; font-size:11px; padding-top:0px; padding-left:0px; font-weight:200\">Ministry of Earth Sciences</h1>\n",
       "<h1 style=\"color:#FFF; text-align:center; font-size:13px; padding-top:0px; padding-left:0px; font-weight:200\">India Meteorological Department</h1>\n",
       "<h1 style=\"color:#FFF; text-align:center; font-size:15px; padding-top:0px; padding-left:0px; font-weight:200\"> Met Centre Bengaluru</h1>\n",
       "</div>\n",
       "</div>\n",
       "<div id=\"header-main\">\n",
       "<div class=\"l_top\">\n",
       "<div id=\"header-search\">\n",
       "<form action=\"/search_RV/index.php\" method=\"post\">\n",
       "<input maxlength=\"45\" name=\"sr\" type=\"text\"/>\n",
       "<input type=\"submit\" value=\"Search\"/>\n",
       "</form>\n",
       "<!-- Language -->\n",
       "<form action=\"\" id=\"form_lang\" method=\"get\">\n",
       "<select name=\"lang\" onchange=\"changeLang();\">\n",
       "<option selected=\"\" value=\"en\">English</option>\n",
       "<option value=\"hi\">Hindi</option>\n",
       "</select>\n",
       "</form>\n",
       "</div>\n",
       "<div id=\"social_media\">\n",
       "<div id=\"facebook_link\"><a href=\"\" id=\"icon-link-facebook\" target=\"_blank\"><img src=\"../img/bom/facebook.gif\" title=\"Facebook\"/></a>\n",
       "</div>\n",
       "<div id=\"twitter_link\"><a href=\"\" id=\"icon-link-twitter\" target=\"_blank\"><img src=\"../img/bom/twitter.gif\" title=\"Twitter\"/></a></div>\n",
       "</div>\n",
       "<div class=\"l_bottom\">\n",
       "<ul class=\"sf-menu\">\n",
       "<li class=\"no-menu\"><a href=\"https://mausam.imd.gov.in/bengaluru\" title=\"Home\"><img height=\"18\" src=\"https://mausam.imd.gov.in/bengaluru/img/home.gif\"/></a></li>\n",
       "<li class=\"no-menu\"><a href=\"https://mausam.imd.gov.in/bengaluru/organization.php\">Organisation</a></li>\n",
       "<div class=\"sf-menu-pointer\"></div>\n",
       "<li class=\"no-menu\"><a href=\"https://mausam.imd.gov.in/bengaluru/aboutus.php\">About Us</a></li>\n",
       "<div class=\"sf-menu-pointer\"></div>\n",
       "<li class=\"no-menu\"><a href=\"https://mausam.imd.gov.in/bengaluru/contactus.php\">Contact Us</a></li>\n",
       "<div class=\"sf-menu-pointer\"></div>\n",
       "<li class=\"dropdown\"> <a class=\"dropdown-toggle\" data-toggle=\"dropdown\" style=\"cursor:pointer;\">Data Supply</a>\n",
       "<ul class=\"dropdown-menu\">\n",
       "<li><a href=\"/bengaluru/docs/data-request.pdf\" target=\"_blank\">Data Supply Form</a></li>\n",
       "<li><a href=\"/bengaluru/docs/data-procedure.pdf\" target=\"_blank\">Data Supply Procedure</a></li>\n",
       "<li><a href=\"/bengaluru/docs/gst-procedure.pdf\" target=\"_blank\">GST Procedure</a></li>\n",
       "<li><a href=\"/bengaluru/docs/address.pdf\" target=\"_blank\">Communication Address</a></li>\n",
       "</ul>\n",
       "</li>\n",
       "<!--\n",
       "<li class=\"dropdown \"> <a style=\"cursor:pointer;\" class=\"dropdown-toggle\" data-toggle=\"dropdown\">Public Safety</a>\n",
       "                  <ul class=\"dropdown-menu\">\n",
       "                   \n",
       "                        <li><a href=\"/bengaluru/docs/drought-en.pdf\" target=\"_blank\">Drought</a></li>\n",
       "                        <li><a href=\"/bengaluru/docs/flood-en.pdf\" target=\"_blank\">Flood</a></li>\n",
       "\t\t\t\t\t\t<li><a href=\"/bengaluru/docs/heatwave-en.pdf\" target=\"_blank\">Heatwave</a></li>\n",
       "\t\t\t\t\t\t<li><a href=\"/bengaluru/docs/thunderstorm-en.pdf\" target=\"_blank\">Thunderstorm</a></li>\n",
       "\t\t  </ul>\n",
       "</li>\n",
       "-->\n",
       "<div class=\"sf-menu-pointer\"></div>\n",
       "<li class=\"no-menu\"><a href=\"/bengaluru/mcdata/tender.pdf\" target=\"_blank\">Tender</a></li>\n",
       "<div class=\"sf-menu-pointer\"></div>\n",
       "<li class=\"no-menu\"><a href=\"/bengaluru/mcdata/press.pdf\" target=\"_blank\">Press Release</a></li>\n",
       "<div class=\"sf-menu-pointer\"></div>\n",
       "<li id=\"sf-menu-vic\">\n",
       "<abbr><a href=\"#.\">Others</a></abbr>\n",
       "<ul>\n",
       "<li class=\"accessible\">\n",
       "<h2 class=\"accessible\">Others</h2>\n",
       "</li>\n",
       "<!--<li><a href=\"http://117.203.102.123:8088/entermobile.php\" target=\"_blank\" >SMS Alerts</a></li>-->\n",
       "<li><a href=\"https://mausam.imd.gov.in/bengaluru/rti.php\" target=\"_blank\">RTI</a></li>\n",
       "<li><a href=\"https://mausam.imd.gov.in/Forecast/feedback.php\" target=\"_blank\">Feedback</a></li>\n",
       "<li><a href=\"https://mausam.imd.gov.in/imd_latest/contents/faq.php\" target=\"_blank\">FAQs</a></li>\n",
       "<li><a href=\"https://mausam.imd.gov.in/bengaluru/disclaimer.php\" target=\"_blank\">Disclaimer</a></li>\n",
       "</ul>\n",
       "<!-- <div class=\"sf-menu-pointer\"></div>-->\n",
       "</li>\n",
       "<!--<li  class=\"no-menu\"><a href=\"http://117.203.102.123:8088/entermobile.php\" target=\"_blank\">SMS Alerts</a></li>\n",
       "\t\t\t   \n",
       "\t\t\t<div class=\"sf-menu-pointer\"></div>\n",
       "\n",
       "<li  class=\"no-menu\"><a href=\"https://mausam.imd.gov.in/bengaluru/rti.php\">RTI</a></li>\n",
       "\t\t\t   \n",
       "\t\t\t<div class=\"sf-menu-pointer\"></div>\n",
       "<li  class=\"no-menu\"><a href=\"https://mausam.imd.gov.in/Forecast/feedback.php\" target=\"_blank\">Feedback</a></li>\n",
       "\t\t\t   \n",
       "\t\t\t<div class=\"sf-menu-pointer\"></div>-->\n",
       "</ul>\n",
       "</div>\n",
       "</div>\n",
       "<div id=\"second_logo\">\n",
       "<a href=\"#\"><img alt=\"India Meteorological Department\" src=\"https://mausam.imd.gov.in/imd_latest/img/imd_logo_enamble.png\"/></a>\n",
       "</div>\n",
       "</div>\n",
       "<div id=\"columns\">\n",
       "<div id=\"columns\">\n",
       "<!-- This section shows the warning links and specialized forecasts dropdown-->\n",
       "<section id=\"content\">\n",
       "<div id=\"current\">\n",
       "<!-- Warnings-->\n",
       "<div id=\"warning_content\">\n",
       "<h2>Warnings</h2>\n",
       "<ul>\n",
       "<li><a class=\"tip\" href=\"https://mausam.imd.gov.in/imd_latest/contents/subdivisionwise-warning_mc.php?id=13\" style=\"font-size:12px;\" title=\"Subdivision Wise\">Subdivision Wise</a>\n",
       "   <a class=\"tip\" href=\"https://mausam.imd.gov.in/imd_latest/contents/districtwise-warning_mc.php?id=13\" style=\"font-size:12px;\" title=\"District Wise\">District Wise</a></li>\n",
       "</ul>\n",
       "</div>\n",
       "<!-- Nowcast-->\n",
       "<div id=\"nowcast_content\">\n",
       "<h2>Nowcast</h2>\n",
       "<ul>\n",
       "<li><a class=\"tip\" href=\"https://mausam.imd.gov.in/imd_latest/contents/districtwisewarnings_mc.php?id=13\" style=\"font-size:12px;\" title=\"District Wise\">District Wise</a>\n",
       "   <a class=\"tip\" href=\"https://mausam.imd.gov.in/imd_latest/contents/stationwise-nowcast-warning_mc.php?id=13\" style=\"font-size:12px;\" title=\"Station Wise\">Station Wise</a></li>\n",
       "</ul>\n",
       "</div>\n",
       "<!-- Weather Observations-->\n",
       "<div id=\"nowcast_content2\">\n",
       "<h2>Weather Observations</h2>\n",
       "<ul>\n",
       "<li><a class=\"tip\" href=\"https://mausam.imd.gov.in/imd_latest/contents/Todaysweather_mc.php?id=13\" style=\"font-size:12px;\" title=\"Temperature\">Daily</a>\n",
       "   \n",
       "   <a class=\"tip\" href=\"http://aws.imd.gov.in:8091/state.php?id=KARNATAKA\" style=\"font-size:12px;\" target=\"_blank\" title=\"Temperature\">AWS</a></li>\n",
       "</ul>\n",
       "</div>\n",
       "</div>\n",
       "<div class=\"other\">\n",
       "<ul class=\"sf-menu\">\n",
       "<li class=\"\">\n",
       "<a class=\"nonclick\" href=\"#\">Forecast</a>\n",
       "<ul>\n",
       "<li class=\"\"><a href=\"http://internal.imd.gov.in/pages/city_weather_main_mausam.php\" target=\"_blank\">City Forecast</a></li>\n",
       "<li class=\"\"><a href=\"https://mausam.imd.gov.in/bengaluru/mcdata/bngdistrict.pdf\" target=\"_blank\">Bengaluru Districts</a></li>\n",
       "<li class=\"\"><a href=\"https://mausam.imd.gov.in/bengaluru/mcdata/districtk.pdf\" target=\"_blank\">District Forecast (Kannada)</a></li>\n",
       "<li class=\"\"><a href=\"https://mausam.imd.gov.in/bengaluru/mcdata/district.pdf\" target=\"_blank\">District Forecast (English)</a></li>\n",
       "<li class=\"\"><a href=\"https://mausam.imd.gov.in/imd_latest/contents/all_india_forcast_bulletin.php\" target=\"_blank\">National Forecast</a></li>\n",
       "<li class=\"\"><a href=\"https://mausam.imd.gov.in/bengaluru/mcdata/extended.pdf\" target=\"_blank\">Extended Range Forecast</a></li>\n",
       "<li class=\"\"><a href=\"https://mausam.imd.gov.in/bengaluru/mcdata/impact.pdf\" target=\"_blank\">Impact Based Forecast</a></li>\n",
       "<li class=\"\"><a href=\"https://mausam.imd.gov.in/bengaluru/mcdata/highway.pdf\" target=\"_blank\">Highway Forecast</a></li>\n",
       "<li class=\"\"><a href=\"https://mausam.imd.gov.in/imd_latest/contents/tourist_weather.php\" target=\"_blank\">Tourism Forecast</a></li>\n",
       "<li class=\"\"><a href=\"https://mausam.imd.gov.in/bengaluru/mcdata/twincity.pdf\" target=\"_blank\">Twin City</a></li>\n",
       "<li class=\"\"><a href=\"https://mausam.imd.gov.in/bengaluru/mcdata/mangaluru.pdf\" target=\"_blank\">Mangaluru</a></li>\n",
       "</ul>\n",
       "</li>\n",
       "</ul>\n",
       "</div>\n",
       "</section>\n",
       "<section id=\"middle\">\n",
       "<div class=\"middle_content\" id=\"images\">\n",
       "<!-- Buttons--><button class=\"btn_csv\" onclick=\"printDiv()\">Print</button>\n",
       "<div id=\"images1\" style=\"text-align: center\">\n",
       "<h3 style=\"color:red; text-align: center; font-size: 18px;\">Today's Weather Report </h3>\n",
       "<hr/>\n",
       "<table><tr align=\"left\" bgcolor=\"#e0e0e0\"><td colspan=\"8\">Date: 2024-06-30</td></tr><tr><td align=\"left\" width=\"15%\">Station</td><td width=\"10%\">Max Temp (<sup>o</sup>C)</td><td width=\"10%\">Dep. from Normal</td><td width=\"10%\">Min Temp (<sup>o</sup>C)</td><td width=\"10%\">Dep. from Normal</td><td width=\"10%\">RH at 0830IST</td><td width=\"10%\">RH at 1730IST</td>\n",
       "<td width=\"10%\">Rainfall (mm) </td>\n",
       "</tr><tr bgcolor=\"#e0e0e0\"><td align=\"left\">Agumbe</td><td>25.2 (29/06)</td><td>--</td><td>22.6</td><td>1.0</td><td>100</td><td>100 (29/06)</td><td>94</td></tr><tr bgcolor=\"#FFFFFF\"><td align=\"left\">BAGALKOT</td><td>35.2 (29/06)</td><td>4.7</td><td>23.6</td><td>1.9</td><td>66</td><td>78 (29/06)</td><td>NIL</td></tr><tr bgcolor=\"#e0e0e0\"><td align=\"left\">Belagavi</td><td>28.0 (29/06)</td><td>0.4</td><td>22.2</td><td>1.7</td><td>92</td><td>77 (29/06)</td><td>0.4</td></tr><tr bgcolor=\"#FFFFFF\"><td align=\"left\">Bengaluru HAL Airport</td><td>29.7 (29/06)</td><td>0.0</td><td>21.0</td><td>1.2</td><td>88</td><td>70 (29/06)</td><td>NIL</td></tr><tr bgcolor=\"#e0e0e0\"><td align=\"left\">Bengaluru International Airport</td><td>30.5</td><td>0.4</td><td>21.3</td><td>0.7</td><td>89</td><td>58</td><td>NIL</td></tr><tr bgcolor=\"#FFFFFF\"><td align=\"left\">Bengaluru-City</td><td>29.7</td><td>0.3</td><td>21.8</td><td>0.7</td><td>90</td><td>63</td><td>TRACE</td></tr><tr bgcolor=\"#e0e0e0\"><td align=\"left\">Bengaluru-GKVK</td><td>29.8 (29/06)</td><td>0.4</td><td>19.0</td><td>1.1</td><td>88</td><td>56 (29/06)</td><td>NIL</td></tr><tr bgcolor=\"#FFFFFF\"><td align=\"left\">Bidar</td><td>32.5</td><td>0.1</td><td>23.0</td><td>0.6</td><td>92</td><td>97</td><td>15.6</td></tr><tr bgcolor=\"#e0e0e0\"><td align=\"left\">CHANDURAYANGHALLI</td><td>30.0</td><td>--</td><td>20.4</td><td>--</td><td>100</td><td>85</td><td>NIL</td></tr><tr bgcolor=\"#FFFFFF\"><td align=\"left\">Chitradurga</td><td>30.6</td><td>1.0</td><td>22.1</td><td>0.6</td><td>89</td><td>71</td><td>NIL</td></tr><tr bgcolor=\"#e0e0e0\"><td align=\"left\">Dharwad</td><td>29.4</td><td>1.3</td><td>21.2</td><td>0.1</td><td>89</td><td>90</td><td>1</td></tr><tr bgcolor=\"#FFFFFF\"><td align=\"left\">Gadag</td><td>30.8</td><td>0.9</td><td>22.2</td><td>0.1</td><td>89</td><td>84</td><td>0.2</td></tr><tr bgcolor=\"#e0e0e0\"><td align=\"left\">GANGAVATHI</td><td>34.1</td><td>--</td><td>25.2</td><td>--</td><td>76</td><td>47</td><td>NIL</td></tr><tr bgcolor=\"#FFFFFF\"><td align=\"left\">Gokarna</td><td>31.4</td><td>0.8</td><td>25.3</td><td>0.3</td><td>90</td><td>94</td><td>15.7</td></tr><tr bgcolor=\"#e0e0e0\"><td align=\"left\">GONIKOPPAL</td><td>26.5</td><td>--</td><td>20.5</td><td>--</td><td>100</td><td>100</td><td>9.5</td></tr><tr bgcolor=\"#FFFFFF\"><td align=\"left\">HANUMAN MATTI</td><td>32.2</td><td>--</td><td>23.1</td><td>--</td><td>87</td><td>75</td><td>NIL</td></tr><tr bgcolor=\"#e0e0e0\"><td align=\"left\">HARDANHALLY</td><td>31.5</td><td>--</td><td>20.7</td><td>--</td><td>90</td><td>66</td><td>NIL</td></tr><tr bgcolor=\"#FFFFFF\"><td align=\"left\">Honnavar</td><td>31.0</td><td>1.6</td><td>23.6</td><td>-0.6</td><td>98</td><td>95</td><td>41</td></tr><tr bgcolor=\"#e0e0e0\"><td align=\"left\">Kalaburgi</td><td>34.5</td><td>0.5</td><td>24.6</td><td>1.3</td><td>85</td><td>59</td><td>2</td></tr><tr bgcolor=\"#FFFFFF\"><td align=\"left\">Karwar</td><td>31.4</td><td>0.8</td><td>25.8</td><td>0.3</td><td>90</td><td>94</td><td>34</td></tr><tr bgcolor=\"#e0e0e0\"><td align=\"left\">Madikeri</td><td>26.5</td><td>--</td><td>20.5</td><td>--</td><td>100</td><td>100</td><td>9.5</td></tr><tr bgcolor=\"#FFFFFF\"><td align=\"left\">Mandya</td><td>31.4</td><td>1.2</td><td>20.9</td><td>0.4</td><td>87</td><td>65</td><td>NIL</td></tr><tr bgcolor=\"#e0e0e0\"><td align=\"left\">MANDYA KVK</td><td>31.6</td><td>1.4</td><td>20.9</td><td>0.4</td><td>99</td><td>68</td><td>NIL</td></tr><tr bgcolor=\"#FFFFFF\"><td align=\"left\">Mangaluru</td><td>30.2</td><td>1.0</td><td>24.3</td><td>1.7</td><td>95</td><td>92</td><td>69</td></tr><tr bgcolor=\"#e0e0e0\"><td align=\"left\">MUDIGERE</td><td>25.4</td><td>-0.5</td><td>21.1</td><td>2.0</td><td>100</td><td>100</td><td>9.5</td></tr><tr bgcolor=\"#FFFFFF\"><td align=\"left\">Mysuru</td><td>30.0</td><td>0.7</td><td>NA</td><td>--</td><td>89</td><td>72</td><td>NIL</td></tr><tr bgcolor=\"#e0e0e0\"><td align=\"left\">Raichur</td><td>35.2</td><td>0.3</td><td>24.2</td><td>0.0</td><td>80</td><td>48</td><td>NIL</td></tr><tr bgcolor=\"#FFFFFF\"><td align=\"left\">Vijayapura</td><td>33.0</td><td>0.7</td><td>20.0</td><td>-2.0</td><td>60</td><td>64</td><td>3.6</td></tr></table>\n",
       "</div>\n",
       "</div>\n",
       "</section>\n",
       "<div class=\"clr\"></div>\n",
       "</div>\n",
       "<footer id=\"footer\">\n",
       "<p id=\"copyright\">© Copyright <a href=\"https://moes.gov.in/\" target=\"_blank\">Met Centre Bengaluru<br/>India Meteorological Department<br/>Ministry of Earth Sciences</a>, New Delhi, India</p>\n",
       "<p align=\"center \">\n",
       "<a href=\"https://twitter.com/metcentre_bng\" target=\"_blank\"><img src=\"../raipur/img/twitter.png\" style=\"width:30px;height:30px;\"/></a>\n",
       "<a href=\"https://www.facebook.com/profile.php?id=100012331965314\" target=\"_blank\"><img src=\"../raipur/img/facebook.png\" style=\"width:30px;height:30px;\"/></a>\n",
       "</p>\n",
       "</footer>\n",
       "</div>\n",
       "</div>\n",
       "</header></div></div></body></html>"
      ]
     },
     "execution_count": 31,
     "metadata": {},
     "output_type": "execute_result"
    }
   ],
   "source": [
    "soup"
   ]
  },
  {
   "cell_type": "code",
   "execution_count": null,
   "metadata": {},
   "outputs": [],
   "source": [
    "soup.find_all('a')"
   ]
  },
  {
   "cell_type": "code",
   "execution_count": 33,
   "metadata": {},
   "outputs": [
    {
     "data": {
      "text/plain": [
       "[<a href=\"#\" id=\"logo\"><img alt=\"India Meteorological Department\" height=\"110\" src=\"https://mausam.imd.gov.in/imd_latest/contents/img/logo-india-big.png\" style=\"z-index: 1;\" width=\"80\"/></a>,\n",
       " <a href=\"\" id=\"icon-link-facebook\" target=\"_blank\"><img src=\"../img/bom/facebook.gif\" title=\"Facebook\"/></a>,\n",
       " <a href=\"\" id=\"icon-link-twitter\" target=\"_blank\"><img src=\"../img/bom/twitter.gif\" title=\"Twitter\"/></a>,\n",
       " <a href=\"https://mausam.imd.gov.in/bengaluru\" title=\"Home\"><img height=\"18\" src=\"https://mausam.imd.gov.in/bengaluru/img/home.gif\"/></a>,\n",
       " <a href=\"https://mausam.imd.gov.in/bengaluru/organization.php\">Organisation</a>,\n",
       " <a href=\"https://mausam.imd.gov.in/bengaluru/aboutus.php\">About Us</a>,\n",
       " <a href=\"https://mausam.imd.gov.in/bengaluru/contactus.php\">Contact Us</a>,\n",
       " <a class=\"dropdown-toggle\" data-toggle=\"dropdown\" style=\"cursor:pointer;\">Data Supply</a>,\n",
       " <a href=\"/bengaluru/docs/data-request.pdf\" target=\"_blank\">Data Supply Form</a>,\n",
       " <a href=\"/bengaluru/docs/data-procedure.pdf\" target=\"_blank\">Data Supply Procedure</a>,\n",
       " <a href=\"/bengaluru/docs/gst-procedure.pdf\" target=\"_blank\">GST Procedure</a>,\n",
       " <a href=\"/bengaluru/docs/address.pdf\" target=\"_blank\">Communication Address</a>,\n",
       " <a href=\"/bengaluru/mcdata/tender.pdf\" target=\"_blank\">Tender</a>,\n",
       " <a href=\"/bengaluru/mcdata/press.pdf\" target=\"_blank\">Press Release</a>,\n",
       " <a href=\"#.\">Others</a>,\n",
       " <a href=\"https://mausam.imd.gov.in/bengaluru/rti.php\" target=\"_blank\">RTI</a>,\n",
       " <a href=\"https://mausam.imd.gov.in/Forecast/feedback.php\" target=\"_blank\">Feedback</a>,\n",
       " <a href=\"https://mausam.imd.gov.in/imd_latest/contents/faq.php\" target=\"_blank\">FAQs</a>,\n",
       " <a href=\"https://mausam.imd.gov.in/bengaluru/disclaimer.php\" target=\"_blank\">Disclaimer</a>,\n",
       " <a href=\"#\"><img alt=\"India Meteorological Department\" src=\"https://mausam.imd.gov.in/imd_latest/img/imd_logo_enamble.png\"/></a>,\n",
       " <a class=\"tip\" href=\"https://mausam.imd.gov.in/imd_latest/contents/subdivisionwise-warning_mc.php?id=13\" style=\"font-size:12px;\" title=\"Subdivision Wise\">Subdivision Wise</a>,\n",
       " <a class=\"tip\" href=\"https://mausam.imd.gov.in/imd_latest/contents/districtwise-warning_mc.php?id=13\" style=\"font-size:12px;\" title=\"District Wise\">District Wise</a>,\n",
       " <a class=\"tip\" href=\"https://mausam.imd.gov.in/imd_latest/contents/districtwisewarnings_mc.php?id=13\" style=\"font-size:12px;\" title=\"District Wise\">District Wise</a>,\n",
       " <a class=\"tip\" href=\"https://mausam.imd.gov.in/imd_latest/contents/stationwise-nowcast-warning_mc.php?id=13\" style=\"font-size:12px;\" title=\"Station Wise\">Station Wise</a>,\n",
       " <a class=\"tip\" href=\"https://mausam.imd.gov.in/imd_latest/contents/Todaysweather_mc.php?id=13\" style=\"font-size:12px;\" title=\"Temperature\">Daily</a>,\n",
       " <a class=\"tip\" href=\"http://aws.imd.gov.in:8091/state.php?id=KARNATAKA\" style=\"font-size:12px;\" target=\"_blank\" title=\"Temperature\">AWS</a>,\n",
       " <a class=\"nonclick\" href=\"#\">Forecast</a>,\n",
       " <a href=\"http://internal.imd.gov.in/pages/city_weather_main_mausam.php\" target=\"_blank\">City Forecast</a>,\n",
       " <a href=\"https://mausam.imd.gov.in/bengaluru/mcdata/bngdistrict.pdf\" target=\"_blank\">Bengaluru Districts</a>,\n",
       " <a href=\"https://mausam.imd.gov.in/bengaluru/mcdata/districtk.pdf\" target=\"_blank\">District Forecast (Kannada)</a>,\n",
       " <a href=\"https://mausam.imd.gov.in/bengaluru/mcdata/district.pdf\" target=\"_blank\">District Forecast (English)</a>,\n",
       " <a href=\"https://mausam.imd.gov.in/imd_latest/contents/all_india_forcast_bulletin.php\" target=\"_blank\">National Forecast</a>,\n",
       " <a href=\"https://mausam.imd.gov.in/bengaluru/mcdata/extended.pdf\" target=\"_blank\">Extended Range Forecast</a>,\n",
       " <a href=\"https://mausam.imd.gov.in/bengaluru/mcdata/impact.pdf\" target=\"_blank\">Impact Based Forecast</a>,\n",
       " <a href=\"https://mausam.imd.gov.in/bengaluru/mcdata/highway.pdf\" target=\"_blank\">Highway Forecast</a>,\n",
       " <a href=\"https://mausam.imd.gov.in/imd_latest/contents/tourist_weather.php\" target=\"_blank\">Tourism Forecast</a>,\n",
       " <a href=\"https://mausam.imd.gov.in/bengaluru/mcdata/twincity.pdf\" target=\"_blank\">Twin City</a>,\n",
       " <a href=\"https://mausam.imd.gov.in/bengaluru/mcdata/mangaluru.pdf\" target=\"_blank\">Mangaluru</a>,\n",
       " <a href=\"https://moes.gov.in/\" target=\"_blank\">Met Centre Bengaluru<br/>India Meteorological Department<br/>Ministry of Earth Sciences</a>,\n",
       " <a href=\"https://twitter.com/metcentre_bng\" target=\"_blank\"><img src=\"../raipur/img/twitter.png\" style=\"width:30px;height:30px;\"/></a>,\n",
       " <a href=\"https://www.facebook.com/profile.php?id=100012331965314\" target=\"_blank\"><img src=\"../raipur/img/facebook.png\" style=\"width:30px;height:30px;\"/></a>]"
      ]
     },
     "execution_count": 33,
     "metadata": {},
     "output_type": "execute_result"
    }
   ],
   "source": [
    "soup.find_all('a')"
   ]
  },
  {
   "cell_type": "code",
   "execution_count": null,
   "metadata": {},
   "outputs": [],
   "source": []
  },
  {
   "cell_type": "code",
   "execution_count": 29,
   "metadata": {},
   "outputs": [
    {
     "name": "stdout",
     "output_type": "stream",
     "text": [
      "                   Date: 2024-06-30       Station  ... RH at 0830IST RH at 1730IST\n",
      "0                            Agumbe  25.2 (29/06)  ...   100 (29/06)            94\n",
      "1                          BAGALKOT  35.2 (29/06)  ...    78 (29/06)           NIL\n",
      "2                          Belagavi  28.0 (29/06)  ...    77 (29/06)           0.4\n",
      "3             Bengaluru HAL Airport  29.7 (29/06)  ...    70 (29/06)           NIL\n",
      "4   Bengaluru International Airport          30.5  ...            58           NIL\n",
      "5                    Bengaluru-City          29.7  ...            63         TRACE\n",
      "6                    Bengaluru-GKVK  29.8 (29/06)  ...    56 (29/06)           NIL\n",
      "7                             Bidar          32.5  ...            97          15.6\n",
      "8                 CHANDURAYANGHALLI          30.0  ...            85           NIL\n",
      "9                       Chitradurga          30.6  ...            71           NIL\n",
      "10                          Dharwad          29.4  ...            90             1\n",
      "11                            Gadag          30.8  ...            84           0.2\n",
      "12                       GANGAVATHI          34.1  ...            47           NIL\n",
      "13                          Gokarna          31.4  ...            94          15.7\n",
      "14                       GONIKOPPAL          26.5  ...           100           9.5\n",
      "15                    HANUMAN MATTI          32.2  ...            75           NIL\n",
      "16                      HARDANHALLY          31.5  ...            66           NIL\n",
      "17                         Honnavar          31.0  ...            95            41\n",
      "18                        Kalaburgi          34.5  ...            59             2\n",
      "19                           Karwar          31.4  ...            94            34\n",
      "20                         Madikeri          26.5  ...           100           9.5\n",
      "21                           Mandya          31.4  ...            65           NIL\n",
      "22                       MANDYA KVK          31.6  ...            68           NIL\n",
      "23                        Mangaluru          30.2  ...            92            69\n",
      "24                         MUDIGERE          25.4  ...           100           9.5\n",
      "25                           Mysuru          30.0  ...            72           NIL\n",
      "26                          Raichur          35.2  ...            48           NIL\n",
      "27                       Vijayapura          33.0  ...            64           3.6\n",
      "\n",
      "[28 rows x 8 columns]\n"
     ]
    }
   ],
   "source": [
    "import pandas as pd\n",
    "\n",
    "\n",
    "soup = BeautifulSoup(tbl_html,'lxml')\n",
    "table = soup.find('table')\n",
    "\n",
    "# Extract the headers\n",
    "headers = [header.text.strip() for header in table.find_all('td')[:8]]\n",
    "\n",
    "# Extract the rows\n",
    "rows = []\n",
    "for row in table.find_all('tr')[2:]:  # Skip the first two rows\n",
    "    columns = row.find_all('td')\n",
    "    rows.append([column.text.strip() for column in columns])\n",
    "\n",
    "# Convert to DataFrame\n",
    "df = pd.DataFrame(rows, columns=headers)\n",
    "\n",
    "# Display the DataFrame\n",
    "print(df)"
   ]
  },
  {
   "cell_type": "code",
   "execution_count": 30,
   "metadata": {},
   "outputs": [
    {
     "data": {
      "text/plain": [
       "Index(['Date: 2024-06-30', 'Station', 'Max Temp (oC)', 'Dep. from Normal',\n",
       "       'Min Temp (oC)', 'Dep. from Normal', 'RH at 0830IST', 'RH at 1730IST'],\n",
       "      dtype='object')"
      ]
     },
     "execution_count": 30,
     "metadata": {},
     "output_type": "execute_result"
    }
   ],
   "source": [
    "df.columns"
   ]
  },
  {
   "cell_type": "code",
   "execution_count": 41,
   "metadata": {},
   "outputs": [
    {
     "data": {
      "text/plain": [
       "\"\\n\\n\\n\\n\\n\\n\\n\\n\\n\\n\\n\\n\\n\\nMinistry of Earth Sciences\\nIndia Meteorological Department\\n Met Centre Bengaluru\\n\\n\\n\\n\\n\\n\\n\\n\\n\\n\\n\\n\\nEnglish\\nHindi\\n\\n\\n\\n\\n\\n\\n\\n\\n\\n\\n\\nOrganisation\\n\\nAbout Us\\n\\nContact Us\\n\\n Data Supply\\n\\nData Supply Form\\nData Supply Procedure\\nGST Procedure\\nCommunication Address\\n\\n\\n\\n\\nTender\\n\\nPress Release\\n\\n\\nOthers\\n\\n\\nOthers\\n\\n\\nRTI\\nFeedback\\nFAQs\\nDisclaimer\\n\\n\\n\\n\\n\\n\\n\\n\\n\\n\\n\\n\\n\\n\\n\\n\\n\\n\\nWarnings\\n\\nSubdivision Wise\\n\\xa0\\xa0\\xa0District Wise\\n\\n\\n\\n\\nNowcast\\n\\nDistrict Wise\\n\\xa0\\xa0\\xa0Station Wise\\n\\n\\n\\n\\nWeather Observations\\n\\nDaily\\n\\xa0\\xa0\\xa0\\n\\xa0\\xa0\\xa0AWS\\n\\n\\n\\n\\n\\n\\nForecast\\n\\nCity Forecast\\nBengaluru Districts\\nDistrict Forecast (Kannada)\\nDistrict Forecast (English)\\nNational Forecast\\nExtended Range Forecast\\nImpact Based Forecast\\nHighway Forecast\\nTourism Forecast\\nTwin City\\nMangaluru\\n\\n\\n\\n\\n\\n\\n\\nPrint\\n\\nToday's Weather Report \\n\\nDate: 2024-06-30StationMax Temp (oC)Dep. from NormalMin Temp (oC)Dep. from NormalRH at 0830ISTRH at 1730IST\\nRainfall (mm) \\nAgumbe25.2 (29/06)--22.61.0100100 (29/06)94BAGALKOT35.2 (29/06)4.723.61.96678 (29/06)NILBelagavi28.0 (29/06)0.422.21.79277 (29/06)0.4Bengaluru HAL Airport29.7 (29/06)0.021.01.28870 (29/06)NILBengaluru International Airport30.50.421.30.78958NILBengaluru-City29.70.321.80.79063TRACEBengaluru-GKVK29.8 (29/06)0.419.01.18856 (29/06)NILBidar32.50.123.00.6929715.6CHANDURAYANGHALLI30.0--20.4--10085NILChitradurga30.61.022.10.68971NILDharwad29.41.321.20.189901Gadag30.80.922.20.189840.2GANGAVATHI34.1--25.2--7647NILGokarna31.40.825.30.3909415.7GONIKOPPAL26.5--20.5--1001009.5HANUMAN MATTI32.2--23.1--8775NILHARDANHALLY31.5--20.7--9066NILHonnavar31.01.623.6-0.6989541Kalaburgi34.50.524.61.385592Karwar31.40.825.80.3909434Madikeri26.5--20.5--1001009.5Mandya31.41.220.90.48765NILMANDYA KVK31.61.420.90.49968NILMangaluru30.21.024.31.7959269MUDIGERE25.4-0.521.12.01001009.5Mysuru30.00.7NA--8972NILRaichur35.20.324.20.08048NILVijayapura33.00.720.0-2.060643.6\\n\\n\\n\\n\\n\\n\\n© Copyright Met Centre BengaluruIndia Meteorological DepartmentMinistry of Earth Sciences, New Delhi, India\\n\\n\\n\\n\\n\\n\\n\\n\""
      ]
     },
     "execution_count": 41,
     "metadata": {},
     "output_type": "execute_result"
    }
   ],
   "source": [
    "[x.text for x in soup.find_all('')][0]"
   ]
  },
  {
   "cell_type": "code",
   "execution_count": null,
   "metadata": {},
   "outputs": [],
   "source": []
  },
  {
   "cell_type": "code",
   "execution_count": null,
   "metadata": {},
   "outputs": [],
   "source": []
  }
 ],
 "metadata": {
  "kernelspec": {
   "display_name": ".venv",
   "language": "python",
   "name": "python3"
  },
  "language_info": {
   "codemirror_mode": {
    "name": "ipython",
    "version": 3
   },
   "file_extension": ".py",
   "mimetype": "text/x-python",
   "name": "python",
   "nbconvert_exporter": "python",
   "pygments_lexer": "ipython3",
   "version": "3.9.6"
  }
 },
 "nbformat": 4,
 "nbformat_minor": 2
}
