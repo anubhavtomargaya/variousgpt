{
 "cells": [
  {
   "cell_type": "code",
   "execution_count": null,
   "metadata": {},
   "outputs": [],
   "source": [
    "from utils_jina import read_web_content"
   ]
  },
  {
   "cell_type": "code",
   "execution_count": 2,
   "metadata": {},
   "outputs": [],
   "source": [
    "from soup import fetch_html_from_url"
   ]
  },
  {
   "cell_type": "code",
   "execution_count": 4,
   "metadata": {},
   "outputs": [],
   "source": [
    "url = 'https://czid.org/pathogen_list'"
   ]
  },
  {
   "cell_type": "code",
   "execution_count": 5,
   "metadata": {},
   "outputs": [
    {
     "data": {
      "text/plain": [
       "'<!DOCTYPE html>\\n<html>\\n  <head>\\n    <!-- OneTrust Cookies Consent Notice for czid.org -->\\n  <script src=\"https://cdn.cookielaw.org/scripttemplates/otSDKStub.js\"  type=\"text/javascript\" charset=\"UTF-8\" data-domain-script=\"1c26eebb-a1f5-496e-8e19-a26d600cae4f\" ></script>\\n  <script type=\"text/javascript\">\\n  function OptanonWrapper() { }\\n  </script>\\n\\n      <!-- Loads environment variables into window so app/assets/src/index.jsx can use them to initialize Sentry -->\\n  <script>\\n    window.SENTRY_DSN_FRONTEND = \"https://10d7b3aea5334c918098d2decb02aeda@sentry.prod.si.czi.technology/21\";\\n    window.ENVIRONMENT = \"prod\";\\n    window.GIT_RELEASE_SHA = \"c04c44ce\";\\n  </script>\\n\\n      <!-- Global site tags for Segment analytics-->\\n\\n  <!-- The script type and class properties are added here so it can give OneTrust the ability to: -->\\n  <!-- 1. Modify the type \"text/javascript\" which enables the Segment script (Enabling analytics) -->\\n  <!-- 2. Modify the type \"text/plain\" which disables the Segment script (Disabling analytics)-->\\n\\n  <script type=\"text/plain\" class=\"optanon-category-C0002\">\\n    // Snippet from https://segment.com/docs/sources/website/analytics.js/quickstart/\\n    // Segment ID is designed to be public: https://community.segment.com/t/m26sng/writekey-accessible-by-anyone\\n   !function(){var analytics=window.analytics=window.analytics||[];if(!analytics.initialize)if(analytics.invoked)window.console&&console.error&&console.error(\"Segment snippet included twice.\");else{analytics.invoked=!0;analytics.methods=[\"trackSubmit\",\"trackClick\",\"trackLink\",\"trackForm\",\"pageview\",\"identify\",\"reset\",\"group\",\"track\",\"ready\",\"alias\",\"debug\",\"page\",\"once\",\"off\",\"on\",\"addSourceMiddleware\",\"addIntegrationMiddleware\",\"setAnonymousId\",\"addDestinationMiddleware\"];analytics.factory=function(e){return function(){var t=Array.prototype.slice.call(arguments);t.unshift(e);analytics.push(t);return analytics}};for(var e=0;e<analytics.methods.length;e++){var key=analytics.methods[e];analytics[key]=analytics.factory(key)}analytics.load=function(key,e){var t=document.createElement(\"script\");t.type=\"text/javascript\";t.async=!0;t.src=\"https://cdn.segment.com/analytics.js/v1/\" + key + \"/analytics.min.js\";var n=document.getElementsByTagName(\"script\")[0];n.parentNode.insertBefore(t,n);analytics._loadOptions=e};analytics.SNIPPET_VERSION=\"4.13.1\";\\n\\n        // Destination middleware - filter PII from events going to Appcues destination\\n        // See https://segment.com/docs/connections/sources/catalog/libraries/website/javascript/middleware/ for more information on middleware\\n        const DMW = ({ payload, integration, next }) => {\\n          next(payload);\\n        };\\n\\n        analytics.addDestinationMiddleware(\\'Appcues\\', [DMW]);\\n        analytics.load(\"tgwv7UsjFhK61uwmQClnGi7SwuWyNtaD\");\\n        window.GIT_VERSION = \"fc7b8de3\";\\n        analytics.page();\\n    }}();\\n  </script>\\n\\n    <!-- Global site tag for Plausible analytics -->\\n  <script defer data-domain=\"czid.org\" src=\"https://plausible.io/js/script.js\"></script>\\n\\n    \\n\\n    <!-- SEO Tags -->\\n    <title>Chan Zuckerberg ID - Detect & Track Infectious Diseases</title>\\n    <meta name=\"description\" content=\"CZ ID: a free, cloud-based metagenomic platform for researchers, empowers global pathogen and outbreak detection and monitoring.\">\\n    <meta name=\"keywords\" content=\"Infectious disease, sequencing, metagenomic sequencing, genomics, Chan Zuckerberg Initiative, CZI, Chan Zuckerberg Biohub, CZ Biohub, science, next gen sequencing, research, biology, virology, bioinformatics, computational biology, global health\">\\n\\n    <!-- Social Media Meta Tags -->\\n    <meta property=\"og:title\" content=\"Chan Zuckerberg ID: The free, cloud-based metagenomics platform\" />\\n    <meta property=\"og:description\" content=\"Real-time pathogen detection, microbiome characterization and outbreak detection for researchers\" />\\n    <meta property=\"og:type\" content=\"website\">\\n    <meta property=\"og:image\" content=\"https://assets.prod.czid.org/assets/CZID_Meta.png\" />\\n    <meta property=\"og:image:width\" content=\"1000\" />\\n    <meta property=\"og:image:height\" content=\"500\" />\\n    <meta property=\"og:locale\" content=\"en_US\" />\\n\\n    <!-- Twitter Specific Meta Tags -->\\n    <meta name=\"twitter:card\" content=\"summary_large_image\" />\\n    <meta name=\"twitter:title\" content=\"Chan Zuckerberg ID: The free, cloud-based metagenomics platform\" />\\n    <meta name=\"twitter:description\" content=\"Real-time pathogen detection, microbiome characterization and outbreak detection for researchers\" />\\n    <meta name=\"twitter:image\" content=\"https://assets.prod.czid.org/assets/CZID_Meta.png\" />\\n\\n    <meta name=\"csrf-param\" content=\"authenticity_token\" />\\n<meta name=\"csrf-token\" content=\"sw1DeTd7fc1f04GbfoL1RUG6IvQj7rxANwUSCYzVjlDtPr29CPvofLRw_e5_QBVN0d4e5oP9MGULg9MmK1-nXA\" />\\n    <link rel=\"stylesheet\" href=\"https://assets.prod.czid.org/assets/application.debug-b614d9c11038e96f938de08bcebbd347e384ead120917dfba2a9b60e7ae6d9b5.css\" media=\"all\" data-turbolinks-track=\"reload\" />\\n    <link href=\"https://fonts.googleapis.com/icon?family=Material+Icons\" rel=\"stylesheet\"/>\\n    <!-- The following line is a side fix to work around our issue with @import url(..) declarations in Sass. -->\\n    <!-- As soon as possible, the Sass issues should be fixed and this streamlined back into our Sass build. -->\\n    <link href=\"https://fonts.googleapis.com/css?family=Open+Sans:300,400,400i,600,600i,700,700i,800\" rel=\"stylesheet\">\\n    <script src=\"https://assets.prod.czid.org/assets/vendors.debug-d616bb31d04c7717d90129b5486ce3c7cd81b77b6abc21fb4cc3c8626df9bdc8.js\"></script>\\n    <script src=\"https://assets.prod.czid.org/assets/application.debug-0d3dc721ee3f9497683397906e346bf164553f7823c36d770cd6f819fb2c72d0.js\"></script>\\n    <link rel=\"icon\" type=\"image/png\" href=\"https://assets.prod.czid.org/assets/logo-prod-cec2d5a0a8871de8fd79883cbb3ae52c52d1a5a49c6133fe21afd39daa7893db.png\"/>\\n  </head>\\n\\n  <body id=\"id-seq\">\\n    <div class=\"page\">\\n      <div id=\"page_header\">\\n    <script>\\n//<![CDATA[\\n\\n      react_component(\\'Header\\', {\\n        userSignedIn: false,\\n        disableNavigation: false,\\n        autoAccountCreationEnabled: true,\\n        announcementBannerEnabled: false,\\n        emergencyBannerMessage: \\'\\', \\n      }, \\'page_header\\')\\n\\n//]]>\\n</script></div>\\n\\n      \\n      <div id=\"page_content\" class=\"page_content\">\\n        <script>\\n//<![CDATA[\\n\\n  react_component(\\'DiscoveryViewRouter\\', {\\n  }, \\'page_content\\', JSON.parse(\\'{\"admin\":false,\"allowedFeatures\":[],\"appConfig\":{\"autoAccountCreationEnabled\":true,\"maxObjectsBulkDownload\":1000,\"maxSamplesBulkDownloadOriginalFiles\":100},\"firstSignIn\":null,\"userId\":null,\"userName\":null,\"userEmail\":null,\"userSignedIn\":false}\\'));\\n\\n//]]>\\n</script>\\n      </div>\\n    </div>\\n  </body>\\n</html>\\n'"
      ]
     },
     "execution_count": 5,
     "metadata": {},
     "output_type": "execute_result"
    }
   ],
   "source": [
    "html = fetch_html_from_url(url)\n",
    "html"
   ]
  },
  {
   "cell_type": "code",
   "execution_count": 7,
   "metadata": {},
   "outputs": [
    {
     "data": {
      "text/plain": [
       "<!DOCTYPE html>\n",
       "<html>\n",
       "<head>\n",
       "<!-- OneTrust Cookies Consent Notice for czid.org -->\n",
       "<script charset=\"UTF-8\" data-domain-script=\"1c26eebb-a1f5-496e-8e19-a26d600cae4f\" src=\"https://cdn.cookielaw.org/scripttemplates/otSDKStub.js\" type=\"text/javascript\"></script>\n",
       "<script type=\"text/javascript\">\n",
       "  function OptanonWrapper() { }\n",
       "  </script>\n",
       "<!-- Loads environment variables into window so app/assets/src/index.jsx can use them to initialize Sentry -->\n",
       "<script>\n",
       "    window.SENTRY_DSN_FRONTEND = \"https://10d7b3aea5334c918098d2decb02aeda@sentry.prod.si.czi.technology/21\";\n",
       "    window.ENVIRONMENT = \"prod\";\n",
       "    window.GIT_RELEASE_SHA = \"c04c44ce\";\n",
       "  </script>\n",
       "<!-- Global site tags for Segment analytics-->\n",
       "<!-- The script type and class properties are added here so it can give OneTrust the ability to: -->\n",
       "<!-- 1. Modify the type \"text/javascript\" which enables the Segment script (Enabling analytics) -->\n",
       "<!-- 2. Modify the type \"text/plain\" which disables the Segment script (Disabling analytics)-->\n",
       "<script class=\"optanon-category-C0002\" type=\"text/plain\">\n",
       "    // Snippet from https://segment.com/docs/sources/website/analytics.js/quickstart/\n",
       "    // Segment ID is designed to be public: https://community.segment.com/t/m26sng/writekey-accessible-by-anyone\n",
       "   !function(){var analytics=window.analytics=window.analytics||[];if(!analytics.initialize)if(analytics.invoked)window.console&&console.error&&console.error(\"Segment snippet included twice.\");else{analytics.invoked=!0;analytics.methods=[\"trackSubmit\",\"trackClick\",\"trackLink\",\"trackForm\",\"pageview\",\"identify\",\"reset\",\"group\",\"track\",\"ready\",\"alias\",\"debug\",\"page\",\"once\",\"off\",\"on\",\"addSourceMiddleware\",\"addIntegrationMiddleware\",\"setAnonymousId\",\"addDestinationMiddleware\"];analytics.factory=function(e){return function(){var t=Array.prototype.slice.call(arguments);t.unshift(e);analytics.push(t);return analytics}};for(var e=0;e<analytics.methods.length;e++){var key=analytics.methods[e];analytics[key]=analytics.factory(key)}analytics.load=function(key,e){var t=document.createElement(\"script\");t.type=\"text/javascript\";t.async=!0;t.src=\"https://cdn.segment.com/analytics.js/v1/\" + key + \"/analytics.min.js\";var n=document.getElementsByTagName(\"script\")[0];n.parentNode.insertBefore(t,n);analytics._loadOptions=e};analytics.SNIPPET_VERSION=\"4.13.1\";\n",
       "\n",
       "        // Destination middleware - filter PII from events going to Appcues destination\n",
       "        // See https://segment.com/docs/connections/sources/catalog/libraries/website/javascript/middleware/ for more information on middleware\n",
       "        const DMW = ({ payload, integration, next }) => {\n",
       "          next(payload);\n",
       "        };\n",
       "\n",
       "        analytics.addDestinationMiddleware('Appcues', [DMW]);\n",
       "        analytics.load(\"tgwv7UsjFhK61uwmQClnGi7SwuWyNtaD\");\n",
       "        window.GIT_VERSION = \"fc7b8de3\";\n",
       "        analytics.page();\n",
       "    }}();\n",
       "  </script>\n",
       "<!-- Global site tag for Plausible analytics -->\n",
       "<script data-domain=\"czid.org\" defer=\"\" src=\"https://plausible.io/js/script.js\"></script>\n",
       "<!-- SEO Tags -->\n",
       "<title>Chan Zuckerberg ID - Detect &amp; Track Infectious Diseases</title>\n",
       "<meta content=\"CZ ID: a free, cloud-based metagenomic platform for researchers, empowers global pathogen and outbreak detection and monitoring.\" name=\"description\"/>\n",
       "<meta content=\"Infectious disease, sequencing, metagenomic sequencing, genomics, Chan Zuckerberg Initiative, CZI, Chan Zuckerberg Biohub, CZ Biohub, science, next gen sequencing, research, biology, virology, bioinformatics, computational biology, global health\" name=\"keywords\"/>\n",
       "<!-- Social Media Meta Tags -->\n",
       "<meta content=\"Chan Zuckerberg ID: The free, cloud-based metagenomics platform\" property=\"og:title\"/>\n",
       "<meta content=\"Real-time pathogen detection, microbiome characterization and outbreak detection for researchers\" property=\"og:description\"/>\n",
       "<meta content=\"website\" property=\"og:type\"/>\n",
       "<meta content=\"https://assets.prod.czid.org/assets/CZID_Meta.png\" property=\"og:image\"/>\n",
       "<meta content=\"1000\" property=\"og:image:width\"/>\n",
       "<meta content=\"500\" property=\"og:image:height\"/>\n",
       "<meta content=\"en_US\" property=\"og:locale\"/>\n",
       "<!-- Twitter Specific Meta Tags -->\n",
       "<meta content=\"summary_large_image\" name=\"twitter:card\"/>\n",
       "<meta content=\"Chan Zuckerberg ID: The free, cloud-based metagenomics platform\" name=\"twitter:title\"/>\n",
       "<meta content=\"Real-time pathogen detection, microbiome characterization and outbreak detection for researchers\" name=\"twitter:description\"/>\n",
       "<meta content=\"https://assets.prod.czid.org/assets/CZID_Meta.png\" name=\"twitter:image\"/>\n",
       "<meta content=\"authenticity_token\" name=\"csrf-param\"/>\n",
       "<meta content=\"sw1DeTd7fc1f04GbfoL1RUG6IvQj7rxANwUSCYzVjlDtPr29CPvofLRw_e5_QBVN0d4e5oP9MGULg9MmK1-nXA\" name=\"csrf-token\"/>\n",
       "<link data-turbolinks-track=\"reload\" href=\"https://assets.prod.czid.org/assets/application.debug-b614d9c11038e96f938de08bcebbd347e384ead120917dfba2a9b60e7ae6d9b5.css\" media=\"all\" rel=\"stylesheet\"/>\n",
       "<link href=\"https://fonts.googleapis.com/icon?family=Material+Icons\" rel=\"stylesheet\"/>\n",
       "<!-- The following line is a side fix to work around our issue with @import url(..) declarations in Sass. -->\n",
       "<!-- As soon as possible, the Sass issues should be fixed and this streamlined back into our Sass build. -->\n",
       "<link href=\"https://fonts.googleapis.com/css?family=Open+Sans:300,400,400i,600,600i,700,700i,800\" rel=\"stylesheet\"/>\n",
       "<script src=\"https://assets.prod.czid.org/assets/vendors.debug-d616bb31d04c7717d90129b5486ce3c7cd81b77b6abc21fb4cc3c8626df9bdc8.js\"></script>\n",
       "<script src=\"https://assets.prod.czid.org/assets/application.debug-0d3dc721ee3f9497683397906e346bf164553f7823c36d770cd6f819fb2c72d0.js\"></script>\n",
       "<link href=\"https://assets.prod.czid.org/assets/logo-prod-cec2d5a0a8871de8fd79883cbb3ae52c52d1a5a49c6133fe21afd39daa7893db.png\" rel=\"icon\" type=\"image/png\"/>\n",
       "</head>\n",
       "<body id=\"id-seq\">\n",
       "<div class=\"page\">\n",
       "<div id=\"page_header\">\n",
       "<script>\n",
       "//<![CDATA[\n",
       "\n",
       "      react_component('Header', {\n",
       "        userSignedIn: false,\n",
       "        disableNavigation: false,\n",
       "        autoAccountCreationEnabled: true,\n",
       "        announcementBannerEnabled: false,\n",
       "        emergencyBannerMessage: '', \n",
       "      }, 'page_header')\n",
       "\n",
       "//]]>\n",
       "</script></div>\n",
       "<div class=\"page_content\" id=\"page_content\">\n",
       "<script>\n",
       "//<![CDATA[\n",
       "\n",
       "  react_component('DiscoveryViewRouter', {\n",
       "  }, 'page_content', JSON.parse('{\"admin\":false,\"allowedFeatures\":[],\"appConfig\":{\"autoAccountCreationEnabled\":true,\"maxObjectsBulkDownload\":1000,\"maxSamplesBulkDownloadOriginalFiles\":100},\"firstSignIn\":null,\"userId\":null,\"userName\":null,\"userEmail\":null,\"userSignedIn\":false}'));\n",
       "\n",
       "//]]>\n",
       "</script>\n",
       "</div>\n",
       "</div>\n",
       "</body>\n",
       "</html>"
      ]
     },
     "execution_count": 7,
     "metadata": {},
     "output_type": "execute_result"
    }
   ],
   "source": [
    "from soup import make_soup\n",
    "\n",
    "\n",
    "soup = make_soup(html)\n",
    "soup"
   ]
  },
  {
   "cell_type": "code",
   "execution_count": 9,
   "metadata": {},
   "outputs": [
    {
     "data": {
      "text/plain": [
       "[]"
      ]
     },
     "execution_count": 9,
     "metadata": {},
     "output_type": "execute_result"
    }
   ],
   "source": [
    "soup.find_all(class_=\"column\")"
   ]
  },
  {
   "cell_type": "code",
   "execution_count": 11,
   "metadata": {},
   "outputs": [],
   "source": [
    "with open('pathogen.json','r') as f:\n",
    "    js = f.read()"
   ]
  },
  {
   "cell_type": "code",
   "execution_count": 13,
   "metadata": {},
   "outputs": [],
   "source": [
    "\n",
    "import pandas as pd"
   ]
  },
  {
   "cell_type": "code",
   "execution_count": 23,
   "metadata": {},
   "outputs": [],
   "source": [
    "import json \n",
    "dct = json.loads(js)['data']\n",
    "pathogens = pd.DataFrame(dct['pathogenList']['pathogens'])\n",
    "pathogens.to_csv('pathogen.csv')"
   ]
  },
  {
   "cell_type": "code",
   "execution_count": 32,
   "metadata": {},
   "outputs": [],
   "source": [
    "pathogens['url'] = pathogens['taxId'].apply(lambda x: f'https://www.ncbi.nlm.nih.gov/Taxonomy/Browser/wwwtax.cgi?mode=Info&amp;id={str(x)}')\n",
    "\n",
    "pathogens.to_csv('pathogens.csv')\n"
   ]
  },
  {
   "cell_type": "code",
   "execution_count": null,
   "metadata": {},
   "outputs": [],
   "source": []
  },
  {
   "cell_type": "code",
   "execution_count": null,
   "metadata": {},
   "outputs": [],
   "source": []
  },
  {
   "cell_type": "code",
   "execution_count": null,
   "metadata": {},
   "outputs": [],
   "source": []
  },
  {
   "cell_type": "code",
   "execution_count": 27,
   "metadata": {},
   "outputs": [],
   "source": [
    "pathogens.to_csv('pathogen.csv')"
   ]
  },
  {
   "cell_type": "code",
   "execution_count": 29,
   "metadata": {},
   "outputs": [],
   "source": [
    "pathogens.to_csv('pathogen_url.csv')"
   ]
  },
  {
   "cell_type": "code",
   "execution_count": null,
   "metadata": {},
   "outputs": [],
   "source": []
  },
  {
   "cell_type": "code",
   "execution_count": null,
   "metadata": {},
   "outputs": [],
   "source": []
  },
  {
   "cell_type": "code",
   "execution_count": null,
   "metadata": {},
   "outputs": [],
   "source": []
  },
  {
   "cell_type": "code",
   "execution_count": null,
   "metadata": {},
   "outputs": [],
   "source": []
  },
  {
   "cell_type": "code",
   "execution_count": null,
   "metadata": {},
   "outputs": [],
   "source": []
  },
  {
   "cell_type": "code",
   "execution_count": null,
   "metadata": {},
   "outputs": [],
   "source": []
  },
  {
   "cell_type": "code",
   "execution_count": null,
   "metadata": {},
   "outputs": [],
   "source": []
  },
  {
   "cell_type": "code",
   "execution_count": null,
   "metadata": {},
   "outputs": [],
   "source": []
  },
  {
   "cell_type": "code",
   "execution_count": null,
   "metadata": {},
   "outputs": [],
   "source": []
  },
  {
   "cell_type": "code",
   "execution_count": null,
   "metadata": {},
   "outputs": [],
   "source": []
  },
  {
   "cell_type": "code",
   "execution_count": null,
   "metadata": {},
   "outputs": [],
   "source": []
  },
  {
   "cell_type": "code",
   "execution_count": null,
   "metadata": {},
   "outputs": [],
   "source": []
  },
  {
   "cell_type": "code",
   "execution_count": null,
   "metadata": {},
   "outputs": [],
   "source": []
  },
  {
   "cell_type": "code",
   "execution_count": null,
   "metadata": {},
   "outputs": [],
   "source": []
  },
  {
   "cell_type": "code",
   "execution_count": null,
   "metadata": {},
   "outputs": [],
   "source": []
  },
  {
   "cell_type": "code",
   "execution_count": null,
   "metadata": {},
   "outputs": [],
   "source": []
  },
  {
   "cell_type": "code",
   "execution_count": null,
   "metadata": {},
   "outputs": [],
   "source": []
  },
  {
   "cell_type": "code",
   "execution_count": null,
   "metadata": {},
   "outputs": [],
   "source": []
  },
  {
   "cell_type": "code",
   "execution_count": null,
   "metadata": {},
   "outputs": [],
   "source": []
  }
 ],
 "metadata": {
  "kernelspec": {
   "display_name": "Python 3",
   "language": "python",
   "name": "python3"
  },
  "language_info": {
   "codemirror_mode": {
    "name": "ipython",
    "version": 3
   },
   "file_extension": ".py",
   "mimetype": "text/x-python",
   "name": "python",
   "nbconvert_exporter": "python",
   "pygments_lexer": "ipython3",
   "version": "3.8.10"
  }
 },
 "nbformat": 4,
 "nbformat_minor": 2
}
